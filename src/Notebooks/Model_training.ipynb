{
 "cells": [
  {
   "cell_type": "code",
   "execution_count": 4,
   "metadata": {},
   "outputs": [],
   "source": [
    "%matplotlib inline\n",
    "import matplotlib.pyplot as plt\n",
    "plt.rcParams['figure.figsize'] = (12,8)\n",
    "import numpy as np\n",
    "import tensorflow as tf\n",
    "import keras\n",
    "import pandas as pd\n",
    "from keras_tqdm import TQDMNotebookCallback"
   ]
  },
  {
   "cell_type": "code",
   "execution_count": 5,
   "metadata": {},
   "outputs": [],
   "source": [
    "from keras.preprocessing.sequence import pad_sequences\n",
    "\n",
    "def data_generator(batch_size, tfrecord, start_frac=0, end_frac=1):\n",
    "    '''\n",
    "    Shuffles the Audioset training data and returns a generator of training data and boolean gunshot labels\n",
    "    batch_size: batch size for each set of training data and labels\n",
    "    tfrecord: filestring of the tfrecord file to train on\n",
    "    start_frac: the starting point of the data set to use, as a fraction of total record length (used for CV)\n",
    "    end_frac: the ending point of the data set to use, as a fraction of total record length (used for CV)\n",
    "    '''\n",
    "    max_len=10\n",
    "    #tfrecord holds data in binary sequence string. \n",
    "    records = list(tf.python_io.tf_record_iterator(tfrecord))  #records holds the array of the tfrecord file\n",
    "    if(tfrecord == '../data/preprocessed/bal_gunspotting_in_school_subset.tfrecord'):\n",
    "        print(\"Total audioframes in training dataset:\", len(records))\n",
    "    elif(tfrecord == '../data/preprocessed/eval_gunspotting_in_school_subset.tfrecord'):\n",
    "        print(\"Total audioframes in eval dataset:\", len(records))\n",
    "        \n",
    "    records = records[int(start_frac*len(records)):int(end_frac*len(records))]  # Make train_set & CV_set \n",
    "    print(\"After fractioning:\")\n",
    "    if(tfrecord == '../data/preprocessed/bal_gunspotting_in_school_subset.tfrecord'):\n",
    "        print(\"Total audioframes in training dataset:\", len(records))\n",
    "    elif(tfrecord == '../data/preprocessed/eval_gunspotting_in_school_subset.tfrecord'):\n",
    "        print(\"Total audioframes in eval dataset:\", len(records))\n",
    "    \n",
    "    rec_len = len(records)  # this is your train set, rest is CV_set\n",
    "    \n",
    "    shuffle = np.random.permutation(range(rec_len))\n",
    "    num_batches = rec_len//batch_size - 1                      \n",
    "    j = 0\n",
    "    \n",
    "    gun_labels = [426,427,428,429,430,431]\n",
    "    \n",
    "    while True:\n",
    "        X = []\n",
    "        y = []  \n",
    "        for idx in shuffle[j*batch_size:(j+1)*batch_size]:\n",
    "            example = records[idx]\n",
    "            tf_seq_example = tf.train.SequenceExample.FromString(example)\n",
    "            example_label = list(np.asarray(tf_seq_example.context.feature['labels'].int64_list.value))\n",
    "            value_x = any((True for x in example_label if x in gun_labels)) #add f_bin, b_bin, other_bin\n",
    "            if(value_x==True):\n",
    "                y.append(1)      #[1,1,0,1,0...] \n",
    "            else:\n",
    "                y.append(0)\n",
    "                \n",
    "            n_frames = len(tf_seq_example.feature_lists.feature_list['audio_embedding'].feature)\n",
    "            audio_frame = []\n",
    "            for i in range(n_frames):\n",
    "                audio_frame.append(np.frombuffer(tf_seq_example.feature_lists.feature_list['audio_embedding'].\n",
    "                                                         feature[i].bytes_list.value[0],np.uint8).astype(np.float32)) # audio_frame gets 128 8 bit numbers on each for loop iteration\n",
    "            pad = [np.zeros([128], np.float32) for i in range(max_len-n_frames)] \n",
    "            # if clip is less than 10 sec, audio_frame is padded with zeros for \n",
    "            #rest of the secs to make it to 10 sec.\n",
    "            \n",
    "            audio_frame += pad\n",
    "            X.append(audio_frame) #eg: X[5] will output 5th audioframe \n",
    "\n",
    "        j += 1\n",
    "        if j >= num_batches:\n",
    "            shuffle = np.random.permutation(range(rec_len))\n",
    "            j = 0\n",
    "\n",
    "        X = np.array(X)\n",
    "        yield X, np.array(y)"
   ]
  },
  {
   "cell_type": "code",
   "execution_count": 90,
   "metadata": {},
   "outputs": [],
   "source": [
    "#Logistic Regression"
   ]
  },
  {
   "cell_type": "code",
   "execution_count": 91,
   "metadata": {},
   "outputs": [],
   "source": [
    "from keras.models import Sequential\n",
    "from keras.layers import Dense, BatchNormalization, Flatten\n",
    "from keras import optimizers\n",
    "\n",
    "lr_model = Sequential()\n",
    "# lr_model.add(Flatten(input_shape = (10,128)))\n",
    "lr_model.add(BatchNormalization(input_shape=(10, 128)))\n",
    "lr_model.add(Flatten())\n",
    "lr_model.add(Dense(1, activation='sigmoid')) \n",
    "adam = optimizers.Adam(lr=0.1)\n",
    "lr_model.compile(loss = 'binary_crossentropy',\n",
    "              optimizer=adam,\n",
    "              metrics=['accuracy'])"
   ]
  },
  {
   "cell_type": "code",
   "execution_count": 92,
   "metadata": {},
   "outputs": [
    {
     "data": {
      "application/vnd.jupyter.widget-view+json": {
       "model_id": "cb3db4dfcf5548578ba4d4a3383b1011",
       "version_major": 2,
       "version_minor": 0
      },
      "text/plain": [
       "HBox(children=(IntProgress(value=0, description='Training', max=70, style=ProgressStyle(description_width='ini…"
      ]
     },
     "metadata": {},
     "output_type": "display_data"
    },
    {
     "name": "stdout",
     "output_type": "stream",
     "text": [
      "Epoch 1/70\n"
     ]
    },
    {
     "data": {
      "application/vnd.jupyter.widget-view+json": {
       "model_id": "",
       "version_major": 2,
       "version_minor": 0
      },
      "text/plain": [
       "HBox(children=(IntProgress(value=0, description='Epoch 0', max=397, style=ProgressStyle(description_width='ini…"
      ]
     },
     "metadata": {},
     "output_type": "display_data"
    },
    {
     "name": "stdout",
     "output_type": "stream",
     "text": [
      "Total audioframes in training dataset: 17662\n",
      "After fractioning:\n",
      "Total audioframes in training dataset: 1767\n",
      "Total audioframes in training dataset: 17662\n",
      "After fractioning:\n",
      "Total audioframes in training dataset: 15895\n",
      "397/397 [==============================] - 9s 24ms/step - loss: 2.5062 - acc: 0.8307 - val_loss: 2.2422 - val_acc: 0.8562\n",
      "Epoch 2/70\n"
     ]
    },
    {
     "data": {
      "application/vnd.jupyter.widget-view+json": {
       "model_id": "",
       "version_major": 2,
       "version_minor": 0
      },
      "text/plain": [
       "HBox(children=(IntProgress(value=0, description='Epoch 1', max=397, style=ProgressStyle(description_width='ini…"
      ]
     },
     "metadata": {},
     "output_type": "display_data"
    },
    {
     "name": "stdout",
     "output_type": "stream",
     "text": [
      "397/397 [==============================] - 6s 16ms/step - loss: 2.7683 - acc: 0.8256 - val_loss: 2.7085 - val_acc: 0.8301\n",
      "Epoch 3/70\n"
     ]
    },
    {
     "data": {
      "application/vnd.jupyter.widget-view+json": {
       "model_id": "",
       "version_major": 2,
       "version_minor": 0
      },
      "text/plain": [
       "HBox(children=(IntProgress(value=0, description='Epoch 2', max=397, style=ProgressStyle(description_width='ini…"
      ]
     },
     "metadata": {},
     "output_type": "display_data"
    },
    {
     "name": "stdout",
     "output_type": "stream",
     "text": [
      "397/397 [==============================] - 6s 16ms/step - loss: 2.4801 - acc: 0.8444 - val_loss: 2.1915 - val_acc: 0.8625\n",
      "Epoch 4/70\n"
     ]
    },
    {
     "data": {
      "application/vnd.jupyter.widget-view+json": {
       "model_id": "",
       "version_major": 2,
       "version_minor": 0
      },
      "text/plain": [
       "HBox(children=(IntProgress(value=0, description='Epoch 3', max=397, style=ProgressStyle(description_width='ini…"
      ]
     },
     "metadata": {},
     "output_type": "display_data"
    },
    {
     "name": "stdout",
     "output_type": "stream",
     "text": [
      "397/397 [==============================] - 8s 19ms/step - loss: 2.7336 - acc: 0.8284 - val_loss: 2.4599 - val_acc: 0.8466\n",
      "Epoch 5/70\n"
     ]
    },
    {
     "data": {
      "application/vnd.jupyter.widget-view+json": {
       "model_id": "",
       "version_major": 2,
       "version_minor": 0
      },
      "text/plain": [
       "HBox(children=(IntProgress(value=0, description='Epoch 4', max=397, style=ProgressStyle(description_width='ini…"
      ]
     },
     "metadata": {},
     "output_type": "display_data"
    },
    {
     "name": "stdout",
     "output_type": "stream",
     "text": [
      "397/397 [==============================] - 8s 21ms/step - loss: 2.5835 - acc: 0.8384 - val_loss: 2.0553 - val_acc: 0.8716\n",
      "Epoch 6/70\n"
     ]
    },
    {
     "data": {
      "application/vnd.jupyter.widget-view+json": {
       "model_id": "",
       "version_major": 2,
       "version_minor": 0
      },
      "text/plain": [
       "HBox(children=(IntProgress(value=0, description='Epoch 5', max=397, style=ProgressStyle(description_width='ini…"
      ]
     },
     "metadata": {},
     "output_type": "display_data"
    },
    {
     "name": "stdout",
     "output_type": "stream",
     "text": [
      "397/397 [==============================] - 7s 18ms/step - loss: 2.7740 - acc: 0.8261 - val_loss: 2.3985 - val_acc: 0.8494\n",
      "Epoch 7/70\n"
     ]
    },
    {
     "data": {
      "application/vnd.jupyter.widget-view+json": {
       "model_id": "",
       "version_major": 2,
       "version_minor": 0
      },
      "text/plain": [
       "HBox(children=(IntProgress(value=0, description='Epoch 6', max=397, style=ProgressStyle(description_width='ini…"
      ]
     },
     "metadata": {},
     "output_type": "display_data"
    },
    {
     "name": "stdout",
     "output_type": "stream",
     "text": [
      "397/397 [==============================] - 7s 17ms/step - loss: 2.5645 - acc: 0.8401 - val_loss: 2.7983 - val_acc: 0.8256\n",
      "Epoch 8/70\n"
     ]
    },
    {
     "data": {
      "application/vnd.jupyter.widget-view+json": {
       "model_id": "",
       "version_major": 2,
       "version_minor": 0
      },
      "text/plain": [
       "HBox(children=(IntProgress(value=0, description='Epoch 7', max=397, style=ProgressStyle(description_width='ini…"
      ]
     },
     "metadata": {},
     "output_type": "display_data"
    },
    {
     "name": "stdout",
     "output_type": "stream",
     "text": [
      "397/397 [==============================] - 7s 19ms/step - loss: 2.6877 - acc: 0.8322 - val_loss: 2.7789 - val_acc: 0.8273\n",
      "Epoch 9/70\n"
     ]
    },
    {
     "data": {
      "application/vnd.jupyter.widget-view+json": {
       "model_id": "",
       "version_major": 2,
       "version_minor": 0
      },
      "text/plain": [
       "HBox(children=(IntProgress(value=0, description='Epoch 8', max=397, style=ProgressStyle(description_width='ini…"
      ]
     },
     "metadata": {},
     "output_type": "display_data"
    },
    {
     "name": "stdout",
     "output_type": "stream",
     "text": [
      "397/397 [==============================] - 6s 16ms/step - loss: 2.6019 - acc: 0.8378 - val_loss: 2.1383 - val_acc: 0.8659\n",
      "Epoch 10/70\n"
     ]
    },
    {
     "data": {
      "application/vnd.jupyter.widget-view+json": {
       "model_id": "",
       "version_major": 2,
       "version_minor": 0
      },
      "text/plain": [
       "HBox(children=(IntProgress(value=0, description='Epoch 9', max=397, style=ProgressStyle(description_width='ini…"
      ]
     },
     "metadata": {},
     "output_type": "display_data"
    },
    {
     "name": "stdout",
     "output_type": "stream",
     "text": [
      "397/397 [==============================] - 7s 17ms/step - loss: 2.5006 - acc: 0.8441 - val_loss: 2.4466 - val_acc: 0.8477\n",
      "Epoch 11/70\n"
     ]
    },
    {
     "data": {
      "application/vnd.jupyter.widget-view+json": {
       "model_id": "",
       "version_major": 2,
       "version_minor": 0
      },
      "text/plain": [
       "HBox(children=(IntProgress(value=0, description='Epoch 10', max=397, style=ProgressStyle(description_width='in…"
      ]
     },
     "metadata": {},
     "output_type": "display_data"
    },
    {
     "name": "stdout",
     "output_type": "stream",
     "text": [
      "397/397 [==============================] - 6s 16ms/step - loss: 2.4552 - acc: 0.8471 - val_loss: 2.2883 - val_acc: 0.8568\n",
      "Epoch 12/70\n"
     ]
    },
    {
     "data": {
      "application/vnd.jupyter.widget-view+json": {
       "model_id": "",
       "version_major": 2,
       "version_minor": 0
      },
      "text/plain": [
       "HBox(children=(IntProgress(value=0, description='Epoch 11', max=397, style=ProgressStyle(description_width='in…"
      ]
     },
     "metadata": {},
     "output_type": "display_data"
    },
    {
     "name": "stdout",
     "output_type": "stream",
     "text": [
      "397/397 [==============================] - 6s 16ms/step - loss: 2.3856 - acc: 0.8508 - val_loss: 2.5211 - val_acc: 0.8432\n",
      "Epoch 13/70\n"
     ]
    },
    {
     "data": {
      "application/vnd.jupyter.widget-view+json": {
       "model_id": "",
       "version_major": 2,
       "version_minor": 0
      },
      "text/plain": [
       "HBox(children=(IntProgress(value=0, description='Epoch 12', max=397, style=ProgressStyle(description_width='in…"
      ]
     },
     "metadata": {},
     "output_type": "display_data"
    },
    {
     "name": "stdout",
     "output_type": "stream",
     "text": [
      "397/397 [==============================] - 6s 16ms/step - loss: 2.3190 - acc: 0.8549 - val_loss: 2.1746 - val_acc: 0.8636\n",
      "Epoch 14/70\n"
     ]
    },
    {
     "data": {
      "application/vnd.jupyter.widget-view+json": {
       "model_id": "",
       "version_major": 2,
       "version_minor": 0
      },
      "text/plain": [
       "HBox(children=(IntProgress(value=0, description='Epoch 13', max=397, style=ProgressStyle(description_width='in…"
      ]
     },
     "metadata": {},
     "output_type": "display_data"
    },
    {
     "name": "stdout",
     "output_type": "stream",
     "text": [
      "397/397 [==============================] - 6s 15ms/step - loss: 2.3765 - acc: 0.8519 - val_loss: 2.6348 - val_acc: 0.8358\n",
      "Epoch 15/70\n"
     ]
    },
    {
     "data": {
      "application/vnd.jupyter.widget-view+json": {
       "model_id": "",
       "version_major": 2,
       "version_minor": 0
      },
      "text/plain": [
       "HBox(children=(IntProgress(value=0, description='Epoch 14', max=397, style=ProgressStyle(description_width='in…"
      ]
     },
     "metadata": {},
     "output_type": "display_data"
    },
    {
     "name": "stdout",
     "output_type": "stream",
     "text": [
      "397/397 [==============================] - 6s 15ms/step - loss: 2.2611 - acc: 0.8589 - val_loss: 2.4716 - val_acc: 0.8460\n",
      "Epoch 16/70\n"
     ]
    },
    {
     "data": {
      "application/vnd.jupyter.widget-view+json": {
       "model_id": "",
       "version_major": 2,
       "version_minor": 0
      },
      "text/plain": [
       "HBox(children=(IntProgress(value=0, description='Epoch 15', max=397, style=ProgressStyle(description_width='in…"
      ]
     },
     "metadata": {},
     "output_type": "display_data"
    },
    {
     "name": "stdout",
     "output_type": "stream",
     "text": [
      "397/397 [==============================] - 6s 16ms/step - loss: 2.3876 - acc: 0.8514 - val_loss: 2.4640 - val_acc: 0.8466\n",
      "Epoch 17/70\n"
     ]
    },
    {
     "data": {
      "application/vnd.jupyter.widget-view+json": {
       "model_id": "",
       "version_major": 2,
       "version_minor": 0
      },
      "text/plain": [
       "HBox(children=(IntProgress(value=0, description='Epoch 16', max=397, style=ProgressStyle(description_width='in…"
      ]
     },
     "metadata": {},
     "output_type": "display_data"
    },
    {
     "name": "stdout",
     "output_type": "stream",
     "text": [
      "397/397 [==============================] - 6s 16ms/step - loss: 2.7403 - acc: 0.8283 - val_loss: 2.4238 - val_acc: 0.8489\n",
      "Epoch 18/70\n"
     ]
    },
    {
     "data": {
      "application/vnd.jupyter.widget-view+json": {
       "model_id": "",
       "version_major": 2,
       "version_minor": 0
      },
      "text/plain": [
       "HBox(children=(IntProgress(value=0, description='Epoch 17', max=397, style=ProgressStyle(description_width='in…"
      ]
     },
     "metadata": {},
     "output_type": "display_data"
    },
    {
     "name": "stdout",
     "output_type": "stream",
     "text": [
      "397/397 [==============================] - 6s 16ms/step - loss: 2.3661 - acc: 0.8522 - val_loss: 2.1332 - val_acc: 0.8670\n",
      "Epoch 19/70\n"
     ]
    },
    {
     "data": {
      "application/vnd.jupyter.widget-view+json": {
       "model_id": "",
       "version_major": 2,
       "version_minor": 0
      },
      "text/plain": [
       "HBox(children=(IntProgress(value=0, description='Epoch 18', max=397, style=ProgressStyle(description_width='in…"
      ]
     },
     "metadata": {},
     "output_type": "display_data"
    },
    {
     "name": "stdout",
     "output_type": "stream",
     "text": [
      "397/397 [==============================] - 6s 16ms/step - loss: 2.2496 - acc: 0.8596 - val_loss: 2.4151 - val_acc: 0.8494\n",
      "Epoch 20/70\n"
     ]
    },
    {
     "data": {
      "application/vnd.jupyter.widget-view+json": {
       "model_id": "",
       "version_major": 2,
       "version_minor": 0
      },
      "text/plain": [
       "HBox(children=(IntProgress(value=0, description='Epoch 19', max=397, style=ProgressStyle(description_width='in…"
      ]
     },
     "metadata": {},
     "output_type": "display_data"
    },
    {
     "name": "stdout",
     "output_type": "stream",
     "text": [
      "397/397 [==============================] - 6s 16ms/step - loss: 3.0493 - acc: 0.8105 - val_loss: 4.0823 - val_acc: 0.7466\n",
      "Epoch 21/70\n"
     ]
    },
    {
     "data": {
      "application/vnd.jupyter.widget-view+json": {
       "model_id": "",
       "version_major": 2,
       "version_minor": 0
      },
      "text/plain": [
       "HBox(children=(IntProgress(value=0, description='Epoch 20', max=397, style=ProgressStyle(description_width='in…"
      ]
     },
     "metadata": {},
     "output_type": "display_data"
    },
    {
     "name": "stdout",
     "output_type": "stream",
     "text": [
      "397/397 [==============================] - 6s 16ms/step - loss: 2.9470 - acc: 0.8167 - val_loss: 3.2653 - val_acc: 0.7972\n",
      "Epoch 22/70\n"
     ]
    },
    {
     "data": {
      "application/vnd.jupyter.widget-view+json": {
       "model_id": "",
       "version_major": 2,
       "version_minor": 0
      },
      "text/plain": [
       "HBox(children=(IntProgress(value=0, description='Epoch 21', max=397, style=ProgressStyle(description_width='in…"
      ]
     },
     "metadata": {},
     "output_type": "display_data"
    },
    {
     "name": "stdout",
     "output_type": "stream",
     "text": [
      "397/397 [==============================] - 7s 16ms/step - loss: 3.2207 - acc: 0.7999 - val_loss: 2.2207 - val_acc: 0.8614\n",
      "Epoch 23/70\n"
     ]
    },
    {
     "data": {
      "application/vnd.jupyter.widget-view+json": {
       "model_id": "",
       "version_major": 2,
       "version_minor": 0
      },
      "text/plain": [
       "HBox(children=(IntProgress(value=0, description='Epoch 22', max=397, style=ProgressStyle(description_width='in…"
      ]
     },
     "metadata": {},
     "output_type": "display_data"
    },
    {
     "name": "stdout",
     "output_type": "stream",
     "text": [
      "397/397 [==============================] - 6s 16ms/step - loss: 2.3774 - acc: 0.8519 - val_loss: 2.2804 - val_acc: 0.8580\n",
      "Epoch 24/70\n"
     ]
    },
    {
     "data": {
      "application/vnd.jupyter.widget-view+json": {
       "model_id": "",
       "version_major": 2,
       "version_minor": 0
      },
      "text/plain": [
       "HBox(children=(IntProgress(value=0, description='Epoch 23', max=397, style=ProgressStyle(description_width='in…"
      ]
     },
     "metadata": {},
     "output_type": "display_data"
    },
    {
     "name": "stdout",
     "output_type": "stream",
     "text": [
      "397/397 [==============================] - 6s 16ms/step - loss: 2.2796 - acc: 0.8579 - val_loss: 2.2090 - val_acc: 0.8625\n",
      "Epoch 25/70\n"
     ]
    },
    {
     "data": {
      "application/vnd.jupyter.widget-view+json": {
       "model_id": "",
       "version_major": 2,
       "version_minor": 0
      },
      "text/plain": [
       "HBox(children=(IntProgress(value=0, description='Epoch 24', max=397, style=ProgressStyle(description_width='in…"
      ]
     },
     "metadata": {},
     "output_type": "display_data"
    },
    {
     "name": "stdout",
     "output_type": "stream",
     "text": [
      "397/397 [==============================] - 6s 16ms/step - loss: 2.2814 - acc: 0.8575 - val_loss: 2.5116 - val_acc: 0.8426\n",
      "Epoch 26/70\n"
     ]
    },
    {
     "data": {
      "application/vnd.jupyter.widget-view+json": {
       "model_id": "",
       "version_major": 2,
       "version_minor": 0
      },
      "text/plain": [
       "HBox(children=(IntProgress(value=0, description='Epoch 25', max=397, style=ProgressStyle(description_width='in…"
      ]
     },
     "metadata": {},
     "output_type": "display_data"
    },
    {
     "name": "stdout",
     "output_type": "stream",
     "text": [
      "397/397 [==============================] - 7s 18ms/step - loss: 2.2428 - acc: 0.8600 - val_loss: 2.3464 - val_acc: 0.8540\n",
      "Epoch 27/70\n"
     ]
    },
    {
     "data": {
      "application/vnd.jupyter.widget-view+json": {
       "model_id": "",
       "version_major": 2,
       "version_minor": 0
      },
      "text/plain": [
       "HBox(children=(IntProgress(value=0, description='Epoch 26', max=397, style=ProgressStyle(description_width='in…"
      ]
     },
     "metadata": {},
     "output_type": "display_data"
    },
    {
     "name": "stdout",
     "output_type": "stream",
     "text": [
      "397/397 [==============================] - 6s 15ms/step - loss: 2.2626 - acc: 0.8590 - val_loss: 2.3511 - val_acc: 0.8534\n",
      "Epoch 28/70\n"
     ]
    },
    {
     "data": {
      "application/vnd.jupyter.widget-view+json": {
       "model_id": "",
       "version_major": 2,
       "version_minor": 0
      },
      "text/plain": [
       "HBox(children=(IntProgress(value=0, description='Epoch 27', max=397, style=ProgressStyle(description_width='in…"
      ]
     },
     "metadata": {},
     "output_type": "display_data"
    },
    {
     "name": "stdout",
     "output_type": "stream",
     "text": [
      "397/397 [==============================] - 7s 17ms/step - loss: 2.2638 - acc: 0.8589 - val_loss: 2.1739 - val_acc: 0.8636\n",
      "Epoch 29/70\n"
     ]
    },
    {
     "data": {
      "application/vnd.jupyter.widget-view+json": {
       "model_id": "",
       "version_major": 2,
       "version_minor": 0
      },
      "text/plain": [
       "HBox(children=(IntProgress(value=0, description='Epoch 28', max=397, style=ProgressStyle(description_width='in…"
      ]
     },
     "metadata": {},
     "output_type": "display_data"
    },
    {
     "name": "stdout",
     "output_type": "stream",
     "text": [
      "397/397 [==============================] - 7s 17ms/step - loss: 2.1199 - acc: 0.8677 - val_loss: 2.2624 - val_acc: 0.8591\n",
      "Epoch 30/70\n"
     ]
    },
    {
     "data": {
      "application/vnd.jupyter.widget-view+json": {
       "model_id": "",
       "version_major": 2,
       "version_minor": 0
      },
      "text/plain": [
       "HBox(children=(IntProgress(value=0, description='Epoch 29', max=397, style=ProgressStyle(description_width='in…"
      ]
     },
     "metadata": {},
     "output_type": "display_data"
    },
    {
     "name": "stdout",
     "output_type": "stream",
     "text": [
      "397/397 [==============================] - 7s 18ms/step - loss: 2.1848 - acc: 0.8640 - val_loss: 2.0619 - val_acc: 0.8716\n",
      "Epoch 31/70\n"
     ]
    },
    {
     "data": {
      "application/vnd.jupyter.widget-view+json": {
       "model_id": "",
       "version_major": 2,
       "version_minor": 0
      },
      "text/plain": [
       "HBox(children=(IntProgress(value=0, description='Epoch 30', max=397, style=ProgressStyle(description_width='in…"
      ]
     },
     "metadata": {},
     "output_type": "display_data"
    },
    {
     "name": "stdout",
     "output_type": "stream",
     "text": [
      "397/397 [==============================] - 7s 16ms/step - loss: 2.2206 - acc: 0.8616 - val_loss: 2.3678 - val_acc: 0.8523\n",
      "Epoch 32/70\n"
     ]
    },
    {
     "data": {
      "application/vnd.jupyter.widget-view+json": {
       "model_id": "",
       "version_major": 2,
       "version_minor": 0
      },
      "text/plain": [
       "HBox(children=(IntProgress(value=0, description='Epoch 31', max=397, style=ProgressStyle(description_width='in…"
      ]
     },
     "metadata": {},
     "output_type": "display_data"
    },
    {
     "name": "stdout",
     "output_type": "stream",
     "text": [
      "397/397 [==============================] - 7s 17ms/step - loss: 2.2816 - acc: 0.8576 - val_loss: 2.5248 - val_acc: 0.8420\n",
      "Epoch 33/70\n"
     ]
    },
    {
     "data": {
      "application/vnd.jupyter.widget-view+json": {
       "model_id": "",
       "version_major": 2,
       "version_minor": 0
      },
      "text/plain": [
       "HBox(children=(IntProgress(value=0, description='Epoch 32', max=397, style=ProgressStyle(description_width='in…"
      ]
     },
     "metadata": {},
     "output_type": "display_data"
    },
    {
     "name": "stdout",
     "output_type": "stream",
     "text": [
      "397/397 [==============================] - 7s 17ms/step - loss: 3.1069 - acc: 0.8054 - val_loss: 2.2046 - val_acc: 0.8625\n",
      "Epoch 34/70\n"
     ]
    },
    {
     "data": {
      "application/vnd.jupyter.widget-view+json": {
       "model_id": "",
       "version_major": 2,
       "version_minor": 0
      },
      "text/plain": [
       "HBox(children=(IntProgress(value=0, description='Epoch 33', max=397, style=ProgressStyle(description_width='in…"
      ]
     },
     "metadata": {},
     "output_type": "display_data"
    },
    {
     "name": "stdout",
     "output_type": "stream",
     "text": [
      "397/397 [==============================] - 7s 18ms/step - loss: 2.2386 - acc: 0.8604 - val_loss: 2.1675 - val_acc: 0.8648\n",
      "Epoch 35/70\n"
     ]
    },
    {
     "data": {
      "application/vnd.jupyter.widget-view+json": {
       "model_id": "",
       "version_major": 2,
       "version_minor": 0
      },
      "text/plain": [
       "HBox(children=(IntProgress(value=0, description='Epoch 34', max=397, style=ProgressStyle(description_width='in…"
      ]
     },
     "metadata": {},
     "output_type": "display_data"
    },
    {
     "name": "stdout",
     "output_type": "stream",
     "text": [
      "397/397 [==============================] - 7s 18ms/step - loss: 2.3589 - acc: 0.8531 - val_loss: 2.2581 - val_acc: 0.8591\n",
      "Epoch 36/70\n"
     ]
    },
    {
     "data": {
      "application/vnd.jupyter.widget-view+json": {
       "model_id": "",
       "version_major": 2,
       "version_minor": 0
      },
      "text/plain": [
       "HBox(children=(IntProgress(value=0, description='Epoch 35', max=397, style=ProgressStyle(description_width='in…"
      ]
     },
     "metadata": {},
     "output_type": "display_data"
    },
    {
     "name": "stdout",
     "output_type": "stream",
     "text": [
      "397/397 [==============================] - 7s 17ms/step - loss: 2.4316 - acc: 0.8487 - val_loss: 2.9905 - val_acc: 0.8142\n",
      "Epoch 37/70\n"
     ]
    },
    {
     "data": {
      "application/vnd.jupyter.widget-view+json": {
       "model_id": "",
       "version_major": 2,
       "version_minor": 0
      },
      "text/plain": [
       "HBox(children=(IntProgress(value=0, description='Epoch 36', max=397, style=ProgressStyle(description_width='in…"
      ]
     },
     "metadata": {},
     "output_type": "display_data"
    },
    {
     "name": "stdout",
     "output_type": "stream",
     "text": [
      "397/397 [==============================] - 7s 17ms/step - loss: 2.4019 - acc: 0.8503 - val_loss: 2.1863 - val_acc: 0.8636\n",
      "Epoch 38/70\n"
     ]
    },
    {
     "data": {
      "application/vnd.jupyter.widget-view+json": {
       "model_id": "",
       "version_major": 2,
       "version_minor": 0
      },
      "text/plain": [
       "HBox(children=(IntProgress(value=0, description='Epoch 37', max=397, style=ProgressStyle(description_width='in…"
      ]
     },
     "metadata": {},
     "output_type": "display_data"
    },
    {
     "name": "stdout",
     "output_type": "stream",
     "text": [
      "397/397 [==============================] - 6s 16ms/step - loss: 2.3304 - acc: 0.8545 - val_loss: 2.0291 - val_acc: 0.8733\n",
      "Epoch 39/70\n"
     ]
    },
    {
     "data": {
      "application/vnd.jupyter.widget-view+json": {
       "model_id": "",
       "version_major": 2,
       "version_minor": 0
      },
      "text/plain": [
       "HBox(children=(IntProgress(value=0, description='Epoch 38', max=397, style=ProgressStyle(description_width='in…"
      ]
     },
     "metadata": {},
     "output_type": "display_data"
    },
    {
     "name": "stdout",
     "output_type": "stream",
     "text": [
      "397/397 [==============================] - 7s 17ms/step - loss: 2.4648 - acc: 0.8467 - val_loss: 2.1999 - val_acc: 0.8631\n",
      "Epoch 40/70\n"
     ]
    },
    {
     "data": {
      "application/vnd.jupyter.widget-view+json": {
       "model_id": "",
       "version_major": 2,
       "version_minor": 0
      },
      "text/plain": [
       "HBox(children=(IntProgress(value=0, description='Epoch 39', max=397, style=ProgressStyle(description_width='in…"
      ]
     },
     "metadata": {},
     "output_type": "display_data"
    },
    {
     "name": "stdout",
     "output_type": "stream",
     "text": [
      "397/397 [==============================] - 7s 19ms/step - loss: 2.2746 - acc: 0.8579 - val_loss: 2.2191 - val_acc: 0.8614\n",
      "Epoch 41/70\n"
     ]
    },
    {
     "data": {
      "application/vnd.jupyter.widget-view+json": {
       "model_id": "",
       "version_major": 2,
       "version_minor": 0
      },
      "text/plain": [
       "HBox(children=(IntProgress(value=0, description='Epoch 40', max=397, style=ProgressStyle(description_width='in…"
      ]
     },
     "metadata": {},
     "output_type": "display_data"
    },
    {
     "name": "stdout",
     "output_type": "stream",
     "text": [
      "397/397 [==============================] - 7s 18ms/step - loss: 2.1592 - acc: 0.8654 - val_loss: 2.2650 - val_acc: 0.8591\n",
      "Epoch 42/70\n"
     ]
    },
    {
     "data": {
      "application/vnd.jupyter.widget-view+json": {
       "model_id": "",
       "version_major": 2,
       "version_minor": 0
      },
      "text/plain": [
       "HBox(children=(IntProgress(value=0, description='Epoch 41', max=397, style=ProgressStyle(description_width='in…"
      ]
     },
     "metadata": {},
     "output_type": "display_data"
    },
    {
     "name": "stdout",
     "output_type": "stream",
     "text": [
      "397/397 [==============================] - 7s 18ms/step - loss: 2.3325 - acc: 0.8550 - val_loss: 2.5214 - val_acc: 0.8426\n",
      "Epoch 43/70\n"
     ]
    },
    {
     "data": {
      "application/vnd.jupyter.widget-view+json": {
       "model_id": "",
       "version_major": 2,
       "version_minor": 0
      },
      "text/plain": [
       "HBox(children=(IntProgress(value=0, description='Epoch 42', max=397, style=ProgressStyle(description_width='in…"
      ]
     },
     "metadata": {},
     "output_type": "display_data"
    },
    {
     "name": "stdout",
     "output_type": "stream",
     "text": [
      "397/397 [==============================] - 8s 19ms/step - loss: 2.3165 - acc: 0.8557 - val_loss: 2.5066 - val_acc: 0.8437\n",
      "Epoch 44/70\n"
     ]
    },
    {
     "data": {
      "application/vnd.jupyter.widget-view+json": {
       "model_id": "",
       "version_major": 2,
       "version_minor": 0
      },
      "text/plain": [
       "HBox(children=(IntProgress(value=0, description='Epoch 43', max=397, style=ProgressStyle(description_width='in…"
      ]
     },
     "metadata": {},
     "output_type": "display_data"
    },
    {
     "name": "stdout",
     "output_type": "stream",
     "text": [
      "397/397 [==============================] - 7s 18ms/step - loss: 2.4427 - acc: 0.8482 - val_loss: 2.5495 - val_acc: 0.8415\n",
      "Epoch 45/70\n"
     ]
    },
    {
     "data": {
      "application/vnd.jupyter.widget-view+json": {
       "model_id": "",
       "version_major": 2,
       "version_minor": 0
      },
      "text/plain": [
       "HBox(children=(IntProgress(value=0, description='Epoch 44', max=397, style=ProgressStyle(description_width='in…"
      ]
     },
     "metadata": {},
     "output_type": "display_data"
    },
    {
     "name": "stdout",
     "output_type": "stream",
     "text": [
      "397/397 [==============================] - 8s 19ms/step - loss: 2.3602 - acc: 0.8529 - val_loss: 2.3896 - val_acc: 0.8506\n",
      "Epoch 46/70\n"
     ]
    },
    {
     "data": {
      "application/vnd.jupyter.widget-view+json": {
       "model_id": "",
       "version_major": 2,
       "version_minor": 0
      },
      "text/plain": [
       "HBox(children=(IntProgress(value=0, description='Epoch 45', max=397, style=ProgressStyle(description_width='in…"
      ]
     },
     "metadata": {},
     "output_type": "display_data"
    },
    {
     "name": "stdout",
     "output_type": "stream",
     "text": [
      "397/397 [==============================] - 7s 18ms/step - loss: 2.2142 - acc: 0.8619 - val_loss: 2.1588 - val_acc: 0.8653\n",
      "Epoch 47/70\n"
     ]
    },
    {
     "data": {
      "application/vnd.jupyter.widget-view+json": {
       "model_id": "",
       "version_major": 2,
       "version_minor": 0
      },
      "text/plain": [
       "HBox(children=(IntProgress(value=0, description='Epoch 46', max=397, style=ProgressStyle(description_width='in…"
      ]
     },
     "metadata": {},
     "output_type": "display_data"
    },
    {
     "name": "stdout",
     "output_type": "stream",
     "text": [
      "397/397 [==============================] - 7s 19ms/step - loss: 2.3783 - acc: 0.8519 - val_loss: 2.1037 - val_acc: 0.8688\n",
      "Epoch 48/70\n"
     ]
    },
    {
     "data": {
      "application/vnd.jupyter.widget-view+json": {
       "model_id": "",
       "version_major": 2,
       "version_minor": 0
      },
      "text/plain": [
       "HBox(children=(IntProgress(value=0, description='Epoch 47', max=397, style=ProgressStyle(description_width='in…"
      ]
     },
     "metadata": {},
     "output_type": "display_data"
    },
    {
     "name": "stdout",
     "output_type": "stream",
     "text": [
      "397/397 [==============================] - 7s 19ms/step - loss: 2.4167 - acc: 0.8489 - val_loss: 2.2343 - val_acc: 0.8608\n",
      "Epoch 49/70\n"
     ]
    },
    {
     "data": {
      "application/vnd.jupyter.widget-view+json": {
       "model_id": "",
       "version_major": 2,
       "version_minor": 0
      },
      "text/plain": [
       "HBox(children=(IntProgress(value=0, description='Epoch 48', max=397, style=ProgressStyle(description_width='in…"
      ]
     },
     "metadata": {},
     "output_type": "display_data"
    },
    {
     "name": "stdout",
     "output_type": "stream",
     "text": [
      "397/397 [==============================] - 7s 18ms/step - loss: 2.4588 - acc: 0.8465 - val_loss: 2.6138 - val_acc: 0.8364\n",
      "Epoch 50/70\n"
     ]
    },
    {
     "data": {
      "application/vnd.jupyter.widget-view+json": {
       "model_id": "",
       "version_major": 2,
       "version_minor": 0
      },
      "text/plain": [
       "HBox(children=(IntProgress(value=0, description='Epoch 49', max=397, style=ProgressStyle(description_width='in…"
      ]
     },
     "metadata": {},
     "output_type": "display_data"
    },
    {
     "name": "stdout",
     "output_type": "stream",
     "text": [
      "397/397 [==============================] - 7s 17ms/step - loss: 3.1865 - acc: 0.8003 - val_loss: 2.9379 - val_acc: 0.8159\n",
      "Epoch 51/70\n"
     ]
    },
    {
     "data": {
      "application/vnd.jupyter.widget-view+json": {
       "model_id": "",
       "version_major": 2,
       "version_minor": 0
      },
      "text/plain": [
       "HBox(children=(IntProgress(value=0, description='Epoch 50', max=397, style=ProgressStyle(description_width='in…"
      ]
     },
     "metadata": {},
     "output_type": "display_data"
    },
    {
     "name": "stdout",
     "output_type": "stream",
     "text": [
      "397/397 [==============================] - 7s 17ms/step - loss: 3.3354 - acc: 0.7910 - val_loss: 1.9589 - val_acc: 0.8778\n",
      "Epoch 52/70\n"
     ]
    },
    {
     "data": {
      "application/vnd.jupyter.widget-view+json": {
       "model_id": "",
       "version_major": 2,
       "version_minor": 0
      },
      "text/plain": [
       "HBox(children=(IntProgress(value=0, description='Epoch 51', max=397, style=ProgressStyle(description_width='in…"
      ]
     },
     "metadata": {},
     "output_type": "display_data"
    },
    {
     "name": "stdout",
     "output_type": "stream",
     "text": [
      "397/397 [==============================] - 8s 19ms/step - loss: 2.2304 - acc: 0.8607 - val_loss: 2.1247 - val_acc: 0.8676\n",
      "Epoch 53/70\n"
     ]
    },
    {
     "data": {
      "application/vnd.jupyter.widget-view+json": {
       "model_id": "",
       "version_major": 2,
       "version_minor": 0
      },
      "text/plain": [
       "HBox(children=(IntProgress(value=0, description='Epoch 52', max=397, style=ProgressStyle(description_width='in…"
      ]
     },
     "metadata": {},
     "output_type": "display_data"
    },
    {
     "name": "stdout",
     "output_type": "stream",
     "text": [
      "397/397 [==============================] - 8s 19ms/step - loss: 2.2002 - acc: 0.8627 - val_loss: 2.1828 - val_acc: 0.8636\n",
      "Epoch 54/70\n"
     ]
    },
    {
     "data": {
      "application/vnd.jupyter.widget-view+json": {
       "model_id": "",
       "version_major": 2,
       "version_minor": 0
      },
      "text/plain": [
       "HBox(children=(IntProgress(value=0, description='Epoch 53', max=397, style=ProgressStyle(description_width='in…"
      ]
     },
     "metadata": {},
     "output_type": "display_data"
    },
    {
     "name": "stdout",
     "output_type": "stream",
     "text": [
      "397/397 [==============================] - 7s 17ms/step - loss: 2.3069 - acc: 0.8563 - val_loss: 2.3117 - val_acc: 0.8562\n",
      "Epoch 55/70\n"
     ]
    },
    {
     "data": {
      "application/vnd.jupyter.widget-view+json": {
       "model_id": "",
       "version_major": 2,
       "version_minor": 0
      },
      "text/plain": [
       "HBox(children=(IntProgress(value=0, description='Epoch 54', max=397, style=ProgressStyle(description_width='in…"
      ]
     },
     "metadata": {},
     "output_type": "display_data"
    },
    {
     "name": "stdout",
     "output_type": "stream",
     "text": [
      "397/397 [==============================] - 8s 19ms/step - loss: 2.2703 - acc: 0.8586 - val_loss: 2.3146 - val_acc: 0.8557\n",
      "Epoch 56/70\n"
     ]
    },
    {
     "data": {
      "application/vnd.jupyter.widget-view+json": {
       "model_id": "",
       "version_major": 2,
       "version_minor": 0
      },
      "text/plain": [
       "HBox(children=(IntProgress(value=0, description='Epoch 55', max=397, style=ProgressStyle(description_width='in…"
      ]
     },
     "metadata": {},
     "output_type": "display_data"
    },
    {
     "name": "stdout",
     "output_type": "stream",
     "text": [
      "397/397 [==============================] - 7s 17ms/step - loss: 2.3715 - acc: 0.8524 - val_loss: 2.4416 - val_acc: 0.8483\n",
      "Epoch 57/70\n"
     ]
    },
    {
     "data": {
      "application/vnd.jupyter.widget-view+json": {
       "model_id": "",
       "version_major": 2,
       "version_minor": 0
      },
      "text/plain": [
       "HBox(children=(IntProgress(value=0, description='Epoch 56', max=397, style=ProgressStyle(description_width='in…"
      ]
     },
     "metadata": {},
     "output_type": "display_data"
    },
    {
     "name": "stdout",
     "output_type": "stream",
     "text": [
      "397/397 [==============================] - 7s 18ms/step - loss: 2.2899 - acc: 0.8574 - val_loss: 2.2181 - val_acc: 0.8619\n",
      "Epoch 58/70\n"
     ]
    },
    {
     "data": {
      "application/vnd.jupyter.widget-view+json": {
       "model_id": "",
       "version_major": 2,
       "version_minor": 0
      },
      "text/plain": [
       "HBox(children=(IntProgress(value=0, description='Epoch 57', max=397, style=ProgressStyle(description_width='in…"
      ]
     },
     "metadata": {},
     "output_type": "display_data"
    },
    {
     "name": "stdout",
     "output_type": "stream",
     "text": [
      "397/397 [==============================] - 7s 18ms/step - loss: 2.2511 - acc: 0.8599 - val_loss: 2.1543 - val_acc: 0.8659\n",
      "Epoch 59/70\n"
     ]
    },
    {
     "data": {
      "application/vnd.jupyter.widget-view+json": {
       "model_id": "",
       "version_major": 2,
       "version_minor": 0
      },
      "text/plain": [
       "HBox(children=(IntProgress(value=0, description='Epoch 58', max=397, style=ProgressStyle(description_width='in…"
      ]
     },
     "metadata": {},
     "output_type": "display_data"
    },
    {
     "name": "stdout",
     "output_type": "stream",
     "text": [
      "397/397 [==============================] - 7s 18ms/step - loss: 2.2246 - acc: 0.8611 - val_loss: 2.0749 - val_acc: 0.8705\n",
      "Epoch 60/70\n"
     ]
    },
    {
     "data": {
      "application/vnd.jupyter.widget-view+json": {
       "model_id": "",
       "version_major": 2,
       "version_minor": 0
      },
      "text/plain": [
       "HBox(children=(IntProgress(value=0, description='Epoch 59', max=397, style=ProgressStyle(description_width='in…"
      ]
     },
     "metadata": {},
     "output_type": "display_data"
    },
    {
     "name": "stdout",
     "output_type": "stream",
     "text": [
      "397/397 [==============================] - 7s 18ms/step - loss: 2.2294 - acc: 0.8608 - val_loss: 2.0036 - val_acc: 0.8750\n",
      "Epoch 61/70\n"
     ]
    },
    {
     "data": {
      "application/vnd.jupyter.widget-view+json": {
       "model_id": "",
       "version_major": 2,
       "version_minor": 0
      },
      "text/plain": [
       "HBox(children=(IntProgress(value=0, description='Epoch 60', max=397, style=ProgressStyle(description_width='in…"
      ]
     },
     "metadata": {},
     "output_type": "display_data"
    },
    {
     "name": "stdout",
     "output_type": "stream",
     "text": [
      "397/397 [==============================] - 7s 18ms/step - loss: 2.0940 - acc: 0.8694 - val_loss: 2.0397 - val_acc: 0.8727\n",
      "Epoch 62/70\n"
     ]
    },
    {
     "data": {
      "application/vnd.jupyter.widget-view+json": {
       "model_id": "",
       "version_major": 2,
       "version_minor": 0
      },
      "text/plain": [
       "HBox(children=(IntProgress(value=0, description='Epoch 61', max=397, style=ProgressStyle(description_width='in…"
      ]
     },
     "metadata": {},
     "output_type": "display_data"
    },
    {
     "name": "stdout",
     "output_type": "stream",
     "text": [
      "397/397 [==============================] - 7s 17ms/step - loss: 2.1855 - acc: 0.8637 - val_loss: 2.3443 - val_acc: 0.8534\n",
      "Epoch 63/70\n"
     ]
    },
    {
     "data": {
      "application/vnd.jupyter.widget-view+json": {
       "model_id": "",
       "version_major": 2,
       "version_minor": 0
      },
      "text/plain": [
       "HBox(children=(IntProgress(value=0, description='Epoch 62', max=397, style=ProgressStyle(description_width='in…"
      ]
     },
     "metadata": {},
     "output_type": "display_data"
    },
    {
     "name": "stdout",
     "output_type": "stream",
     "text": [
      "397/397 [==============================] - 7s 17ms/step - loss: 2.3519 - acc: 0.8530 - val_loss: 2.0874 - val_acc: 0.8699\n",
      "Epoch 64/70\n"
     ]
    },
    {
     "data": {
      "application/vnd.jupyter.widget-view+json": {
       "model_id": "",
       "version_major": 2,
       "version_minor": 0
      },
      "text/plain": [
       "HBox(children=(IntProgress(value=0, description='Epoch 63', max=397, style=ProgressStyle(description_width='in…"
      ]
     },
     "metadata": {},
     "output_type": "display_data"
    },
    {
     "name": "stdout",
     "output_type": "stream",
     "text": [
      "397/397 [==============================] - 7s 17ms/step - loss: 2.2674 - acc: 0.8588 - val_loss: 2.1381 - val_acc: 0.8670\n",
      "Epoch 65/70\n"
     ]
    },
    {
     "data": {
      "application/vnd.jupyter.widget-view+json": {
       "model_id": "",
       "version_major": 2,
       "version_minor": 0
      },
      "text/plain": [
       "HBox(children=(IntProgress(value=0, description='Epoch 64', max=397, style=ProgressStyle(description_width='in…"
      ]
     },
     "metadata": {},
     "output_type": "display_data"
    },
    {
     "name": "stdout",
     "output_type": "stream",
     "text": [
      "397/397 [==============================] - 7s 17ms/step - loss: 2.3378 - acc: 0.8545 - val_loss: 2.2606 - val_acc: 0.8591\n",
      "Epoch 66/70\n"
     ]
    },
    {
     "data": {
      "application/vnd.jupyter.widget-view+json": {
       "model_id": "",
       "version_major": 2,
       "version_minor": 0
      },
      "text/plain": [
       "HBox(children=(IntProgress(value=0, description='Epoch 65', max=397, style=ProgressStyle(description_width='in…"
      ]
     },
     "metadata": {},
     "output_type": "display_data"
    },
    {
     "name": "stdout",
     "output_type": "stream",
     "text": [
      "397/397 [==============================] - 7s 18ms/step - loss: 2.2187 - acc: 0.8618 - val_loss: 2.0797 - val_acc: 0.8705\n",
      "Epoch 67/70\n"
     ]
    },
    {
     "data": {
      "application/vnd.jupyter.widget-view+json": {
       "model_id": "",
       "version_major": 2,
       "version_minor": 0
      },
      "text/plain": [
       "HBox(children=(IntProgress(value=0, description='Epoch 66', max=397, style=ProgressStyle(description_width='in…"
      ]
     },
     "metadata": {},
     "output_type": "display_data"
    },
    {
     "name": "stdout",
     "output_type": "stream",
     "text": [
      "397/397 [==============================] - 7s 18ms/step - loss: 2.1595 - acc: 0.8654 - val_loss: 2.2254 - val_acc: 0.8614\n",
      "Epoch 68/70\n"
     ]
    },
    {
     "data": {
      "application/vnd.jupyter.widget-view+json": {
       "model_id": "",
       "version_major": 2,
       "version_minor": 0
      },
      "text/plain": [
       "HBox(children=(IntProgress(value=0, description='Epoch 67', max=397, style=ProgressStyle(description_width='in…"
      ]
     },
     "metadata": {},
     "output_type": "display_data"
    },
    {
     "name": "stdout",
     "output_type": "stream",
     "text": [
      "397/397 [==============================] - 7s 17ms/step - loss: 2.1578 - acc: 0.8656 - val_loss: 2.1421 - val_acc: 0.8665\n",
      "Epoch 69/70\n"
     ]
    },
    {
     "data": {
      "application/vnd.jupyter.widget-view+json": {
       "model_id": "",
       "version_major": 2,
       "version_minor": 0
      },
      "text/plain": [
       "HBox(children=(IntProgress(value=0, description='Epoch 68', max=397, style=ProgressStyle(description_width='in…"
      ]
     },
     "metadata": {},
     "output_type": "display_data"
    },
    {
     "name": "stdout",
     "output_type": "stream",
     "text": [
      "397/397 [==============================] - 7s 18ms/step - loss: 2.2424 - acc: 0.8603 - val_loss: 2.1399 - val_acc: 0.8665\n",
      "Epoch 70/70\n"
     ]
    },
    {
     "data": {
      "application/vnd.jupyter.widget-view+json": {
       "model_id": "",
       "version_major": 2,
       "version_minor": 0
      },
      "text/plain": [
       "HBox(children=(IntProgress(value=0, description='Epoch 69', max=397, style=ProgressStyle(description_width='in…"
      ]
     },
     "metadata": {},
     "output_type": "display_data"
    },
    {
     "name": "stdout",
     "output_type": "stream",
     "text": [
      "397/397 [==============================] - 7s 17ms/step - loss: 2.2900 - acc: 0.8574 - val_loss: 2.1992 - val_acc: 0.8631\n"
     ]
    }
   ],
   "source": [
    "batch_size=  40 \n",
    "CV_frac = 0.1\n",
    "train_gen = data_generator(batch_size,'../data/preprocessed/bal_gunspotting_in_school_subset.tfrecord', 0, 1-CV_frac)\n",
    "val_gen = data_generator(20,'../data/preprocessed/bal_gunspotting_in_school_subset.tfrecord', 1-CV_frac, 1)\n",
    "rec_len = 17662 \n",
    "lr_h = lr_model.fit_generator(train_gen,steps_per_epoch=int(rec_len*(1-CV_frac))//batch_size, epochs=70,validation_data=val_gen, validation_steps=int(rec_len*CV_frac)//20,verbose=1, callbacks=[TQDMNotebookCallback()])"
   ]
  },
  {
   "cell_type": "code",
   "execution_count": 93,
   "metadata": {},
   "outputs": [
    {
     "data": {
      "image/png": "[encoded data removed]",
      "text/plain": [
       "<Figure size 432x288 with 1 Axes>"
      ]
     },
     "metadata": {
      "needs_background": "light"
     },
     "output_type": "display_data"
    }
   ],
   "source": [
    "plt.plot(lr_h.history['acc'], 'o-', label='train_acc')\n",
    "plt.plot(lr_h.history['val_acc'], 'x-', label='val_acc')\n",
    "plt.xlabel('Epochs(70)', size=20)\n",
    "plt.ylabel('Accuracy', size=20)\n",
    "plt.legend()\n",
    "plt.savefig('results/training_results/LogisticRegression_BinCE_Adam_lr0.1_pochs70.png', dpi = 300)"
   ]
  },
  {
   "cell_type": "code",
   "execution_count": 94,
   "metadata": {},
   "outputs": [
    {
     "name": "stdout",
     "output_type": "stream",
     "text": [
      "Epochs = 70\n",
      "val_loss length: 70\n",
      "val_acc length: 70\n",
      "loss length: 70\n",
      "acc length: 70\n",
      "Average Training loss = 2.4194436903605876\n",
      "Average Training accuracy= 84.88682978109908\n",
      "Average validation loss = 2.3482810797988454\n",
      "Average validation accuracy= 85.3482142148854\n"
     ]
    }
   ],
   "source": [
    "print(\"Epochs = 70\")\n",
    "print(\"val_loss length:\",len(lr_h.history['val_loss']))\n",
    "print(\"val_acc length:\",len(lr_h.history['val_acc']))\n",
    "print(\"loss length:\",len(lr_h.history['loss']))\n",
    "print(\"acc length:\",len(lr_h.history['acc']))\n",
    "\n",
    "print(\"Average Training loss =\", sum(lr_h.history['loss'])/len(lr_h.history['loss']))\n",
    "print(\"Average Training accuracy=\", sum(lr_h.history['acc'])/len(lr_h.history['acc'])*100)\n",
    "print(\"Average validation loss =\", sum(lr_h.history['val_loss'])/len(lr_h.history['val_loss']))\n",
    "print(\"Average validation accuracy=\", sum(lr_h.history['val_acc'])/len(lr_h.history['val_acc'])*100)\n",
    "\n",
    "\n",
    "from keras.utils import plot_model\n",
    "plot_model(lr_model, to_file='results/training_results/model_LogisticRegression_BinaryCE_Adam_lr0.1_70Epochs.png')\n"
   ]
  },
  {
   "cell_type": "code",
   "execution_count": 58,
   "metadata": {},
   "outputs": [],
   "source": [
    "lr_model.save('Models/LogisticRegression_BinaryCE_Adam_lr0.1_50-Epochs.h5')"
   ]
  },
  {
   "cell_type": "code",
   "execution_count": null,
   "metadata": {},
   "outputs": [],
   "source": [
    "# Single Layer Neural Network: 1 Hidden Layer with Relu Activation with batch normalization"
   ]
  },
  {
   "cell_type": "code",
   "execution_count": 96,
   "metadata": {},
   "outputs": [],
   "source": [
    "from keras.models import Sequential\n",
    "from keras.layers import Dense, BatchNormalization, Flatten\n",
    "# l2 on a dense layer\n",
    "from keras.regularizers import l2\n",
    "adam = optimizers.Adam(lr=0.1)\n",
    "\n",
    "nn_model = Sequential()\n",
    "nn_model.add(BatchNormalization(input_shape=(10, 128)))\n",
    "nn_model.add(Flatten())\n",
    "nn_model.add(Dense(128, activation='relu',kernel_regularizer=l2(0.01), bias_regularizer=l2(0.01)))\n",
    "# nn_model.add(Dense(100, activation='relu'))\n",
    "nn_model.add(Dense(1, activation='sigmoid'))                 \n",
    "nn_model.compile(loss='binary_crossentropy',\n",
    "              optimizer=adam,\n",
    "              metrics=['accuracy'])"
   ]
  },
  {
   "cell_type": "code",
   "execution_count": 97,
   "metadata": {},
   "outputs": [
    {
     "data": {
      "application/vnd.jupyter.widget-view+json": {
       "model_id": "e3fc7d142b1147df859925b54ff18b1b",
       "version_major": 2,
       "version_minor": 0
      },
      "text/plain": [
       "HBox(children=(IntProgress(value=0, description='Training', max=50, style=ProgressStyle(description_width='ini…"
      ]
     },
     "metadata": {},
     "output_type": "display_data"
    },
    {
     "name": "stdout",
     "output_type": "stream",
     "text": [
      "Epoch 1/50\n"
     ]
    },
    {
     "data": {
      "application/vnd.jupyter.widget-view+json": {
       "model_id": "",
       "version_major": 2,
       "version_minor": 0
      },
      "text/plain": [
       "HBox(children=(IntProgress(value=0, description='Epoch 0', max=397, style=ProgressStyle(description_width='ini…"
      ]
     },
     "metadata": {},
     "output_type": "display_data"
    },
    {
     "name": "stdout",
     "output_type": "stream",
     "text": [
      "Total audioframes in training dataset: 17662\n",
      "After fractioning:\n",
      "Total audioframes in training dataset: 15895\n",
      "Total audioframes in training dataset: 17662\n",
      "After fractioning:\n",
      "Total audioframes in training dataset: 1767\n",
      "397/397 [==============================] - 11s 28ms/step - loss: 31.0968 - acc: 0.5194 - val_loss: 21.6697 - val_acc: 0.5500\n",
      "Epoch 2/50\n"
     ]
    },
    {
     "data": {
      "application/vnd.jupyter.widget-view+json": {
       "model_id": "",
       "version_major": 2,
       "version_minor": 0
      },
      "text/plain": [
       "HBox(children=(IntProgress(value=0, description='Epoch 1', max=397, style=ProgressStyle(description_width='ini…"
      ]
     },
     "metadata": {},
     "output_type": "display_data"
    },
    {
     "name": "stdout",
     "output_type": "stream",
     "text": [
      "397/397 [==============================] - 8s 20ms/step - loss: 52.4400 - acc: 0.4997 - val_loss: 101.9284 - val_acc: 0.4932\n",
      "Epoch 3/50\n"
     ]
    },
    {
     "data": {
      "application/vnd.jupyter.widget-view+json": {
       "model_id": "",
       "version_major": 2,
       "version_minor": 0
      },
      "text/plain": [
       "HBox(children=(IntProgress(value=0, description='Epoch 2', max=397, style=ProgressStyle(description_width='ini…"
      ]
     },
     "metadata": {},
     "output_type": "display_data"
    },
    {
     "name": "stdout",
     "output_type": "stream",
     "text": [
      "397/397 [==============================] - 8s 21ms/step - loss: 69.3705 - acc: 0.5018 - val_loss: 13.4682 - val_acc: 0.5080\n",
      "Epoch 4/50\n"
     ]
    },
    {
     "data": {
      "application/vnd.jupyter.widget-view+json": {
       "model_id": "",
       "version_major": 2,
       "version_minor": 0
      },
      "text/plain": [
       "HBox(children=(IntProgress(value=0, description='Epoch 3', max=397, style=ProgressStyle(description_width='ini…"
      ]
     },
     "metadata": {},
     "output_type": "display_data"
    },
    {
     "name": "stdout",
     "output_type": "stream",
     "text": [
      "397/397 [==============================] - 8s 21ms/step - loss: 92.2988 - acc: 0.5122 - val_loss: 162.5331 - val_acc: 0.5085\n",
      "Epoch 5/50\n"
     ]
    },
    {
     "data": {
      "application/vnd.jupyter.widget-view+json": {
       "model_id": "",
       "version_major": 2,
       "version_minor": 0
      },
      "text/plain": [
       "HBox(children=(IntProgress(value=0, description='Epoch 4', max=397, style=ProgressStyle(description_width='ini…"
      ]
     },
     "metadata": {},
     "output_type": "display_data"
    },
    {
     "name": "stdout",
     "output_type": "stream",
     "text": [
      "397/397 [==============================] - 9s 22ms/step - loss: 95.9568 - acc: 0.5003 - val_loss: 292.8453 - val_acc: 0.4881\n",
      "Epoch 6/50\n"
     ]
    },
    {
     "data": {
      "application/vnd.jupyter.widget-view+json": {
       "model_id": "",
       "version_major": 2,
       "version_minor": 0
      },
      "text/plain": [
       "HBox(children=(IntProgress(value=0, description='Epoch 5', max=397, style=ProgressStyle(description_width='ini…"
      ]
     },
     "metadata": {},
     "output_type": "display_data"
    },
    {
     "name": "stdout",
     "output_type": "stream",
     "text": [
      "397/397 [==============================] - 8s 21ms/step - loss: 83.9852 - acc: 0.4977 - val_loss: 8.7976 - val_acc: 0.4949\n",
      "Epoch 7/50\n"
     ]
    },
    {
     "data": {
      "application/vnd.jupyter.widget-view+json": {
       "model_id": "",
       "version_major": 2,
       "version_minor": 0
      },
      "text/plain": [
       "HBox(children=(IntProgress(value=0, description='Epoch 6', max=397, style=ProgressStyle(description_width='ini…"
      ]
     },
     "metadata": {},
     "output_type": "display_data"
    },
    {
     "name": "stdout",
     "output_type": "stream",
     "text": [
      "397/397 [==============================] - 8s 20ms/step - loss: 86.0354 - acc: 0.5041 - val_loss: 44.4122 - val_acc: 0.5074\n",
      "Epoch 8/50\n"
     ]
    },
    {
     "data": {
      "application/vnd.jupyter.widget-view+json": {
       "model_id": "",
       "version_major": 2,
       "version_minor": 0
      },
      "text/plain": [
       "HBox(children=(IntProgress(value=0, description='Epoch 7', max=397, style=ProgressStyle(description_width='ini…"
      ]
     },
     "metadata": {},
     "output_type": "display_data"
    },
    {
     "name": "stdout",
     "output_type": "stream",
     "text": [
      "397/397 [==============================] - 8s 21ms/step - loss: 104.4419 - acc: 0.4992 - val_loss: 320.4317 - val_acc: 0.5278\n",
      "Epoch 9/50\n"
     ]
    },
    {
     "data": {
      "application/vnd.jupyter.widget-view+json": {
       "model_id": "",
       "version_major": 2,
       "version_minor": 0
      },
      "text/plain": [
       "HBox(children=(IntProgress(value=0, description='Epoch 8', max=397, style=ProgressStyle(description_width='ini…"
      ]
     },
     "metadata": {},
     "output_type": "display_data"
    },
    {
     "name": "stdout",
     "output_type": "stream",
     "text": [
      "397/397 [==============================] - 8s 20ms/step - loss: 107.3768 - acc: 0.5213 - val_loss: 53.2346 - val_acc: 0.5119\n",
      "Epoch 10/50\n"
     ]
    },
    {
     "data": {
      "application/vnd.jupyter.widget-view+json": {
       "model_id": "",
       "version_major": 2,
       "version_minor": 0
      },
      "text/plain": [
       "HBox(children=(IntProgress(value=0, description='Epoch 9', max=397, style=ProgressStyle(description_width='ini…"
      ]
     },
     "metadata": {},
     "output_type": "display_data"
    },
    {
     "name": "stdout",
     "output_type": "stream",
     "text": [
      "397/397 [==============================] - 8s 21ms/step - loss: 76.7449 - acc: 0.5241 - val_loss: 12.3163 - val_acc: 0.4875\n",
      "Epoch 11/50\n"
     ]
    },
    {
     "data": {
      "application/vnd.jupyter.widget-view+json": {
       "model_id": "",
       "version_major": 2,
       "version_minor": 0
      },
      "text/plain": [
       "HBox(children=(IntProgress(value=0, description='Epoch 10', max=397, style=ProgressStyle(description_width='in…"
      ]
     },
     "metadata": {},
     "output_type": "display_data"
    },
    {
     "name": "stdout",
     "output_type": "stream",
     "text": [
      "397/397 [==============================] - 8s 20ms/step - loss: 102.8497 - acc: 0.4984 - val_loss: 68.9621 - val_acc: 0.4903\n",
      "Epoch 12/50\n"
     ]
    },
    {
     "data": {
      "application/vnd.jupyter.widget-view+json": {
       "model_id": "",
       "version_major": 2,
       "version_minor": 0
      },
      "text/plain": [
       "HBox(children=(IntProgress(value=0, description='Epoch 11', max=397, style=ProgressStyle(description_width='in…"
      ]
     },
     "metadata": {},
     "output_type": "display_data"
    },
    {
     "name": "stdout",
     "output_type": "stream",
     "text": [
      "397/397 [==============================] - 8s 21ms/step - loss: 89.7171 - acc: 0.4975 - val_loss: 9.2155 - val_acc: 0.5040\n",
      "Epoch 13/50\n"
     ]
    },
    {
     "data": {
      "application/vnd.jupyter.widget-view+json": {
       "model_id": "",
       "version_major": 2,
       "version_minor": 0
      },
      "text/plain": [
       "HBox(children=(IntProgress(value=0, description='Epoch 12', max=397, style=ProgressStyle(description_width='in…"
      ]
     },
     "metadata": {},
     "output_type": "display_data"
    },
    {
     "name": "stdout",
     "output_type": "stream",
     "text": [
      "397/397 [==============================] - 8s 20ms/step - loss: 126.7990 - acc: 0.5024 - val_loss: 69.2767 - val_acc: 0.5028\n",
      "Epoch 14/50\n"
     ]
    },
    {
     "data": {
      "application/vnd.jupyter.widget-view+json": {
       "model_id": "",
       "version_major": 2,
       "version_minor": 0
      },
      "text/plain": [
       "HBox(children=(IntProgress(value=0, description='Epoch 13', max=397, style=ProgressStyle(description_width='in…"
      ]
     },
     "metadata": {},
     "output_type": "display_data"
    },
    {
     "name": "stdout",
     "output_type": "stream",
     "text": [
      "397/397 [==============================] - 8s 20ms/step - loss: 102.9372 - acc: 0.5287 - val_loss: 41.6716 - val_acc: 0.4892\n",
      "Epoch 15/50\n"
     ]
    },
    {
     "data": {
      "application/vnd.jupyter.widget-view+json": {
       "model_id": "",
       "version_major": 2,
       "version_minor": 0
      },
      "text/plain": [
       "HBox(children=(IntProgress(value=0, description='Epoch 14', max=397, style=ProgressStyle(description_width='in…"
      ]
     },
     "metadata": {},
     "output_type": "display_data"
    },
    {
     "name": "stdout",
     "output_type": "stream",
     "text": [
      "397/397 [==============================] - 8s 20ms/step - loss: 164.8618 - acc: 0.4952 - val_loss: 511.2717 - val_acc: 0.5034\n",
      "Epoch 16/50\n"
     ]
    },
    {
     "data": {
      "application/vnd.jupyter.widget-view+json": {
       "model_id": "",
       "version_major": 2,
       "version_minor": 0
      },
      "text/plain": [
       "HBox(children=(IntProgress(value=0, description='Epoch 15', max=397, style=ProgressStyle(description_width='in…"
      ]
     },
     "metadata": {},
     "output_type": "display_data"
    },
    {
     "name": "stdout",
     "output_type": "stream",
     "text": [
      "397/397 [==============================] - 8s 20ms/step - loss: 86.0412 - acc: 0.5013 - val_loss: 637.6478 - val_acc: 0.5233\n",
      "Epoch 17/50\n"
     ]
    },
    {
     "data": {
      "application/vnd.jupyter.widget-view+json": {
       "model_id": "",
       "version_major": 2,
       "version_minor": 0
      },
      "text/plain": [
       "HBox(children=(IntProgress(value=0, description='Epoch 16', max=397, style=ProgressStyle(description_width='in…"
      ]
     },
     "metadata": {},
     "output_type": "display_data"
    },
    {
     "name": "stdout",
     "output_type": "stream",
     "text": [
      "397/397 [==============================] - 8s 20ms/step - loss: 55.6038 - acc: 0.5003 - val_loss: 31.1735 - val_acc: 0.5017\n",
      "Epoch 18/50\n"
     ]
    },
    {
     "data": {
      "application/vnd.jupyter.widget-view+json": {
       "model_id": "",
       "version_major": 2,
       "version_minor": 0
      },
      "text/plain": [
       "HBox(children=(IntProgress(value=0, description='Epoch 17', max=397, style=ProgressStyle(description_width='in…"
      ]
     },
     "metadata": {},
     "output_type": "display_data"
    },
    {
     "name": "stdout",
     "output_type": "stream",
     "text": [
      "397/397 [==============================] - 8s 20ms/step - loss: 91.2154 - acc: 0.4974 - val_loss: 120.5280 - val_acc: 0.4983\n",
      "Epoch 19/50\n"
     ]
    },
    {
     "data": {
      "application/vnd.jupyter.widget-view+json": {
       "model_id": "",
       "version_major": 2,
       "version_minor": 0
      },
      "text/plain": [
       "HBox(children=(IntProgress(value=0, description='Epoch 18', max=397, style=ProgressStyle(description_width='in…"
      ]
     },
     "metadata": {},
     "output_type": "display_data"
    },
    {
     "name": "stdout",
     "output_type": "stream",
     "text": [
      "397/397 [==============================] - 8s 20ms/step - loss: 107.3183 - acc: 0.5016 - val_loss: 8.7002 - val_acc: 0.4949\n",
      "Epoch 20/50\n"
     ]
    },
    {
     "data": {
      "application/vnd.jupyter.widget-view+json": {
       "model_id": "",
       "version_major": 2,
       "version_minor": 0
      },
      "text/plain": [
       "HBox(children=(IntProgress(value=0, description='Epoch 19', max=397, style=ProgressStyle(description_width='in…"
      ]
     },
     "metadata": {},
     "output_type": "display_data"
    },
    {
     "name": "stdout",
     "output_type": "stream",
     "text": [
      "397/397 [==============================] - 8s 20ms/step - loss: 48.9793 - acc: 0.5067 - val_loss: 7.9969 - val_acc: 0.5097\n",
      "Epoch 21/50\n"
     ]
    },
    {
     "data": {
      "application/vnd.jupyter.widget-view+json": {
       "model_id": "",
       "version_major": 2,
       "version_minor": 0
      },
      "text/plain": [
       "HBox(children=(IntProgress(value=0, description='Epoch 20', max=397, style=ProgressStyle(description_width='in…"
      ]
     },
     "metadata": {},
     "output_type": "display_data"
    },
    {
     "name": "stdout",
     "output_type": "stream",
     "text": [
      "397/397 [==============================] - 8s 21ms/step - loss: 24.1352 - acc: 0.4996 - val_loss: 8.1097 - val_acc: 0.5006\n",
      "Epoch 22/50\n"
     ]
    },
    {
     "data": {
      "application/vnd.jupyter.widget-view+json": {
       "model_id": "",
       "version_major": 2,
       "version_minor": 0
      },
      "text/plain": [
       "HBox(children=(IntProgress(value=0, description='Epoch 21', max=397, style=ProgressStyle(description_width='in…"
      ]
     },
     "metadata": {},
     "output_type": "display_data"
    },
    {
     "name": "stdout",
     "output_type": "stream",
     "text": [
      "397/397 [==============================] - 8s 19ms/step - loss: 34.9115 - acc: 0.5023 - val_loss: 8.8204 - val_acc: 0.4977\n",
      "Epoch 23/50\n"
     ]
    },
    {
     "data": {
      "application/vnd.jupyter.widget-view+json": {
       "model_id": "",
       "version_major": 2,
       "version_minor": 0
      },
      "text/plain": [
       "HBox(children=(IntProgress(value=0, description='Epoch 22', max=397, style=ProgressStyle(description_width='in…"
      ]
     },
     "metadata": {},
     "output_type": "display_data"
    },
    {
     "name": "stdout",
     "output_type": "stream",
     "text": [
      "397/397 [==============================] - 8s 20ms/step - loss: 74.2383 - acc: 0.5021 - val_loss: 8.4674 - val_acc: 0.4795\n",
      "Epoch 24/50\n"
     ]
    },
    {
     "data": {
      "application/vnd.jupyter.widget-view+json": {
       "model_id": "",
       "version_major": 2,
       "version_minor": 0
      },
      "text/plain": [
       "HBox(children=(IntProgress(value=0, description='Epoch 23', max=397, style=ProgressStyle(description_width='in…"
      ]
     },
     "metadata": {},
     "output_type": "display_data"
    },
    {
     "name": "stdout",
     "output_type": "stream",
     "text": [
      "397/397 [==============================] - 9s 22ms/step - loss: 72.1927 - acc: 0.5016 - val_loss: 15.3028 - val_acc: 0.5051\n",
      "Epoch 25/50\n"
     ]
    },
    {
     "data": {
      "application/vnd.jupyter.widget-view+json": {
       "model_id": "",
       "version_major": 2,
       "version_minor": 0
      },
      "text/plain": [
       "HBox(children=(IntProgress(value=0, description='Epoch 24', max=397, style=ProgressStyle(description_width='in…"
      ]
     },
     "metadata": {},
     "output_type": "display_data"
    },
    {
     "name": "stdout",
     "output_type": "stream",
     "text": [
      "397/397 [==============================] - 8s 21ms/step - loss: 105.8799 - acc: 0.4958 - val_loss: 333.8828 - val_acc: 0.5045\n",
      "Epoch 26/50\n"
     ]
    },
    {
     "data": {
      "application/vnd.jupyter.widget-view+json": {
       "model_id": "",
       "version_major": 2,
       "version_minor": 0
      },
      "text/plain": [
       "HBox(children=(IntProgress(value=0, description='Epoch 25', max=397, style=ProgressStyle(description_width='in…"
      ]
     },
     "metadata": {},
     "output_type": "display_data"
    },
    {
     "name": "stdout",
     "output_type": "stream",
     "text": [
      "397/397 [==============================] - 9s 23ms/step - loss: 132.1899 - acc: 0.4989 - val_loss: 843.7790 - val_acc: 0.4983\n",
      "Epoch 27/50\n"
     ]
    },
    {
     "data": {
      "application/vnd.jupyter.widget-view+json": {
       "model_id": "",
       "version_major": 2,
       "version_minor": 0
      },
      "text/plain": [
       "HBox(children=(IntProgress(value=0, description='Epoch 26', max=397, style=ProgressStyle(description_width='in…"
      ]
     },
     "metadata": {},
     "output_type": "display_data"
    },
    {
     "name": "stdout",
     "output_type": "stream",
     "text": [
      "397/397 [==============================] - 9s 22ms/step - loss: 145.0047 - acc: 0.4940 - val_loss: 8.5989 - val_acc: 0.5040\n",
      "Epoch 28/50\n"
     ]
    },
    {
     "data": {
      "application/vnd.jupyter.widget-view+json": {
       "model_id": "",
       "version_major": 2,
       "version_minor": 0
      },
      "text/plain": [
       "HBox(children=(IntProgress(value=0, description='Epoch 27', max=397, style=ProgressStyle(description_width='in…"
      ]
     },
     "metadata": {},
     "output_type": "display_data"
    },
    {
     "name": "stdout",
     "output_type": "stream",
     "text": [
      "397/397 [==============================] - 9s 24ms/step - loss: 103.2401 - acc: 0.5079 - val_loss: 22.2137 - val_acc: 0.4875\n",
      "Epoch 29/50\n"
     ]
    },
    {
     "data": {
      "application/vnd.jupyter.widget-view+json": {
       "model_id": "",
       "version_major": 2,
       "version_minor": 0
      },
      "text/plain": [
       "HBox(children=(IntProgress(value=0, description='Epoch 28', max=397, style=ProgressStyle(description_width='in…"
      ]
     },
     "metadata": {},
     "output_type": "display_data"
    },
    {
     "name": "stdout",
     "output_type": "stream",
     "text": [
      "397/397 [==============================] - 8s 20ms/step - loss: 32.1022 - acc: 0.4992 - val_loss: 8.7327 - val_acc: 0.4881\n",
      "Epoch 30/50\n"
     ]
    },
    {
     "data": {
      "application/vnd.jupyter.widget-view+json": {
       "model_id": "",
       "version_major": 2,
       "version_minor": 0
      },
      "text/plain": [
       "HBox(children=(IntProgress(value=0, description='Epoch 29', max=397, style=ProgressStyle(description_width='in…"
      ]
     },
     "metadata": {},
     "output_type": "display_data"
    },
    {
     "name": "stdout",
     "output_type": "stream",
     "text": [
      "397/397 [==============================] - 8s 20ms/step - loss: 93.3150 - acc: 0.5048 - val_loss: 8.5754 - val_acc: 0.4915\n",
      "Epoch 31/50\n"
     ]
    },
    {
     "data": {
      "application/vnd.jupyter.widget-view+json": {
       "model_id": "",
       "version_major": 2,
       "version_minor": 0
      },
      "text/plain": [
       "HBox(children=(IntProgress(value=0, description='Epoch 30', max=397, style=ProgressStyle(description_width='in…"
      ]
     },
     "metadata": {},
     "output_type": "display_data"
    },
    {
     "name": "stdout",
     "output_type": "stream",
     "text": [
      "397/397 [==============================] - 8s 19ms/step - loss: 129.3787 - acc: 0.5002 - val_loss: 34.4676 - val_acc: 0.5136\n",
      "Epoch 32/50\n"
     ]
    },
    {
     "data": {
      "application/vnd.jupyter.widget-view+json": {
       "model_id": "",
       "version_major": 2,
       "version_minor": 0
      },
      "text/plain": [
       "HBox(children=(IntProgress(value=0, description='Epoch 31', max=397, style=ProgressStyle(description_width='in…"
      ]
     },
     "metadata": {},
     "output_type": "display_data"
    },
    {
     "name": "stdout",
     "output_type": "stream",
     "text": [
      "397/397 [==============================] - 8s 20ms/step - loss: 66.6034 - acc: 0.4980 - val_loss: 87.1154 - val_acc: 0.5080\n",
      "Epoch 33/50\n"
     ]
    },
    {
     "data": {
      "application/vnd.jupyter.widget-view+json": {
       "model_id": "",
       "version_major": 2,
       "version_minor": 0
      },
      "text/plain": [
       "HBox(children=(IntProgress(value=0, description='Epoch 32', max=397, style=ProgressStyle(description_width='in…"
      ]
     },
     "metadata": {},
     "output_type": "display_data"
    },
    {
     "name": "stdout",
     "output_type": "stream",
     "text": [
      "397/397 [==============================] - 9s 21ms/step - loss: 98.6292 - acc: 0.5062 - val_loss: 69.1788 - val_acc: 0.5028\n",
      "Epoch 34/50\n"
     ]
    },
    {
     "data": {
      "application/vnd.jupyter.widget-view+json": {
       "model_id": "",
       "version_major": 2,
       "version_minor": 0
      },
      "text/plain": [
       "HBox(children=(IntProgress(value=0, description='Epoch 33', max=397, style=ProgressStyle(description_width='in…"
      ]
     },
     "metadata": {},
     "output_type": "display_data"
    },
    {
     "name": "stdout",
     "output_type": "stream",
     "text": [
      "397/397 [==============================] - 9s 21ms/step - loss: 82.4176 - acc: 0.5026 - val_loss: 13.1913 - val_acc: 0.5074\n",
      "Epoch 35/50\n"
     ]
    },
    {
     "data": {
      "application/vnd.jupyter.widget-view+json": {
       "model_id": "",
       "version_major": 2,
       "version_minor": 0
      },
      "text/plain": [
       "HBox(children=(IntProgress(value=0, description='Epoch 34', max=397, style=ProgressStyle(description_width='in…"
      ]
     },
     "metadata": {},
     "output_type": "display_data"
    },
    {
     "name": "stdout",
     "output_type": "stream",
     "text": [
      "397/397 [==============================] - 9s 22ms/step - loss: 120.9558 - acc: 0.4972 - val_loss: 124.4199 - val_acc: 0.4989\n",
      "Epoch 36/50\n"
     ]
    },
    {
     "data": {
      "application/vnd.jupyter.widget-view+json": {
       "model_id": "",
       "version_major": 2,
       "version_minor": 0
      },
      "text/plain": [
       "HBox(children=(IntProgress(value=0, description='Epoch 35', max=397, style=ProgressStyle(description_width='in…"
      ]
     },
     "metadata": {},
     "output_type": "display_data"
    },
    {
     "name": "stdout",
     "output_type": "stream",
     "text": [
      "397/397 [==============================] - 8s 21ms/step - loss: 161.8108 - acc: 0.5029 - val_loss: 184.6572 - val_acc: 0.5318\n",
      "Epoch 37/50\n"
     ]
    },
    {
     "data": {
      "application/vnd.jupyter.widget-view+json": {
       "model_id": "",
       "version_major": 2,
       "version_minor": 0
      },
      "text/plain": [
       "HBox(children=(IntProgress(value=0, description='Epoch 36', max=397, style=ProgressStyle(description_width='in…"
      ]
     },
     "metadata": {},
     "output_type": "display_data"
    },
    {
     "name": "stdout",
     "output_type": "stream",
     "text": [
      "397/397 [==============================] - 8s 20ms/step - loss: 162.9148 - acc: 0.5108 - val_loss: 303.5718 - val_acc: 0.4875\n",
      "Epoch 38/50\n"
     ]
    },
    {
     "data": {
      "application/vnd.jupyter.widget-view+json": {
       "model_id": "",
       "version_major": 2,
       "version_minor": 0
      },
      "text/plain": [
       "HBox(children=(IntProgress(value=0, description='Epoch 37', max=397, style=ProgressStyle(description_width='in…"
      ]
     },
     "metadata": {},
     "output_type": "display_data"
    },
    {
     "name": "stdout",
     "output_type": "stream",
     "text": [
      "397/397 [==============================] - 8s 21ms/step - loss: 123.5445 - acc: 0.5219 - val_loss: 17.5484 - val_acc: 0.5727\n",
      "Epoch 39/50\n"
     ]
    },
    {
     "data": {
      "application/vnd.jupyter.widget-view+json": {
       "model_id": "",
       "version_major": 2,
       "version_minor": 0
      },
      "text/plain": [
       "HBox(children=(IntProgress(value=0, description='Epoch 38', max=397, style=ProgressStyle(description_width='in…"
      ]
     },
     "metadata": {},
     "output_type": "display_data"
    },
    {
     "name": "stdout",
     "output_type": "stream",
     "text": [
      "397/397 [==============================] - 8s 21ms/step - loss: 210.0978 - acc: 0.5416 - val_loss: 156.2795 - val_acc: 0.5773\n",
      "Epoch 40/50\n"
     ]
    },
    {
     "data": {
      "application/vnd.jupyter.widget-view+json": {
       "model_id": "",
       "version_major": 2,
       "version_minor": 0
      },
      "text/plain": [
       "HBox(children=(IntProgress(value=0, description='Epoch 39', max=397, style=ProgressStyle(description_width='in…"
      ]
     },
     "metadata": {},
     "output_type": "display_data"
    },
    {
     "name": "stdout",
     "output_type": "stream",
     "text": [
      "397/397 [==============================] - 8s 21ms/step - loss: 295.0392 - acc: 0.5893 - val_loss: 177.1130 - val_acc: 0.6114\n",
      "Epoch 41/50\n"
     ]
    },
    {
     "data": {
      "application/vnd.jupyter.widget-view+json": {
       "model_id": "",
       "version_major": 2,
       "version_minor": 0
      },
      "text/plain": [
       "HBox(children=(IntProgress(value=0, description='Epoch 40', max=397, style=ProgressStyle(description_width='in…"
      ]
     },
     "metadata": {},
     "output_type": "display_data"
    },
    {
     "name": "stdout",
     "output_type": "stream",
     "text": [
      "397/397 [==============================] - 9s 22ms/step - loss: 96.9628 - acc: 0.5582 - val_loss: 34.8013 - val_acc: 0.4983\n",
      "Epoch 42/50\n"
     ]
    },
    {
     "data": {
      "application/vnd.jupyter.widget-view+json": {
       "model_id": "",
       "version_major": 2,
       "version_minor": 0
      },
      "text/plain": [
       "HBox(children=(IntProgress(value=0, description='Epoch 41', max=397, style=ProgressStyle(description_width='in…"
      ]
     },
     "metadata": {},
     "output_type": "display_data"
    },
    {
     "name": "stdout",
     "output_type": "stream",
     "text": [
      "397/397 [==============================] - 9s 22ms/step - loss: 173.7169 - acc: 0.4957 - val_loss: 23.5152 - val_acc: 0.4506\n",
      "Epoch 43/50\n"
     ]
    },
    {
     "data": {
      "application/vnd.jupyter.widget-view+json": {
       "model_id": "",
       "version_major": 2,
       "version_minor": 0
      },
      "text/plain": [
       "HBox(children=(IntProgress(value=0, description='Epoch 42', max=397, style=ProgressStyle(description_width='in…"
      ]
     },
     "metadata": {},
     "output_type": "display_data"
    },
    {
     "name": "stdout",
     "output_type": "stream",
     "text": [
      "397/397 [==============================] - 9s 22ms/step - loss: 194.6195 - acc: 0.5400 - val_loss: 21.5556 - val_acc: 0.4920\n",
      "Epoch 44/50\n"
     ]
    },
    {
     "data": {
      "application/vnd.jupyter.widget-view+json": {
       "model_id": "",
       "version_major": 2,
       "version_minor": 0
      },
      "text/plain": [
       "HBox(children=(IntProgress(value=0, description='Epoch 43', max=397, style=ProgressStyle(description_width='in…"
      ]
     },
     "metadata": {},
     "output_type": "display_data"
    },
    {
     "name": "stdout",
     "output_type": "stream",
     "text": [
      "397/397 [==============================] - 9s 22ms/step - loss: 150.6701 - acc: 0.4833 - val_loss: 388.6999 - val_acc: 0.5182\n",
      "Epoch 45/50\n"
     ]
    },
    {
     "data": {
      "application/vnd.jupyter.widget-view+json": {
       "model_id": "",
       "version_major": 2,
       "version_minor": 0
      },
      "text/plain": [
       "HBox(children=(IntProgress(value=0, description='Epoch 44', max=397, style=ProgressStyle(description_width='in…"
      ]
     },
     "metadata": {},
     "output_type": "display_data"
    },
    {
     "name": "stdout",
     "output_type": "stream",
     "text": [
      "397/397 [==============================] - 9s 23ms/step - loss: 305.6816 - acc: 0.5920 - val_loss: 48.3803 - val_acc: 0.5114\n",
      "Epoch 46/50\n"
     ]
    },
    {
     "data": {
      "application/vnd.jupyter.widget-view+json": {
       "model_id": "",
       "version_major": 2,
       "version_minor": 0
      },
      "text/plain": [
       "HBox(children=(IntProgress(value=0, description='Epoch 45', max=397, style=ProgressStyle(description_width='in…"
      ]
     },
     "metadata": {},
     "output_type": "display_data"
    },
    {
     "name": "stdout",
     "output_type": "stream",
     "text": [
      "397/397 [==============================] - 9s 22ms/step - loss: 302.1077 - acc: 0.6569 - val_loss: 63.0297 - val_acc: 0.7028\n",
      "Epoch 47/50\n"
     ]
    },
    {
     "data": {
      "application/vnd.jupyter.widget-view+json": {
       "model_id": "",
       "version_major": 2,
       "version_minor": 0
      },
      "text/plain": [
       "HBox(children=(IntProgress(value=0, description='Epoch 46', max=397, style=ProgressStyle(description_width='in…"
      ]
     },
     "metadata": {},
     "output_type": "display_data"
    },
    {
     "name": "stdout",
     "output_type": "stream",
     "text": [
      "397/397 [==============================] - 9s 24ms/step - loss: 42.5347 - acc: 0.6564 - val_loss: 1069.0555 - val_acc: 0.5011\n",
      "Epoch 48/50\n"
     ]
    },
    {
     "data": {
      "application/vnd.jupyter.widget-view+json": {
       "model_id": "",
       "version_major": 2,
       "version_minor": 0
      },
      "text/plain": [
       "HBox(children=(IntProgress(value=0, description='Epoch 47', max=397, style=ProgressStyle(description_width='in…"
      ]
     },
     "metadata": {},
     "output_type": "display_data"
    },
    {
     "name": "stdout",
     "output_type": "stream",
     "text": [
      "397/397 [==============================] - 8s 21ms/step - loss: 214.9381 - acc: 0.5567 - val_loss: 330.8325 - val_acc: 0.5102\n",
      "Epoch 49/50\n"
     ]
    },
    {
     "data": {
      "application/vnd.jupyter.widget-view+json": {
       "model_id": "",
       "version_major": 2,
       "version_minor": 0
      },
      "text/plain": [
       "HBox(children=(IntProgress(value=0, description='Epoch 48', max=397, style=ProgressStyle(description_width='in…"
      ]
     },
     "metadata": {},
     "output_type": "display_data"
    },
    {
     "name": "stdout",
     "output_type": "stream",
     "text": [
      "397/397 [==============================] - 8s 21ms/step - loss: 216.2914 - acc: 0.5609 - val_loss: 75.3226 - val_acc: 0.6227\n",
      "Epoch 50/50\n"
     ]
    },
    {
     "data": {
      "application/vnd.jupyter.widget-view+json": {
       "model_id": "",
       "version_major": 2,
       "version_minor": 0
      },
      "text/plain": [
       "HBox(children=(IntProgress(value=0, description='Epoch 49', max=397, style=ProgressStyle(description_width='in…"
      ]
     },
     "metadata": {},
     "output_type": "display_data"
    },
    {
     "name": "stdout",
     "output_type": "stream",
     "text": [
      "397/397 [==============================] - 8s 19ms/step - loss: 251.8681 - acc: 0.5677 - val_loss: 72.5016 - val_acc: 0.6074\n"
     ]
    }
   ],
   "source": [
    "batch_size=  40 \n",
    "CV_frac = 0.1\n",
    "train_gen = data_generator(batch_size,'../data/preprocessed/bal_gunspotting_in_school_subset.tfrecord', 0, 1-CV_frac)\n",
    "val_gen = data_generator(20,'../data/preprocessed/bal_gunspotting_in_school_subset.tfrecord', 1-CV_frac, 1)\n",
    "rec_len = 17662 \n",
    "nn_h = nn_model.fit_generator(train_gen,steps_per_epoch=int(rec_len*(1-CV_frac))//batch_size, epochs=50,validation_data=val_gen, validation_steps=int(rec_len*CV_frac)//20,verbose=1, callbacks=[TQDMNotebookCallback()])\n",
    "\n"
   ]
  },
  {
   "cell_type": "code",
   "execution_count": 98,
   "metadata": {},
   "outputs": [
    {
     "data": {
      "image/png": "[encoded data removed]",
      "text/plain": [
       "<Figure size 432x288 with 1 Axes>"
      ]
     },
     "metadata": {
      "needs_background": "light"
     },
     "output_type": "display_data"
    }
   ],
   "source": [
    "plt.plot(nn_h.history['acc'], 'o-', label='train_acc')\n",
    "plt.plot(nn_h.history['val_acc'], 'x-', label='val_acc')\n",
    "plt.xlabel('Epochs(50)', size=20)\n",
    "plt.ylabel('Accuracy', size=20)\n",
    "plt.legend()\n",
    "plt.savefig('results/training_results/NeuralNet/SingleLayerNN__Loss=BinaryCE_50Epochs_lr0.1performance.png', dpi = 300)"
   ]
  },
  {
   "cell_type": "code",
   "execution_count": 95,
   "metadata": {},
   "outputs": [
    {
     "name": "stdout",
     "output_type": "stream",
     "text": [
      "Epochs = 50\n",
      "val_loss length: 50\n",
      "val_acc length: 50\n",
      "loss length: 50\n",
      "acc length: 50\n",
      "Average Training loss = 7.7246666046083705\n",
      "Average Training accuracy= 52.063223964246106\n",
      "Average validation loss = 7.982510943972349\n",
      "Average validation accuracy= 50.472727398980744\n"
     ]
    }
   ],
   "source": [
    "print(\"Epochs = 50\")\n",
    "print(\"val_loss length:\",len(nn_h.history['val_loss']))\n",
    "print(\"val_acc length:\",len(nn_h.history['val_acc']))\n",
    "print(\"loss length:\",len(nn_h.history['loss']))\n",
    "print(\"acc length:\",len(nn_h.history['acc']))\n",
    "\n",
    "print(\"Average Training loss =\", sum(nn_h.history['loss'])/len(nn_h.history['loss']))\n",
    "print(\"Average Training accuracy=\", sum(nn_h.history['acc'])/len(nn_h.history['acc'])*100)\n",
    "print(\"Average validation loss =\", sum(nn_h.history['val_loss'])/len(nn_h.history['val_loss']))\n",
    "print(\"Average validation accuracy=\", sum(nn_h.history['val_acc'])/len(nn_h.history['val_acc'])*100)\n",
    "\n",
    "\n",
    "from keras.utils import plot_model\n",
    "plot_model(nn_model, to_file='results/training_results/NeuralNet/SingleLayerNN__L2RegLoss=BinaryCE_50Epochs_lr0.1Model.png')\n"
   ]
  },
  {
   "cell_type": "code",
   "execution_count": 76,
   "metadata": {},
   "outputs": [],
   "source": [
    "nn_model.save('Models/SingleLayerNN__Loss=BinaryCE_50Epochs_lr0.4.h5')"
   ]
  },
  {
   "cell_type": "code",
   "execution_count": null,
   "metadata": {},
   "outputs": [],
   "source": [
    "## Single Layer NN Model with Mean Squared Logarithmic Error"
   ]
  },
  {
   "cell_type": "code",
   "execution_count": null,
   "metadata": {},
   "outputs": [],
   "source": [
    "from keras.models import Sequential\n",
    "from keras.layers import Dense, BatchNormalization, Flatten\n",
    "\n",
    "nn_model = Sequential()\n",
    "nn_model.add(BatchNormalization(input_shape=(10, 128)))\n",
    "nn_model.add(Flatten())\n",
    "nn_model.add(Dense(100, activation='relu'))\n",
    "nn_model.add(Dense(1, activation='sigmoid'))                 \n",
    "nn_model.compile(loss='mean_squared_logarithmic_error',\n",
    "              optimizer='adam',\n",
    "              metrics=['accuracy'])"
   ]
  },
  {
   "cell_type": "code",
   "execution_count": null,
   "metadata": {},
   "outputs": [],
   "source": [
    "## Multiclass Logistic Regression"
   ]
  },
  {
   "cell_type": "code",
   "execution_count": null,
   "metadata": {},
   "outputs": [],
   "source": [
    "from bitstring import BitArray  #To perform bit manipulation\n",
    "from keras.preprocessing.sequence import pad_sequences\n",
    "\n",
    "def data_generator_multiclass(batch_size, tfrecord, start_frac=0, end_frac=1):\n",
    "    '''\n",
    "    Shuffles the Audioset training data and returns a generator of training data and boolean gunshot labels\n",
    "    batch_size: batch size for each set of training data and labels\n",
    "    tfrecord: filestring of the tfrecord file to train on\n",
    "    start_frac: the starting point of the data set to use, as a fraction of total record length (used for CV)\n",
    "    end_frac: the ending point of the data set to use, as a fraction of total record length (used for CV)\n",
    "    '''\n",
    "    max_len=10\n",
    "    #tfrecord holds data in binary sequence string. \n",
    "    records = list(tf.python_io.tf_record_iterator(tfrecord))  #records holds the array of the tfrecord file\n",
    "    if(tfrecord == '../data/preprocessed/unbaltrain_spotting_gunshots_subset.tfrecord'):\n",
    "        print(\"Total audioframes in training dataset:\", len(records))\n",
    "    elif(tfrecord == '../data/preprocessed/eval_spotting_gunshots_subset.tfrecord'):\n",
    "        print(\"Total audioframes in eval dataset:\", len(records))\n",
    "        \n",
    "    records = records[int(start_frac*len(records)):int(end_frac*len(records))]  # Make train_set & CV_set \n",
    "    print(\"After fractioning:\")\n",
    "    if(tfrecord == '../data/preprocessed/unbaltrain_spotting_gunshots_subset.tfrecord'):\n",
    "        print(\"Total audioframes in training dataset:\", len(records))\n",
    "    elif(tfrecord == '../data/preprocessed/eval_spotting_gunshots_subset.tfrecord'):\n",
    "        print(\"Total audioframes in eval dataset:\", len(records))\n",
    "    \n",
    "    rec_len = len(records)  # this is your train set, rest is CV_set\n",
    "    shuffle = np.random.permutation(range(rec_len))\n",
    "    num_batches = rec_len//batch_size - 1                      \n",
    "    j = 0\n",
    "    \n",
    "    \n",
    "    classes = [\"gun\",\"firework\",\"background\", \"other\"]\n",
    "    dict_classes = dict.fromkeys(classes)\n",
    "    \n",
    "    gun_labels = [426,427,428,429,430,431]\n",
    "    fireworks_labels = [432,433,434]\n",
    "    background_labels= [506,507,508,509,510,511,512,513,514,515,516,517,518,519,520,521,522,523,524,525,526]\n",
    "    other_labels =[]\n",
    "    \n",
    "    while True:\n",
    "        X = []\n",
    "        y = []  #add g=[],f=[],b=[],other=[]\n",
    "        \n",
    "        for idx in shuffle[j*batch_size:(j+1)*batch_size]:\n",
    "            example = records[idx]\n",
    "            tf_seq_example = tf.train.SequenceExample.FromString(example)\n",
    "            example_label = list(np.asarray(tf_seq_example.context.feature['labels'].int64_list.value))\n",
    "            dict_classes = {\n",
    "                \"gun\":int(any((True for x in example_label if x in gun_labels))),\n",
    "                \"firework\":int(any((True for x in example_label if x in fireworks_labels))),\n",
    "                \"background\":int(any(True for x in example_label if x in background_labels)),\n",
    "                \"other\": 0\n",
    "            }\n",
    "            if (sum(dict_classes.values()) == 0):\n",
    "#                 dict_classes[\"other\"] = 1\n",
    "                y.append(3)\n",
    "            elif (sum(dict_classes.values()) >1):\n",
    "                dict_classes  = dict.fromkeys(dict_classes, 0)\n",
    "                continue;  # skip this iteration since the audioframe contains co-occurence of our classes \n",
    "            elif (sum(dict_classes.values()) == 1):\n",
    "                if (dict_classes[\"gun\"] == 1):\n",
    "                    y.append(0)\n",
    "                if (dict_classes[\"firework\"] == 1):\n",
    "                    y.append(1)\n",
    "                if (dict_classes[\"background\"] == 1):\n",
    "                    y.append(2)\n",
    "                if (dict_classes[\"other\"] == 1):\n",
    "                    y.append(3)\n",
    "                                \n",
    "            n_frames = len(tf_seq_example.feature_lists.feature_list['audio_embedding'].feature)\n",
    "            audio_frame = []\n",
    "            for i in range(n_frames):\n",
    "                audio_frame.append(np.frombuffer(tf_seq_example.feature_lists.feature_list['audio_embedding'].\n",
    "                                                         feature[i].bytes_list.value[0],np.uint8).astype(np.float32)) # audio_frame gets 128 8 bit numbers on each for loop iteration\n",
    "            pad = [np.zeros([128], np.float32) for i in range(max_len-n_frames)] \n",
    "            # if clip is less than 10 sec, audio_frame is padded with zeros for \n",
    "            #rest of the secs to make it to 10 sec.\n",
    "            \n",
    "            audio_frame += pad\n",
    "            X.append(audio_frame) #eg: X[5] will output 5th audioframe \n",
    "\n",
    "        j += 1\n",
    "        if j >= num_batches:\n",
    "            shuffle = np.random.permutation(range(rec_len))\n",
    "            j = 0\n",
    "\n",
    "        X = np.array(X)\n",
    "        print(\"size of X\",len(X))\n",
    "        print(\"size of y\",len(y))\n",
    "        yield X, np.array(y)"
   ]
  },
  {
   "cell_type": "code",
   "execution_count": null,
   "metadata": {},
   "outputs": [],
   "source": [
    "from keras.models import Sequential\n",
    "from keras.layers import Dense, BatchNormalization, Flatten\n",
    "\n",
    "multi_lr_model = Sequential()\n",
    "# lr_model.add(Flatten(input_shape = (10,128)))\n",
    "# multi_lr_model.add(BatchNormalization(input_shape=(10, 128)))\n",
    "\n",
    "multi_lr_model.add(Flatten(input_shape=(10, 128)))\n",
    "#multi_lr_model.add(Flatten())\n",
    "multi_lr_model.add(Dense(4, activation='softmax'))                \n",
    "multi_lr_model.compile(loss = 'sparse_categorical_crossentropy',\n",
    "              optimizer='sgd',\n",
    "              metrics=['accuracy'])\n"
   ]
  },
  {
   "cell_type": "code",
   "execution_count": null,
   "metadata": {},
   "outputs": [],
   "source": [
    "batch_size=  40 \n",
    "CV_frac = 0.1\n",
    "train_gen = data_generator_multiclass(batch_size,'../data/preprocessed/unbaltrain_spotting_gunshots_subset.tfrecord')#, 0, 1-CV_frac)\n",
    "val_gen = data_generator_multiclass(20,'../data/preprocessed/eval_spotting_gunshots_subset.tfrecord')#, 1-CV_frac, 1)\n",
    "rec_len = 22832 \n",
    "multi_lr_h = multi_lr_model.fit_generator(train_gen,steps_per_epoch=int(rec_len*(1-CV_frac))//batch_size, epochs=50,validation_data=val_gen, validation_steps=int(rec_len*CV_frac)//20,verbose=0, callbacks=[TQDMNotebookCallback()])"
   ]
  },
  {
   "cell_type": "code",
   "execution_count": null,
   "metadata": {},
   "outputs": [],
   "source": [
    "plt.plot(multi_lr_h.history['acc'], 'o-', label='train_acc')\n",
    "plt.plot(multi_lr_h.history['val_acc'], 'x-', label='val_acc')\n",
    "plt.xlabel('Epochs(100)', size=18)\n",
    "plt.ylabel('Accuracy', size=18)\n",
    "plt.legend()\n",
    "plt.savefig('results/training_results/LogisticRegression__Loss=sparse_catCE_100Epochs.png', dpi = 300)"
   ]
  },
  {
   "cell_type": "code",
   "execution_count": null,
   "metadata": {},
   "outputs": [],
   "source": [
    "print(\"Epochs = 100\")\n",
    "print(\"val_loss length:\",len(multi_lr_h.history['val_loss']))\n",
    "print(\"val_acc length:\",len(multi_lr_h.history['val_acc']))\n",
    "print(\"loss length:\",len(multi_lr_h.history['loss']))\n",
    "print(\"acc length:\",len(multi_lr_h.history['acc']))\n",
    "\n",
    "print(\"Average Training loss =\", sum(multi_lr_h.history['loss'])/len(multi_lr_h.history['loss']))\n",
    "print(\"Average Training accuracy=\", sum(multi_lr_h.history['acc'])/len(multi_lr_h.history['acc'])*100)\n",
    "print(\"Average validation loss =\", sum(multi_lr_h.history['val_loss'])/len(multi_lr_h.history['val_loss']))\n",
    "print(\"Average validation accuracy=\", sum(multi_lr_h.history['val_acc'])/len(multi_lr_h.history['val_acc'])*100)\n",
    "\n",
    "\n",
    "from keras.utils import plot_model\n",
    "plot_model(multi_lr_model, to_file='results/training_results/LogisticRegression__Loss=sparse_catCE_100Epochs.png')\n"
   ]
  },
  {
   "cell_type": "code",
   "execution_count": null,
   "metadata": {},
   "outputs": [],
   "source": [
    "multi_lr_model.save('Models/LogisticRegression__Loss=sparse_catCE_100Epochs.h5')"
   ]
  },
  {
   "cell_type": "code",
   "execution_count": null,
   "metadata": {},
   "outputs": [],
   "source": [
    "#LSTM Single Layer"
   ]
  },
  {
   "cell_type": "code",
   "execution_count": 2,
   "metadata": {},
   "outputs": [
    {
     "name": "stdout",
     "output_type": "stream",
     "text": [
      "WARNING:tensorflow:From /Users/abhilash/anaconda3/envs/avacado/lib/python3.7/site-packages/tensorflow/python/framework/op_def_library.py:263: colocate_with (from tensorflow.python.framework.ops) is deprecated and will be removed in a future version.\n",
      "Instructions for updating:\n",
      "Colocations handled automatically by placer.\n",
      "WARNING:tensorflow:From /Users/abhilash/anaconda3/envs/avacado/lib/python3.7/site-packages/keras/backend/tensorflow_backend.py:3445: calling dropout (from tensorflow.python.ops.nn_ops) with keep_prob is deprecated and will be removed in a future version.\n",
      "Instructions for updating:\n",
      "Please use `rate` instead of `keep_prob`. Rate should be set to `rate = 1 - keep_prob`.\n"
     ]
    }
   ],
   "source": [
    "from keras.models import Sequential\n",
    "from keras.layers import Dense, BatchNormalization, Dropout\n",
    "from keras.layers import LSTM\n",
    "from keras import regularizers\n",
    "from keras import optimizers\n",
    "\n",
    "adam = optimizers.Adam(lr=0.001)\n",
    "lstm_model = Sequential()\n",
    "lstm_model.add(BatchNormalization(input_shape=(None, 128)))\n",
    "lstm_model.add(Dropout(0.5))\n",
    "lstm_model.add(LSTM(128, activation='relu',\n",
    "        kernel_regularizer=regularizers.l2(0.01),\n",
    "        activity_regularizer=regularizers.l2(0.01)))\n",
    "lstm_model.add(Dense(1, activation='sigmoid'))\n",
    "\n",
    "# try using different optimizers and different optimizer configs\n",
    "lstm_model.compile(loss='binary_crossentropy',\n",
    "              optimizer=adam,\n",
    "              metrics=['accuracy'])"
   ]
  },
  {
   "cell_type": "code",
   "execution_count": 6,
   "metadata": {},
   "outputs": [
    {
     "name": "stdout",
     "output_type": "stream",
     "text": [
      "WARNING:tensorflow:From /Users/abhilash/anaconda3/envs/avacado/lib/python3.7/site-packages/tensorflow/python/ops/math_ops.py:3066: to_int32 (from tensorflow.python.ops.math_ops) is deprecated and will be removed in a future version.\n",
      "Instructions for updating:\n",
      "Use tf.cast instead.\n"
     ]
    },
    {
     "data": {
      "application/vnd.jupyter.widget-view+json": {
       "model_id": "9eb0addea5644918a2358ec3d7bf28b5",
       "version_major": 2,
       "version_minor": 0
      },
      "text/plain": [
       "HBox(children=(IntProgress(value=0, description='Training', max=20, style=ProgressStyle(description_width='ini…"
      ]
     },
     "metadata": {},
     "output_type": "display_data"
    },
    {
     "name": "stdout",
     "output_type": "stream",
     "text": [
      "Epoch 1/20\n",
      "WARNING:tensorflow:From <ipython-input-5-1ab2fd9a9ed9>:13: tf_record_iterator (from tensorflow.python.lib.io.tf_record) is deprecated and will be removed in a future version.\n",
      "Instructions for updating:\n",
      "Use eager execution and: \n",
      "`tf.data.TFRecordDataset(path)`\n"
     ]
    },
    {
     "data": {
      "application/vnd.jupyter.widget-view+json": {
       "model_id": "",
       "version_major": 2,
       "version_minor": 0
      },
      "text/plain": [
       "HBox(children=(IntProgress(value=0, description='Epoch 0', max=496, style=ProgressStyle(description_width='ini…"
      ]
     },
     "metadata": {},
     "output_type": "display_data"
    },
    {
     "name": "stdout",
     "output_type": "stream",
     "text": [
      "After fractioning:\n",
      "After fractioning:\n",
      "496/496 [==============================] - 29s 59ms/step - loss: 1.6054 - acc: 0.8260 - val_loss: 0.5366 - val_acc: 0.9045\n",
      "Epoch 2/20\n"
     ]
    },
    {
     "data": {
      "application/vnd.jupyter.widget-view+json": {
       "model_id": "",
       "version_major": 2,
       "version_minor": 0
      },
      "text/plain": [
       "HBox(children=(IntProgress(value=0, description='Epoch 1', max=496, style=ProgressStyle(description_width='ini…"
      ]
     },
     "metadata": {},
     "output_type": "display_data"
    },
    {
     "name": "stdout",
     "output_type": "stream",
     "text": [
      "496/496 [==============================] - 25s 50ms/step - loss: 0.4837 - acc: 0.8884 - val_loss: 0.3704 - val_acc: 0.9205\n",
      "Epoch 3/20\n"
     ]
    },
    {
     "data": {
      "application/vnd.jupyter.widget-view+json": {
       "model_id": "",
       "version_major": 2,
       "version_minor": 0
      },
      "text/plain": [
       "HBox(children=(IntProgress(value=0, description='Epoch 2', max=496, style=ProgressStyle(description_width='ini…"
      ]
     },
     "metadata": {},
     "output_type": "display_data"
    },
    {
     "name": "stdout",
     "output_type": "stream",
     "text": [
      "496/496 [==============================] - 28s 57ms/step - loss: 0.4045 - acc: 0.8987 - val_loss: 0.3200 - val_acc: 0.9261\n",
      "Epoch 4/20\n"
     ]
    },
    {
     "data": {
      "application/vnd.jupyter.widget-view+json": {
       "model_id": "",
       "version_major": 2,
       "version_minor": 0
      },
      "text/plain": [
       "HBox(children=(IntProgress(value=0, description='Epoch 3', max=496, style=ProgressStyle(description_width='ini…"
      ]
     },
     "metadata": {},
     "output_type": "display_data"
    },
    {
     "name": "stdout",
     "output_type": "stream",
     "text": [
      "496/496 [==============================] - 26s 53ms/step - loss: 0.3679 - acc: 0.9038 - val_loss: 0.2992 - val_acc: 0.9233\n",
      "Epoch 5/20\n"
     ]
    },
    {
     "data": {
      "application/vnd.jupyter.widget-view+json": {
       "model_id": "",
       "version_major": 2,
       "version_minor": 0
      },
      "text/plain": [
       "HBox(children=(IntProgress(value=0, description='Epoch 4', max=496, style=ProgressStyle(description_width='ini…"
      ]
     },
     "metadata": {},
     "output_type": "display_data"
    },
    {
     "name": "stdout",
     "output_type": "stream",
     "text": [
      "496/496 [==============================] - 27s 54ms/step - loss: 0.3458 - acc: 0.9102 - val_loss: 0.2910 - val_acc: 0.9216\n",
      "Epoch 6/20\n"
     ]
    },
    {
     "data": {
      "application/vnd.jupyter.widget-view+json": {
       "model_id": "",
       "version_major": 2,
       "version_minor": 0
      },
      "text/plain": [
       "HBox(children=(IntProgress(value=0, description='Epoch 5', max=496, style=ProgressStyle(description_width='ini…"
      ]
     },
     "metadata": {},
     "output_type": "display_data"
    },
    {
     "name": "stdout",
     "output_type": "stream",
     "text": [
      "496/496 [==============================] - 28s 56ms/step - loss: 0.3350 - acc: 0.9105 - val_loss: 0.2746 - val_acc: 0.9278\n",
      "Epoch 7/20\n"
     ]
    },
    {
     "data": {
      "application/vnd.jupyter.widget-view+json": {
       "model_id": "",
       "version_major": 2,
       "version_minor": 0
      },
      "text/plain": [
       "HBox(children=(IntProgress(value=0, description='Epoch 6', max=496, style=ProgressStyle(description_width='ini…"
      ]
     },
     "metadata": {},
     "output_type": "display_data"
    },
    {
     "name": "stdout",
     "output_type": "stream",
     "text": [
      "496/496 [==============================] - 27s 55ms/step - loss: 0.3199 - acc: 0.9128 - val_loss: 0.2703 - val_acc: 0.9278\n",
      "Epoch 8/20\n"
     ]
    },
    {
     "data": {
      "application/vnd.jupyter.widget-view+json": {
       "model_id": "",
       "version_major": 2,
       "version_minor": 0
      },
      "text/plain": [
       "HBox(children=(IntProgress(value=0, description='Epoch 7', max=496, style=ProgressStyle(description_width='ini…"
      ]
     },
     "metadata": {},
     "output_type": "display_data"
    },
    {
     "name": "stdout",
     "output_type": "stream",
     "text": [
      "496/496 [==============================] - 27s 55ms/step - loss: 0.3144 - acc: 0.9130 - val_loss: 0.2581 - val_acc: 0.9341\n",
      "Epoch 9/20\n"
     ]
    },
    {
     "data": {
      "application/vnd.jupyter.widget-view+json": {
       "model_id": "",
       "version_major": 2,
       "version_minor": 0
      },
      "text/plain": [
       "HBox(children=(IntProgress(value=0, description='Epoch 8', max=496, style=ProgressStyle(description_width='ini…"
      ]
     },
     "metadata": {},
     "output_type": "display_data"
    },
    {
     "name": "stdout",
     "output_type": "stream",
     "text": [
      "496/496 [==============================] - 26s 52ms/step - loss: 0.3069 - acc: 0.9118 - val_loss: 0.2515 - val_acc: 0.9335\n",
      "Epoch 10/20\n"
     ]
    },
    {
     "data": {
      "application/vnd.jupyter.widget-view+json": {
       "model_id": "",
       "version_major": 2,
       "version_minor": 0
      },
      "text/plain": [
       "HBox(children=(IntProgress(value=0, description='Epoch 9', max=496, style=ProgressStyle(description_width='ini…"
      ]
     },
     "metadata": {},
     "output_type": "display_data"
    },
    {
     "name": "stdout",
     "output_type": "stream",
     "text": [
      "496/496 [==============================] - 27s 54ms/step - loss: 0.2993 - acc: 0.9166 - val_loss: 0.2449 - val_acc: 0.9312\n",
      "Epoch 11/20\n"
     ]
    },
    {
     "data": {
      "application/vnd.jupyter.widget-view+json": {
       "model_id": "",
       "version_major": 2,
       "version_minor": 0
      },
      "text/plain": [
       "HBox(children=(IntProgress(value=0, description='Epoch 10', max=496, style=ProgressStyle(description_width='in…"
      ]
     },
     "metadata": {},
     "output_type": "display_data"
    },
    {
     "name": "stdout",
     "output_type": "stream",
     "text": [
      "496/496 [==============================] - 26s 51ms/step - loss: 0.2948 - acc: 0.9181 - val_loss: 0.2479 - val_acc: 0.9341\n",
      "Epoch 12/20\n"
     ]
    },
    {
     "data": {
      "application/vnd.jupyter.widget-view+json": {
       "model_id": "",
       "version_major": 2,
       "version_minor": 0
      },
      "text/plain": [
       "HBox(children=(IntProgress(value=0, description='Epoch 11', max=496, style=ProgressStyle(description_width='in…"
      ]
     },
     "metadata": {},
     "output_type": "display_data"
    },
    {
     "name": "stdout",
     "output_type": "stream",
     "text": [
      "496/496 [==============================] - 28s 57ms/step - loss: 0.2942 - acc: 0.9183 - val_loss: 0.2442 - val_acc: 0.9324\n",
      "Epoch 13/20\n"
     ]
    },
    {
     "data": {
      "application/vnd.jupyter.widget-view+json": {
       "model_id": "",
       "version_major": 2,
       "version_minor": 0
      },
      "text/plain": [
       "HBox(children=(IntProgress(value=0, description='Epoch 12', max=496, style=ProgressStyle(description_width='in…"
      ]
     },
     "metadata": {},
     "output_type": "display_data"
    },
    {
     "name": "stdout",
     "output_type": "stream",
     "text": [
      "496/496 [==============================] - 27s 55ms/step - loss: 0.2850 - acc: 0.9185 - val_loss: 0.2424 - val_acc: 0.9318\n",
      "Epoch 14/20\n"
     ]
    },
    {
     "data": {
      "application/vnd.jupyter.widget-view+json": {
       "model_id": "",
       "version_major": 2,
       "version_minor": 0
      },
      "text/plain": [
       "HBox(children=(IntProgress(value=0, description='Epoch 13', max=496, style=ProgressStyle(description_width='in…"
      ]
     },
     "metadata": {},
     "output_type": "display_data"
    },
    {
     "name": "stdout",
     "output_type": "stream",
     "text": [
      "496/496 [==============================] - 26s 52ms/step - loss: 0.2844 - acc: 0.9171 - val_loss: 0.2439 - val_acc: 0.9307\n",
      "Epoch 15/20\n"
     ]
    },
    {
     "data": {
      "application/vnd.jupyter.widget-view+json": {
       "model_id": "",
       "version_major": 2,
       "version_minor": 0
      },
      "text/plain": [
       "HBox(children=(IntProgress(value=0, description='Epoch 14', max=496, style=ProgressStyle(description_width='in…"
      ]
     },
     "metadata": {},
     "output_type": "display_data"
    },
    {
     "name": "stdout",
     "output_type": "stream",
     "text": [
      "496/496 [==============================] - 29s 58ms/step - loss: 0.2797 - acc: 0.9182 - val_loss: 0.2334 - val_acc: 0.9375\n",
      "Epoch 16/20\n"
     ]
    },
    {
     "data": {
      "application/vnd.jupyter.widget-view+json": {
       "model_id": "",
       "version_major": 2,
       "version_minor": 0
      },
      "text/plain": [
       "HBox(children=(IntProgress(value=0, description='Epoch 15', max=496, style=ProgressStyle(description_width='in…"
      ]
     },
     "metadata": {},
     "output_type": "display_data"
    },
    {
     "name": "stdout",
     "output_type": "stream",
     "text": [
      "496/496 [==============================] - 28s 56ms/step - loss: 0.2813 - acc: 0.9189 - val_loss: 0.2465 - val_acc: 0.9324\n",
      "Epoch 17/20\n"
     ]
    },
    {
     "data": {
      "application/vnd.jupyter.widget-view+json": {
       "model_id": "",
       "version_major": 2,
       "version_minor": 0
      },
      "text/plain": [
       "HBox(children=(IntProgress(value=0, description='Epoch 16', max=496, style=ProgressStyle(description_width='in…"
      ]
     },
     "metadata": {},
     "output_type": "display_data"
    },
    {
     "name": "stdout",
     "output_type": "stream",
     "text": [
      "496/496 [==============================] - 31s 62ms/step - loss: 0.2772 - acc: 0.9178 - val_loss: 0.2190 - val_acc: 0.9364\n",
      "Epoch 18/20\n"
     ]
    },
    {
     "data": {
      "application/vnd.jupyter.widget-view+json": {
       "model_id": "",
       "version_major": 2,
       "version_minor": 0
      },
      "text/plain": [
       "HBox(children=(IntProgress(value=0, description='Epoch 17', max=496, style=ProgressStyle(description_width='in…"
      ]
     },
     "metadata": {},
     "output_type": "display_data"
    },
    {
     "name": "stdout",
     "output_type": "stream",
     "text": [
      "496/496 [==============================] - 26s 52ms/step - loss: 0.2730 - acc: 0.9198 - val_loss: 0.2333 - val_acc: 0.9301\n",
      "Epoch 19/20\n"
     ]
    },
    {
     "data": {
      "application/vnd.jupyter.widget-view+json": {
       "model_id": "",
       "version_major": 2,
       "version_minor": 0
      },
      "text/plain": [
       "HBox(children=(IntProgress(value=0, description='Epoch 18', max=496, style=ProgressStyle(description_width='in…"
      ]
     },
     "metadata": {},
     "output_type": "display_data"
    },
    {
     "name": "stdout",
     "output_type": "stream",
     "text": [
      "496/496 [==============================] - 27s 54ms/step - loss: 0.2703 - acc: 0.9203 - val_loss: 0.2264 - val_acc: 0.9386\n",
      "Epoch 20/20\n"
     ]
    },
    {
     "data": {
      "application/vnd.jupyter.widget-view+json": {
       "model_id": "",
       "version_major": 2,
       "version_minor": 0
      },
      "text/plain": [
       "HBox(children=(IntProgress(value=0, description='Epoch 19', max=496, style=ProgressStyle(description_width='in…"
      ]
     },
     "metadata": {},
     "output_type": "display_data"
    },
    {
     "name": "stdout",
     "output_type": "stream",
     "text": [
      "496/496 [==============================] - 27s 55ms/step - loss: 0.2707 - acc: 0.9213 - val_loss: 0.2313 - val_acc: 0.9307\n",
      "\n"
     ]
    }
   ],
   "source": [
    "batch_size=32\n",
    "CV_frac = 0.1\n",
    "train_gen = data_generator(batch_size,'../../data/preprocessed/bal_gunspotting_in_school_subset.tfrecord', 0, 1-CV_frac)\n",
    "val_gen = data_generator(20,'../../data/preprocessed/bal_gunspotting_in_school_subset.tfrecord', 1-CV_frac, 1)\n",
    "\n",
    "rec_len = 17662\n",
    "\n",
    "lstm_h = lstm_model.fit_generator(train_gen,steps_per_epoch=int(rec_len*(1-CV_frac))//batch_size, epochs=20, \n",
    "                       validation_data=val_gen, validation_steps=int(rec_len*CV_frac)//20,\n",
    "                       verbose=1, callbacks=[TQDMNotebookCallback()])"
   ]
  },
  {
   "cell_type": "code",
   "execution_count": 14,
   "metadata": {},
   "outputs": [
    {
     "data": {
      "image/png": "[encoded data removed]",
      "text/plain": [
       "<Figure size 432x288 with 1 Axes>"
      ]
     },
     "metadata": {
      "needs_background": "light"
     },
     "output_type": "display_data"
    }
   ],
   "source": [
    "plt.plot(lstm_h.history['acc'], 'o-', label='train_acc')\n",
    "plt.plot(lstm_h.history['val_acc'], 'x-', label='val_acc')\n",
    "plt.xlabel('Epochs(20)', size=20)\n",
    "plt.ylabel('Accuracy', size=20)\n",
    "plt.legend()\n",
    "plt.savefig('../results/LSTM/LSTM__Loss=BinCE_lr0.001_20Epochs_performance.png', dpi = 300)"
   ]
  },
  {
   "cell_type": "code",
   "execution_count": 11,
   "metadata": {},
   "outputs": [
    {
     "name": "stdout",
     "output_type": "stream",
     "text": [
      "Epochs = 20\n",
      "val_loss length: 20\n",
      "val_acc length: 20\n",
      "loss length: 20\n",
      "acc length: 20\n",
      "Average Training loss = 0.3796796187886128\n",
      "Average Training accuracy= 90.90032762096773\n",
      "Average validation loss = 0.27423475399105385\n",
      "Average validation accuracy= 92.9261356287382\n"
     ]
    }
   ],
   "source": [
    "print(\"Epochs = 20\")\n",
    "print(\"val_loss length:\",len(lstm_h.history['val_loss']))\n",
    "print(\"val_acc length:\",len(lstm_h.history['val_acc']))\n",
    "print(\"loss length:\",len(lstm_h.history['loss']))\n",
    "print(\"acc length:\",len(lstm_h.history['acc']))\n",
    "\n",
    "print(\"Average Training loss =\", sum(lstm_h.history['loss'])/len(lstm_h.history['loss']))\n",
    "print(\"Average Training accuracy=\", sum(lstm_h.history['acc'])/len(lstm_h.history['acc'])*100)\n",
    "print(\"Average validation loss =\", sum(lstm_h.history['val_loss'])/len(lstm_h.history['val_loss']))\n",
    "print(\"Average validation accuracy=\", sum(lstm_h.history['val_acc'])/len(lstm_h.history['val_acc'])*100)\n",
    "\n",
    "\n",
    "from keras.utils import plot_model\n",
    "plot_model(lstm_model, to_file='../results/LSTM/LSTM_Loss=BinCE_20EpochsModel.png')\n"
   ]
  },
  {
   "cell_type": "code",
   "execution_count": 13,
   "metadata": {},
   "outputs": [],
   "source": [
    "lstm_model.save('../models/1LayerLSTM__Loss=BinCE_20Epochs_july02.h5')"
   ]
  },
  {
   "cell_type": "code",
   "execution_count": 103,
   "metadata": {},
   "outputs": [],
   "source": [
    "# 3 Layer LSTM network\n",
    "from keras.models import Sequential\n",
    "from keras.layers import Dense, BatchNormalization, Dropout\n",
    "from keras.layers import LSTM\n",
    "from keras import regularizers\n",
    "\n",
    "lstm3_model = Sequential()\n",
    "lstm3_model.add(BatchNormalization(input_shape=(None, 128)))\n",
    "lstm3_model.add(Dropout(0.5))\n",
    "\n",
    "lstm3_model.add(LSTM(64, activation='relu',\n",
    "        kernel_regularizer=regularizers.l2(0.01),\n",
    "        activity_regularizer=regularizers.l2(0.01),\n",
    "        return_sequences=True))\n",
    "\n",
    "lstm3_model.add(BatchNormalization())\n",
    "lstm3_model.add(Dropout(0.5))\n",
    "\n",
    "lstm3_model.add(LSTM(64, activation='relu',\n",
    "        kernel_regularizer=regularizers.l2(0.01),\n",
    "        activity_regularizer=regularizers.l2(0.01),\n",
    "        return_sequences=True))\n",
    "\n",
    "lstm3_model.add(BatchNormalization())\n",
    "lstm3_model.add(Dropout(0.5))\n",
    "\n",
    "lstm3_model.add(LSTM(64, activation='relu',\n",
    "        kernel_regularizer=regularizers.l2(0.01),\n",
    "        activity_regularizer=regularizers.l2(0.01)))\n",
    "\n",
    "lstm3_model.add(Dense(1, activation='sigmoid'))\n",
    "\n",
    "# try using different optimizers and different optimizer configs\n",
    "lstm3_model.compile(loss='binary_crossentropy',\n",
    "              optimizer='adam',\n",
    "              metrics=['accuracy'])\n"
   ]
  },
  {
   "cell_type": "code",
   "execution_count": 104,
   "metadata": {},
   "outputs": [
    {
     "data": {
      "application/vnd.jupyter.widget-view+json": {
       "model_id": "0c04e3f5cf604453a9b56c70356014dd",
       "version_major": 2,
       "version_minor": 0
      },
      "text/plain": [
       "HBox(children=(IntProgress(value=0, description='Training', max=40, style=ProgressStyle(description_width='ini…"
      ]
     },
     "metadata": {},
     "output_type": "display_data"
    },
    {
     "data": {
      "application/vnd.jupyter.widget-view+json": {
       "model_id": "",
       "version_major": 2,
       "version_minor": 0
      },
      "text/plain": [
       "HBox(children=(IntProgress(value=0, description='Epoch 0', max=496, style=ProgressStyle(description_width='ini…"
      ]
     },
     "metadata": {},
     "output_type": "display_data"
    },
    {
     "name": "stdout",
     "output_type": "stream",
     "text": [
      "Total audioframes in eval dataset: 584\n",
      "After fractioning:\n",
      "Total audioframes in eval dataset: 525\n",
      "Total audioframes in eval dataset: 584\n",
      "After fractioning:\n",
      "Total audioframes in eval dataset: 59\n"
     ]
    },
    {
     "data": {
      "application/vnd.jupyter.widget-view+json": {
       "model_id": "",
       "version_major": 2,
       "version_minor": 0
      },
      "text/plain": [
       "HBox(children=(IntProgress(value=0, description='Epoch 1', max=496, style=ProgressStyle(description_width='ini…"
      ]
     },
     "metadata": {},
     "output_type": "display_data"
    },
    {
     "data": {
      "application/vnd.jupyter.widget-view+json": {
       "model_id": "",
       "version_major": 2,
       "version_minor": 0
      },
      "text/plain": [
       "HBox(children=(IntProgress(value=0, description='Epoch 2', max=496, style=ProgressStyle(description_width='ini…"
      ]
     },
     "metadata": {},
     "output_type": "display_data"
    },
    {
     "data": {
      "application/vnd.jupyter.widget-view+json": {
       "model_id": "",
       "version_major": 2,
       "version_minor": 0
      },
      "text/plain": [
       "HBox(children=(IntProgress(value=0, description='Epoch 3', max=496, style=ProgressStyle(description_width='ini…"
      ]
     },
     "metadata": {},
     "output_type": "display_data"
    },
    {
     "data": {
      "application/vnd.jupyter.widget-view+json": {
       "model_id": "",
       "version_major": 2,
       "version_minor": 0
      },
      "text/plain": [
       "HBox(children=(IntProgress(value=0, description='Epoch 4', max=496, style=ProgressStyle(description_width='ini…"
      ]
     },
     "metadata": {},
     "output_type": "display_data"
    },
    {
     "data": {
      "application/vnd.jupyter.widget-view+json": {
       "model_id": "",
       "version_major": 2,
       "version_minor": 0
      },
      "text/plain": [
       "HBox(children=(IntProgress(value=0, description='Epoch 5', max=496, style=ProgressStyle(description_width='ini…"
      ]
     },
     "metadata": {},
     "output_type": "display_data"
    },
    {
     "data": {
      "application/vnd.jupyter.widget-view+json": {
       "model_id": "",
       "version_major": 2,
       "version_minor": 0
      },
      "text/plain": [
       "HBox(children=(IntProgress(value=0, description='Epoch 6', max=496, style=ProgressStyle(description_width='ini…"
      ]
     },
     "metadata": {},
     "output_type": "display_data"
    },
    {
     "data": {
      "application/vnd.jupyter.widget-view+json": {
       "model_id": "",
       "version_major": 2,
       "version_minor": 0
      },
      "text/plain": [
       "HBox(children=(IntProgress(value=0, description='Epoch 7', max=496, style=ProgressStyle(description_width='ini…"
      ]
     },
     "metadata": {},
     "output_type": "display_data"
    },
    {
     "data": {
      "application/vnd.jupyter.widget-view+json": {
       "model_id": "",
       "version_major": 2,
       "version_minor": 0
      },
      "text/plain": [
       "HBox(children=(IntProgress(value=0, description='Epoch 8', max=496, style=ProgressStyle(description_width='ini…"
      ]
     },
     "metadata": {},
     "output_type": "display_data"
    },
    {
     "data": {
      "application/vnd.jupyter.widget-view+json": {
       "model_id": "",
       "version_major": 2,
       "version_minor": 0
      },
      "text/plain": [
       "HBox(children=(IntProgress(value=0, description='Epoch 9', max=496, style=ProgressStyle(description_width='ini…"
      ]
     },
     "metadata": {},
     "output_type": "display_data"
    },
    {
     "data": {
      "application/vnd.jupyter.widget-view+json": {
       "model_id": "",
       "version_major": 2,
       "version_minor": 0
      },
      "text/plain": [
       "HBox(children=(IntProgress(value=0, description='Epoch 10', max=496, style=ProgressStyle(description_width='in…"
      ]
     },
     "metadata": {},
     "output_type": "display_data"
    },
    {
     "data": {
      "application/vnd.jupyter.widget-view+json": {
       "model_id": "",
       "version_major": 2,
       "version_minor": 0
      },
      "text/plain": [
       "HBox(children=(IntProgress(value=0, description='Epoch 11', max=496, style=ProgressStyle(description_width='in…"
      ]
     },
     "metadata": {},
     "output_type": "display_data"
    },
    {
     "data": {
      "application/vnd.jupyter.widget-view+json": {
       "model_id": "",
       "version_major": 2,
       "version_minor": 0
      },
      "text/plain": [
       "HBox(children=(IntProgress(value=0, description='Epoch 12', max=496, style=ProgressStyle(description_width='in…"
      ]
     },
     "metadata": {},
     "output_type": "display_data"
    },
    {
     "data": {
      "application/vnd.jupyter.widget-view+json": {
       "model_id": "",
       "version_major": 2,
       "version_minor": 0
      },
      "text/plain": [
       "HBox(children=(IntProgress(value=0, description='Epoch 13', max=496, style=ProgressStyle(description_width='in…"
      ]
     },
     "metadata": {},
     "output_type": "display_data"
    },
    {
     "data": {
      "application/vnd.jupyter.widget-view+json": {
       "model_id": "",
       "version_major": 2,
       "version_minor": 0
      },
      "text/plain": [
       "HBox(children=(IntProgress(value=0, description='Epoch 14', max=496, style=ProgressStyle(description_width='in…"
      ]
     },
     "metadata": {},
     "output_type": "display_data"
    },
    {
     "data": {
      "application/vnd.jupyter.widget-view+json": {
       "model_id": "",
       "version_major": 2,
       "version_minor": 0
      },
      "text/plain": [
       "HBox(children=(IntProgress(value=0, description='Epoch 15', max=496, style=ProgressStyle(description_width='in…"
      ]
     },
     "metadata": {},
     "output_type": "display_data"
    },
    {
     "data": {
      "application/vnd.jupyter.widget-view+json": {
       "model_id": "",
       "version_major": 2,
       "version_minor": 0
      },
      "text/plain": [
       "HBox(children=(IntProgress(value=0, description='Epoch 16', max=496, style=ProgressStyle(description_width='in…"
      ]
     },
     "metadata": {},
     "output_type": "display_data"
    },
    {
     "data": {
      "application/vnd.jupyter.widget-view+json": {
       "model_id": "",
       "version_major": 2,
       "version_minor": 0
      },
      "text/plain": [
       "HBox(children=(IntProgress(value=0, description='Epoch 17', max=496, style=ProgressStyle(description_width='in…"
      ]
     },
     "metadata": {},
     "output_type": "display_data"
    },
    {
     "data": {
      "application/vnd.jupyter.widget-view+json": {
       "model_id": "",
       "version_major": 2,
       "version_minor": 0
      },
      "text/plain": [
       "HBox(children=(IntProgress(value=0, description='Epoch 18', max=496, style=ProgressStyle(description_width='in…"
      ]
     },
     "metadata": {},
     "output_type": "display_data"
    },
    {
     "data": {
      "application/vnd.jupyter.widget-view+json": {
       "model_id": "",
       "version_major": 2,
       "version_minor": 0
      },
      "text/plain": [
       "HBox(children=(IntProgress(value=0, description='Epoch 19', max=496, style=ProgressStyle(description_width='in…"
      ]
     },
     "metadata": {},
     "output_type": "display_data"
    },
    {
     "data": {
      "application/vnd.jupyter.widget-view+json": {
       "model_id": "",
       "version_major": 2,
       "version_minor": 0
      },
      "text/plain": [
       "HBox(children=(IntProgress(value=0, description='Epoch 20', max=496, style=ProgressStyle(description_width='in…"
      ]
     },
     "metadata": {},
     "output_type": "display_data"
    },
    {
     "data": {
      "application/vnd.jupyter.widget-view+json": {
       "model_id": "",
       "version_major": 2,
       "version_minor": 0
      },
      "text/plain": [
       "HBox(children=(IntProgress(value=0, description='Epoch 21', max=496, style=ProgressStyle(description_width='in…"
      ]
     },
     "metadata": {},
     "output_type": "display_data"
    },
    {
     "data": {
      "application/vnd.jupyter.widget-view+json": {
       "model_id": "",
       "version_major": 2,
       "version_minor": 0
      },
      "text/plain": [
       "HBox(children=(IntProgress(value=0, description='Epoch 22', max=496, style=ProgressStyle(description_width='in…"
      ]
     },
     "metadata": {},
     "output_type": "display_data"
    },
    {
     "data": {
      "application/vnd.jupyter.widget-view+json": {
       "model_id": "",
       "version_major": 2,
       "version_minor": 0
      },
      "text/plain": [
       "HBox(children=(IntProgress(value=0, description='Epoch 23', max=496, style=ProgressStyle(description_width='in…"
      ]
     },
     "metadata": {},
     "output_type": "display_data"
    },
    {
     "data": {
      "application/vnd.jupyter.widget-view+json": {
       "model_id": "",
       "version_major": 2,
       "version_minor": 0
      },
      "text/plain": [
       "HBox(children=(IntProgress(value=0, description='Epoch 24', max=496, style=ProgressStyle(description_width='in…"
      ]
     },
     "metadata": {},
     "output_type": "display_data"
    },
    {
     "data": {
      "application/vnd.jupyter.widget-view+json": {
       "model_id": "",
       "version_major": 2,
       "version_minor": 0
      },
      "text/plain": [
       "HBox(children=(IntProgress(value=0, description='Epoch 25', max=496, style=ProgressStyle(description_width='in…"
      ]
     },
     "metadata": {},
     "output_type": "display_data"
    },
    {
     "data": {
      "application/vnd.jupyter.widget-view+json": {
       "model_id": "",
       "version_major": 2,
       "version_minor": 0
      },
      "text/plain": [
       "HBox(children=(IntProgress(value=0, description='Epoch 26', max=496, style=ProgressStyle(description_width='in…"
      ]
     },
     "metadata": {},
     "output_type": "display_data"
    },
    {
     "data": {
      "application/vnd.jupyter.widget-view+json": {
       "model_id": "",
       "version_major": 2,
       "version_minor": 0
      },
      "text/plain": [
       "HBox(children=(IntProgress(value=0, description='Epoch 27', max=496, style=ProgressStyle(description_width='in…"
      ]
     },
     "metadata": {},
     "output_type": "display_data"
    },
    {
     "data": {
      "application/vnd.jupyter.widget-view+json": {
       "model_id": "",
       "version_major": 2,
       "version_minor": 0
      },
      "text/plain": [
       "HBox(children=(IntProgress(value=0, description='Epoch 28', max=496, style=ProgressStyle(description_width='in…"
      ]
     },
     "metadata": {},
     "output_type": "display_data"
    },
    {
     "data": {
      "application/vnd.jupyter.widget-view+json": {
       "model_id": "",
       "version_major": 2,
       "version_minor": 0
      },
      "text/plain": [
       "HBox(children=(IntProgress(value=0, description='Epoch 29', max=496, style=ProgressStyle(description_width='in…"
      ]
     },
     "metadata": {},
     "output_type": "display_data"
    },
    {
     "data": {
      "application/vnd.jupyter.widget-view+json": {
       "model_id": "",
       "version_major": 2,
       "version_minor": 0
      },
      "text/plain": [
       "HBox(children=(IntProgress(value=0, description='Epoch 30', max=496, style=ProgressStyle(description_width='in…"
      ]
     },
     "metadata": {},
     "output_type": "display_data"
    },
    {
     "data": {
      "application/vnd.jupyter.widget-view+json": {
       "model_id": "",
       "version_major": 2,
       "version_minor": 0
      },
      "text/plain": [
       "HBox(children=(IntProgress(value=0, description='Epoch 31', max=496, style=ProgressStyle(description_width='in…"
      ]
     },
     "metadata": {},
     "output_type": "display_data"
    },
    {
     "data": {
      "application/vnd.jupyter.widget-view+json": {
       "model_id": "",
       "version_major": 2,
       "version_minor": 0
      },
      "text/plain": [
       "HBox(children=(IntProgress(value=0, description='Epoch 32', max=496, style=ProgressStyle(description_width='in…"
      ]
     },
     "metadata": {},
     "output_type": "display_data"
    },
    {
     "data": {
      "application/vnd.jupyter.widget-view+json": {
       "model_id": "",
       "version_major": 2,
       "version_minor": 0
      },
      "text/plain": [
       "HBox(children=(IntProgress(value=0, description='Epoch 33', max=496, style=ProgressStyle(description_width='in…"
      ]
     },
     "metadata": {},
     "output_type": "display_data"
    },
    {
     "data": {
      "application/vnd.jupyter.widget-view+json": {
       "model_id": "",
       "version_major": 2,
       "version_minor": 0
      },
      "text/plain": [
       "HBox(children=(IntProgress(value=0, description='Epoch 34', max=496, style=ProgressStyle(description_width='in…"
      ]
     },
     "metadata": {},
     "output_type": "display_data"
    },
    {
     "data": {
      "application/vnd.jupyter.widget-view+json": {
       "model_id": "",
       "version_major": 2,
       "version_minor": 0
      },
      "text/plain": [
       "HBox(children=(IntProgress(value=0, description='Epoch 35', max=496, style=ProgressStyle(description_width='in…"
      ]
     },
     "metadata": {},
     "output_type": "display_data"
    },
    {
     "data": {
      "application/vnd.jupyter.widget-view+json": {
       "model_id": "",
       "version_major": 2,
       "version_minor": 0
      },
      "text/plain": [
       "HBox(children=(IntProgress(value=0, description='Epoch 36', max=496, style=ProgressStyle(description_width='in…"
      ]
     },
     "metadata": {},
     "output_type": "display_data"
    },
    {
     "data": {
      "application/vnd.jupyter.widget-view+json": {
       "model_id": "",
       "version_major": 2,
       "version_minor": 0
      },
      "text/plain": [
       "HBox(children=(IntProgress(value=0, description='Epoch 37', max=496, style=ProgressStyle(description_width='in…"
      ]
     },
     "metadata": {},
     "output_type": "display_data"
    },
    {
     "data": {
      "application/vnd.jupyter.widget-view+json": {
       "model_id": "",
       "version_major": 2,
       "version_minor": 0
      },
      "text/plain": [
       "HBox(children=(IntProgress(value=0, description='Epoch 38', max=496, style=ProgressStyle(description_width='in…"
      ]
     },
     "metadata": {},
     "output_type": "display_data"
    },
    {
     "data": {
      "application/vnd.jupyter.widget-view+json": {
       "model_id": "",
       "version_major": 2,
       "version_minor": 0
      },
      "text/plain": [
       "HBox(children=(IntProgress(value=0, description='Epoch 39', max=496, style=ProgressStyle(description_width='in…"
      ]
     },
     "metadata": {},
     "output_type": "display_data"
    }
   ],
   "source": [
    "batch_size=32\n",
    "\n",
    "CV_frac = 0.1\n",
    "train_gen = data_generator(batch_size,'../data/preprocessed/eval_gunspotting_in_school_subset.tfrecord', 0, 1-CV_frac)\n",
    "val_gen = data_generator(128,'../data/preprocessed/eval_gunspotting_in_school_subset.tfrecord', 1-CV_frac, 1)\n",
    "\n",
    "rec_len = 17662\n",
    "\n",
    "lstm3_h = lstm3_model.fit_generator(train_gen,steps_per_epoch=int(rec_len*(1-CV_frac))//batch_size, epochs=40, \n",
    "                       validation_data=val_gen, validation_steps=int(rec_len*CV_frac)//128,\n",
    "                       verbose=0, callbacks=[TQDMNotebookCallback()])"
   ]
  },
  {
   "cell_type": "code",
   "execution_count": 105,
   "metadata": {},
   "outputs": [
    {
     "data": {
      "text/plain": [
       "<matplotlib.legend.Legend at 0xb65387358>"
      ]
     },
     "execution_count": 105,
     "metadata": {},
     "output_type": "execute_result"
    },
    {
     "data": {
      "image/png": "[encoded data removed]",
      "text/plain": [
       "<Figure size 432x288 with 1 Axes>"
      ]
     },
     "metadata": {
      "needs_background": "light"
     },
     "output_type": "display_data"
    }
   ],
   "source": [
    "plt.plot(lstm3_h.history['acc'], label='train_acc')\n",
    "plt.plot(lstm3_h.history['val_acc'], label='val_acc')\n",
    "plt.legend()"
   ]
  },
  {
   "cell_type": "code",
   "execution_count": 107,
   "metadata": {},
   "outputs": [
    {
     "name": "stdout",
     "output_type": "stream",
     "text": [
      "Epochs = 40\n",
      "val_loss length: 40\n",
      "val_acc length: 40\n",
      "loss length: 40\n",
      "acc length: 40\n",
      "Average Training loss = 0.5195937075937587\n",
      "Average Training accuracy= 94.4491872479839\n",
      "Average validation loss = 0.6649954723624084\n",
      "Average validation accuracy= 83.3898302167654\n"
     ]
    }
   ],
   "source": [
    "print(\"Epochs = 40\")\n",
    "print(\"val_loss length:\",len(lstm3_h.history['val_loss']))\n",
    "print(\"val_acc length:\",len(lstm3_h.history['val_acc']))\n",
    "print(\"loss length:\",len(lstm3_h.history['loss']))\n",
    "print(\"acc length:\",len(lstm3_h.history['acc']))\n",
    "\n",
    "print(\"Average Training loss =\", sum(lstm3_h.history['loss'])/len(lstm3_h.history['loss']))\n",
    "print(\"Average Training accuracy=\", sum(lstm3_h.history['acc'])/len(lstm3_h.history['acc'])*100)\n",
    "print(\"Average validation loss =\", sum(lstm3_h.history['val_loss'])/len(lstm3_h.history['val_loss']))\n",
    "print(\"Average validation accuracy=\", sum(lstm3_h.history['val_acc'])/len(lstm3_h.history['val_acc'])*100)\n",
    "\n",
    "\n",
    "from keras.utils import plot_model\n",
    "plot_model(lstm3_model, to_file='results/training_results/LSTM/LSTM3_Loss=BinCE_40EpochsModel.png')\n"
   ]
  },
  {
   "cell_type": "code",
   "execution_count": 109,
   "metadata": {},
   "outputs": [],
   "source": [
    "lstm3_model.save('Models/LSTM_ThreeLayer_100Epochs.h5')"
   ]
  },
  {
   "cell_type": "code",
   "execution_count": null,
   "metadata": {},
   "outputs": [],
   "source": [
    "# 2 layer LSTM"
   ]
  },
  {
   "cell_type": "code",
   "execution_count": 127,
   "metadata": {},
   "outputs": [],
   "source": [
    "# 2 Layer LSTM network\n",
    "from keras.models import Sequential\n",
    "from keras.layers import Dense, BatchNormalization, Dropout\n",
    "from keras.layers import LSTM\n",
    "from keras import regularizers\n",
    "\n",
    "adam = optimizers.Adam(lr=0.001)\n",
    "\n",
    "lstm2_model = Sequential()\n",
    "lstm2_model.add(BatchNormalization(input_shape=(None, 128)))\n",
    "lstm2_model.add(Dropout(0.5))\n",
    "\n",
    "lstm2_model.add(LSTM(64, activation='relu',\n",
    "        kernel_regularizer=regularizers.l2(0.02),\n",
    "        activity_regularizer=regularizers.l2(0.02),\n",
    "        return_sequences=True))\n",
    "\n",
    "\n",
    "lstm2_model.add(BatchNormalization())\n",
    "lstm2_model.add(Dropout(0.5))\n",
    "\n",
    "lstm2_model.add(LSTM(64, activation='relu',\n",
    "        kernel_regularizer=regularizers.l2(0.02),\n",
    "        activity_regularizer=regularizers.l2(0.02)))\n",
    "\n",
    "lstm2_model.add(Dense(1, activation='sigmoid'))\n",
    "\n",
    "# try using different optimizers and different optimizer configs\n",
    "lstm2_model.compile(loss='binary_crossentropy',\n",
    "              optimizer= adam,\n",
    "              metrics=['accuracy'])\n"
   ]
  },
  {
   "cell_type": "code",
   "execution_count": 128,
   "metadata": {},
   "outputs": [
    {
     "data": {
      "application/vnd.jupyter.widget-view+json": {
       "model_id": "f88151d9fd594b68bce06486b6a2e2a4",
       "version_major": 2,
       "version_minor": 0
      },
      "text/plain": [
       "HBox(children=(IntProgress(value=0, description='Training', max=10, style=ProgressStyle(description_width='ini…"
      ]
     },
     "metadata": {},
     "output_type": "display_data"
    },
    {
     "data": {
      "application/vnd.jupyter.widget-view+json": {
       "model_id": "",
       "version_major": 2,
       "version_minor": 0
      },
      "text/plain": [
       "HBox(children=(IntProgress(value=0, description='Epoch 0', max=496, style=ProgressStyle(description_width='ini…"
      ]
     },
     "metadata": {},
     "output_type": "display_data"
    },
    {
     "name": "stdout",
     "output_type": "stream",
     "text": [
      "Total audioframes in eval dataset: 584\n",
      "After fractioning:\n",
      "Total audioframes in eval dataset: 59\n",
      "Total audioframes in eval dataset: 584\n",
      "After fractioning:\n",
      "Total audioframes in eval dataset: 525\n"
     ]
    },
    {
     "data": {
      "application/vnd.jupyter.widget-view+json": {
       "model_id": "",
       "version_major": 2,
       "version_minor": 0
      },
      "text/plain": [
       "HBox(children=(IntProgress(value=0, description='Epoch 1', max=496, style=ProgressStyle(description_width='ini…"
      ]
     },
     "metadata": {},
     "output_type": "display_data"
    },
    {
     "data": {
      "application/vnd.jupyter.widget-view+json": {
       "model_id": "",
       "version_major": 2,
       "version_minor": 0
      },
      "text/plain": [
       "HBox(children=(IntProgress(value=0, description='Epoch 2', max=496, style=ProgressStyle(description_width='ini…"
      ]
     },
     "metadata": {},
     "output_type": "display_data"
    },
    {
     "data": {
      "application/vnd.jupyter.widget-view+json": {
       "model_id": "",
       "version_major": 2,
       "version_minor": 0
      },
      "text/plain": [
       "HBox(children=(IntProgress(value=0, description='Epoch 3', max=496, style=ProgressStyle(description_width='ini…"
      ]
     },
     "metadata": {},
     "output_type": "display_data"
    },
    {
     "data": {
      "application/vnd.jupyter.widget-view+json": {
       "model_id": "",
       "version_major": 2,
       "version_minor": 0
      },
      "text/plain": [
       "HBox(children=(IntProgress(value=0, description='Epoch 4', max=496, style=ProgressStyle(description_width='ini…"
      ]
     },
     "metadata": {},
     "output_type": "display_data"
    },
    {
     "data": {
      "application/vnd.jupyter.widget-view+json": {
       "model_id": "",
       "version_major": 2,
       "version_minor": 0
      },
      "text/plain": [
       "HBox(children=(IntProgress(value=0, description='Epoch 5', max=496, style=ProgressStyle(description_width='ini…"
      ]
     },
     "metadata": {},
     "output_type": "display_data"
    },
    {
     "data": {
      "application/vnd.jupyter.widget-view+json": {
       "model_id": "",
       "version_major": 2,
       "version_minor": 0
      },
      "text/plain": [
       "HBox(children=(IntProgress(value=0, description='Epoch 6', max=496, style=ProgressStyle(description_width='ini…"
      ]
     },
     "metadata": {},
     "output_type": "display_data"
    },
    {
     "data": {
      "application/vnd.jupyter.widget-view+json": {
       "model_id": "",
       "version_major": 2,
       "version_minor": 0
      },
      "text/plain": [
       "HBox(children=(IntProgress(value=0, description='Epoch 7', max=496, style=ProgressStyle(description_width='ini…"
      ]
     },
     "metadata": {},
     "output_type": "display_data"
    },
    {
     "data": {
      "application/vnd.jupyter.widget-view+json": {
       "model_id": "",
       "version_major": 2,
       "version_minor": 0
      },
      "text/plain": [
       "HBox(children=(IntProgress(value=0, description='Epoch 8', max=496, style=ProgressStyle(description_width='ini…"
      ]
     },
     "metadata": {},
     "output_type": "display_data"
    },
    {
     "data": {
      "application/vnd.jupyter.widget-view+json": {
       "model_id": "",
       "version_major": 2,
       "version_minor": 0
      },
      "text/plain": [
       "HBox(children=(IntProgress(value=0, description='Epoch 9', max=496, style=ProgressStyle(description_width='ini…"
      ]
     },
     "metadata": {},
     "output_type": "display_data"
    }
   ],
   "source": [
    "batch_size=32\n",
    "\n",
    "CV_frac = 0.1\n",
    "train_gen = data_generator(batch_size,'../data/preprocessed/eval_gunspotting_in_school_subset.tfrecord', 0, 1-CV_frac)\n",
    "val_gen = data_generator(128,'../data/preprocessed/eval_gunspotting_in_school_subset.tfrecord', 1-CV_frac, 1)\n",
    "\n",
    "rec_len = 17662\n",
    "\n",
    "lstm2_h = lstm2_model.fit_generator(train_gen,steps_per_epoch=int(rec_len*(1-CV_frac))//batch_size, epochs=10, \n",
    "                       validation_data=val_gen, validation_steps=int(rec_len*CV_frac)//128,\n",
    "                       verbose=0, callbacks=[TQDMNotebookCallback()])"
   ]
  },
  {
   "cell_type": "code",
   "execution_count": 129,
   "metadata": {},
   "outputs": [
    {
     "data": {
      "text/plain": [
       "<matplotlib.legend.Legend at 0xb741cff60>"
      ]
     },
     "execution_count": 129,
     "metadata": {},
     "output_type": "execute_result"
    },
    {
     "data": {
      "image/png": "[encoded data removed]",
      "text/plain": [
       "<Figure size 432x288 with 1 Axes>"
      ]
     },
     "metadata": {
      "needs_background": "light"
     },
     "output_type": "display_data"
    }
   ],
   "source": [
    "plt.plot(lstm2_h.history['acc'], label='train_acc')\n",
    "plt.plot(lstm2_h.history['val_acc'], label='val_acc')\n",
    "plt.legend()"
   ]
  },
  {
   "cell_type": "code",
   "execution_count": 130,
   "metadata": {},
   "outputs": [
    {
     "name": "stdout",
     "output_type": "stream",
     "text": [
      "Epochs = 25\n",
      "val_loss length: 10\n",
      "val_acc length: 10\n",
      "loss length: 10\n",
      "acc length: 10\n",
      "Average Training loss = 1.6220205805715053\n",
      "Average Training accuracy= 88.86907762096774\n",
      "Average validation loss = 0.925989933197315\n",
      "Average validation accuracy= 81.18644058704376\n"
     ]
    }
   ],
   "source": [
    "print(\"Epochs = 25\")\n",
    "print(\"val_loss length:\",len(lstm2_h.history['val_loss']))\n",
    "print(\"val_acc length:\",len(lstm2_h.history['val_acc']))\n",
    "print(\"loss length:\",len(lstm2_h.history['loss']))\n",
    "print(\"acc length:\",len(lstm2_h.history['acc']))\n",
    "\n",
    "print(\"Average Training loss =\", sum(lstm2_h.history['loss'])/len(lstm2_h.history['loss']))\n",
    "print(\"Average Training accuracy=\", sum(lstm2_h.history['acc'])/len(lstm2_h.history['acc'])*100)\n",
    "print(\"Average validation loss =\", sum(lstm2_h.history['val_loss'])/len(lstm2_h.history['val_loss']))\n",
    "print(\"Average validation accuracy=\", sum(lstm2_h.history['val_acc'])/len(lstm2_h.history['val_acc'])*100)\n",
    "\n",
    "\n",
    "from keras.utils import plot_model\n",
    "plot_model(lstm2_model, to_file='results/training_results/LSTM/LSTM3_Loss=BinCE_25EpochsModel.png')\n"
   ]
  },
  {
   "cell_type": "code",
   "execution_count": 134,
   "metadata": {},
   "outputs": [],
   "source": [
    "lstm3_model.save('Models/LSTM_TwoLayer_25Epochs_Valid81.h5')"
   ]
  },
  {
   "cell_type": "code",
   "execution_count": null,
   "metadata": {},
   "outputs": [],
   "source": []
  }
 ],
 "metadata": {
  "kernelspec": {
   "display_name": "Python 3",
   "language": "python",
   "name": "python3"
  },
  "language_info": {
   "codemirror_mode": {
    "name": "ipython",
    "version": 3
   },
   "file_extension": ".py",
   "mimetype": "text/x-python",
   "name": "python",
   "nbconvert_exporter": "python",
   "pygments_lexer": "ipython3",
   "version": "3.7.2"
  }
 },
 "nbformat": 4,
 "nbformat_minor": 2
}
