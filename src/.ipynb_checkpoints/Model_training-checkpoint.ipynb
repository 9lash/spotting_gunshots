{
 "cells": [
  {
   "cell_type": "code",
   "execution_count": 1,
   "metadata": {},
   "outputs": [
    {
     "name": "stderr",
     "output_type": "stream",
     "text": [
      "Using TensorFlow backend.\n"
     ]
    }
   ],
   "source": [
    "%matplotlib inline\n",
    "import matplotlib.pyplot as plt\n",
    "plt.rcParams['figure.figsize'] = (12,8)\n",
    "import numpy as np\n",
    "import tensorflow as tf\n",
    "import keras\n",
    "import pandas as pd\n",
    "from keras_tqdm import TQDMNotebookCallback"
   ]
  },
  {
   "cell_type": "code",
   "execution_count": 15,
   "metadata": {},
   "outputs": [],
   "source": [
    "from keras.preprocessing.sequence import pad_sequences\n",
    "\n",
    "def data_generator(batch_size, tfrecord, start_frac=0, end_frac=1):\n",
    "    '''\n",
    "    Shuffles the Audioset training data and returns a generator of training data and boolean gunshot labels\n",
    "    batch_size: batch size for each set of training data and labels\n",
    "    tfrecord: filestring of the tfrecord file to train on\n",
    "    start_frac: the starting point of the data set to use, as a fraction of total record length (used for CV)\n",
    "    end_frac: the ending point of the data set to use, as a fraction of total record length (used for CV)\n",
    "    '''\n",
    "    max_len=10\n",
    "    #tfrecord holds data in binary sequence string. \n",
    "    records = list(tf.python_io.tf_record_iterator(tfrecord))  #records holds the array of the tfrecord file\n",
    "    if(tfrecord == '../data/preprocessed/bal_gunspotting_in_school_subset.tfrecord'):\n",
    "        print(\"Total audioframes in training dataset:\", len(records))\n",
    "    elif(tfrecord == '../data/preprocessed/eval_gunspotting_in_school_subset.tfrecord'):\n",
    "        print(\"Total audioframes in eval dataset:\", len(records))\n",
    "        \n",
    "    records = records[int(start_frac*len(records)):int(end_frac*len(records))]  # Make train_set & CV_set \n",
    "    print(\"After fractioning:\")\n",
    "    if(tfrecord == '../data/preprocessed/bal_gunspotting_in_school_subset.tfrecord'):\n",
    "        print(\"Total audioframes in training dataset:\", len(records))\n",
    "    elif(tfrecord == '../data/preprocessed/eval_gunspotting_in_school_subset.tfrecord'):\n",
    "        print(\"Total audioframes in eval dataset:\", len(records))\n",
    "    \n",
    "    rec_len = len(records)  # this is your train set, rest is CV_set\n",
    "    \n",
    "    shuffle = np.random.permutation(range(rec_len))\n",
    "    num_batches = rec_len//batch_size - 1                      \n",
    "    j = 0\n",
    "    \n",
    "    gun_labels = [426,427,428,429,430,431]\n",
    "#     fireworks_labels = [432,433,434]\n",
    "#     background_labels= [506,507,508,509,510,511,512,513,514,515,516,517,518,519,520,521,522,523,524,525,526]\n",
    "#     other_labels =[]\n",
    "    \n",
    "    while True:\n",
    "        X = []\n",
    "        y = []  #add g=[],f=[],b=[],other=[]\n",
    "        for idx in shuffle[j*batch_size:(j+1)*batch_size]:\n",
    "            example = records[idx]\n",
    "            tf_seq_example = tf.train.SequenceExample.FromString(example)\n",
    "            example_label = list(np.asarray(tf_seq_example.context.feature['labels'].int64_list.value))\n",
    "            value_x = any((True for x in example_label if x in gun_labels)) #add f_bin, b_bin, other_bin\n",
    "            if(value_x==True):\n",
    "                y.append(1)      #[1,1,0,1,0...] \n",
    "            else:\n",
    "                y.append(0)\n",
    "                \n",
    "            n_frames = len(tf_seq_example.feature_lists.feature_list['audio_embedding'].feature)\n",
    "            audio_frame = []\n",
    "            for i in range(n_frames):\n",
    "                audio_frame.append(np.frombuffer(tf_seq_example.feature_lists.feature_list['audio_embedding'].\n",
    "                                                         feature[i].bytes_list.value[0],np.uint8).astype(np.float32)) # audio_frame gets 128 8 bit numbers on each for loop iteration\n",
    "            pad = [np.zeros([128], np.float32) for i in range(max_len-n_frames)] \n",
    "            # if clip is less than 10 sec, audio_frame is padded with zeros for \n",
    "            #rest of the secs to make it to 10 sec.\n",
    "            \n",
    "            audio_frame += pad\n",
    "            X.append(audio_frame) #eg: X[5] will output 5th audioframe \n",
    "\n",
    "        j += 1\n",
    "        if j >= num_batches:\n",
    "            shuffle = np.random.permutation(range(rec_len))\n",
    "            j = 0\n",
    "\n",
    "        X = np.array(X)\n",
    "        yield X, np.array(y)"
   ]
  },
  {
   "cell_type": "code",
   "execution_count": 16,
   "metadata": {},
   "outputs": [],
   "source": [
    "#Logistic Regression"
   ]
  },
  {
   "cell_type": "code",
   "execution_count": 17,
   "metadata": {},
   "outputs": [],
   "source": [
    "from keras.models import Sequential\n",
    "from keras.layers import Dense, BatchNormalization, Flatten\n",
    "\n",
    "lr_model = Sequential()\n",
    "# lr_model.add(Flatten(input_shape = (10,128)))\n",
    "lr_model.add(BatchNormalization(input_shape=(10, 128)))\n",
    "lr_model.add(Flatten())\n",
    "lr_model.add(Dense(1, activation='sigmoid'))                \n",
    "lr_model.compile(loss = 'binary_crossentropy',\n",
    "              optimizer='adam',\n",
    "              metrics=['accuracy'])"
   ]
  },
  {
   "cell_type": "code",
   "execution_count": 18,
   "metadata": {},
   "outputs": [
    {
     "data": {
      "application/vnd.jupyter.widget-view+json": {
       "model_id": "d14d672c1bfe46cf80be39ebc0c5779b",
       "version_major": 2,
       "version_minor": 0
      },
      "text/plain": [
       "HBox(children=(IntProgress(value=0, description='Training', max=50, style=ProgressStyle(description_width='ini…"
      ]
     },
     "metadata": {},
     "output_type": "display_data"
    },
    {
     "name": "stdout",
     "output_type": "stream",
     "text": [
      "Epoch 1/50\n"
     ]
    },
    {
     "data": {
      "application/vnd.jupyter.widget-view+json": {
       "model_id": "",
       "version_major": 2,
       "version_minor": 0
      },
      "text/plain": [
       "HBox(children=(IntProgress(value=0, description='Epoch 0', max=397, style=ProgressStyle(description_width='ini…"
      ]
     },
     "metadata": {},
     "output_type": "display_data"
    },
    {
     "name": "stdout",
     "output_type": "stream",
     "text": [
      "Total audioframes in training dataset: 17662\n",
      "After fractioning:\n",
      "Total audioframes in training dataset: 1767\n",
      "Total audioframes in training dataset: 17662\n",
      "After fractioning:\n",
      "Total audioframes in training dataset: 15895\n",
      "397/397 [==============================] - 8s 21ms/step - loss: 0.3283 - acc: 0.8628 - val_loss: 0.2649 - val_acc: 0.8977\n",
      "Epoch 2/50\n"
     ]
    },
    {
     "data": {
      "application/vnd.jupyter.widget-view+json": {
       "model_id": "",
       "version_major": 2,
       "version_minor": 0
      },
      "text/plain": [
       "HBox(children=(IntProgress(value=0, description='Epoch 1', max=397, style=ProgressStyle(description_width='ini…"
      ]
     },
     "metadata": {},
     "output_type": "display_data"
    },
    {
     "name": "stdout",
     "output_type": "stream",
     "text": [
      "397/397 [==============================] - 7s 17ms/step - loss: 0.2681 - acc: 0.8952 - val_loss: 0.2706 - val_acc: 0.8937\n",
      "Epoch 3/50\n"
     ]
    },
    {
     "data": {
      "application/vnd.jupyter.widget-view+json": {
       "model_id": "",
       "version_major": 2,
       "version_minor": 0
      },
      "text/plain": [
       "HBox(children=(IntProgress(value=0, description='Epoch 2', max=397, style=ProgressStyle(description_width='ini…"
      ]
     },
     "metadata": {},
     "output_type": "display_data"
    },
    {
     "name": "stdout",
     "output_type": "stream",
     "text": [
      "397/397 [==============================] - 6s 15ms/step - loss: 0.2524 - acc: 0.9004 - val_loss: 0.2772 - val_acc: 0.8943\n",
      "Epoch 4/50\n"
     ]
    },
    {
     "data": {
      "application/vnd.jupyter.widget-view+json": {
       "model_id": "",
       "version_major": 2,
       "version_minor": 0
      },
      "text/plain": [
       "HBox(children=(IntProgress(value=0, description='Epoch 3', max=397, style=ProgressStyle(description_width='ini…"
      ]
     },
     "metadata": {},
     "output_type": "display_data"
    },
    {
     "name": "stdout",
     "output_type": "stream",
     "text": [
      "397/397 [==============================] - 6s 16ms/step - loss: 0.2481 - acc: 0.9036 - val_loss: 0.2674 - val_acc: 0.8881\n",
      "Epoch 5/50\n"
     ]
    },
    {
     "data": {
      "application/vnd.jupyter.widget-view+json": {
       "model_id": "",
       "version_major": 2,
       "version_minor": 0
      },
      "text/plain": [
       "HBox(children=(IntProgress(value=0, description='Epoch 4', max=397, style=ProgressStyle(description_width='ini…"
      ]
     },
     "metadata": {},
     "output_type": "display_data"
    },
    {
     "name": "stdout",
     "output_type": "stream",
     "text": [
      "397/397 [==============================] - 7s 16ms/step - loss: 0.2422 - acc: 0.9048 - val_loss: 0.2737 - val_acc: 0.8932\n",
      "Epoch 6/50\n"
     ]
    },
    {
     "data": {
      "application/vnd.jupyter.widget-view+json": {
       "model_id": "",
       "version_major": 2,
       "version_minor": 0
      },
      "text/plain": [
       "HBox(children=(IntProgress(value=0, description='Epoch 5', max=397, style=ProgressStyle(description_width='ini…"
      ]
     },
     "metadata": {},
     "output_type": "display_data"
    },
    {
     "name": "stdout",
     "output_type": "stream",
     "text": [
      "397/397 [==============================] - 7s 17ms/step - loss: 0.2451 - acc: 0.9043 - val_loss: 0.2756 - val_acc: 0.8881\n",
      "Epoch 7/50\n"
     ]
    },
    {
     "data": {
      "application/vnd.jupyter.widget-view+json": {
       "model_id": "",
       "version_major": 2,
       "version_minor": 0
      },
      "text/plain": [
       "HBox(children=(IntProgress(value=0, description='Epoch 6', max=397, style=ProgressStyle(description_width='ini…"
      ]
     },
     "metadata": {},
     "output_type": "display_data"
    },
    {
     "name": "stdout",
     "output_type": "stream",
     "text": [
      "397/397 [==============================] - 6s 15ms/step - loss: 0.2424 - acc: 0.9038 - val_loss: 0.2837 - val_acc: 0.8875\n",
      "Epoch 8/50\n"
     ]
    },
    {
     "data": {
      "application/vnd.jupyter.widget-view+json": {
       "model_id": "",
       "version_major": 2,
       "version_minor": 0
      },
      "text/plain": [
       "HBox(children=(IntProgress(value=0, description='Epoch 7', max=397, style=ProgressStyle(description_width='ini…"
      ]
     },
     "metadata": {},
     "output_type": "display_data"
    },
    {
     "name": "stdout",
     "output_type": "stream",
     "text": [
      "397/397 [==============================] - 6s 15ms/step - loss: 0.2426 - acc: 0.9050 - val_loss: 0.2788 - val_acc: 0.8881\n",
      "Epoch 9/50\n"
     ]
    },
    {
     "data": {
      "application/vnd.jupyter.widget-view+json": {
       "model_id": "",
       "version_major": 2,
       "version_minor": 0
      },
      "text/plain": [
       "HBox(children=(IntProgress(value=0, description='Epoch 8', max=397, style=ProgressStyle(description_width='ini…"
      ]
     },
     "metadata": {},
     "output_type": "display_data"
    },
    {
     "name": "stdout",
     "output_type": "stream",
     "text": [
      "397/397 [==============================] - 6s 16ms/step - loss: 0.2383 - acc: 0.9051 - val_loss: 0.2881 - val_acc: 0.8903\n",
      "Epoch 10/50\n"
     ]
    },
    {
     "data": {
      "application/vnd.jupyter.widget-view+json": {
       "model_id": "",
       "version_major": 2,
       "version_minor": 0
      },
      "text/plain": [
       "HBox(children=(IntProgress(value=0, description='Epoch 9', max=397, style=ProgressStyle(description_width='ini…"
      ]
     },
     "metadata": {},
     "output_type": "display_data"
    },
    {
     "name": "stdout",
     "output_type": "stream",
     "text": [
      "397/397 [==============================] - 7s 17ms/step - loss: 0.2381 - acc: 0.9052 - val_loss: 0.2762 - val_acc: 0.8915\n",
      "Epoch 11/50\n"
     ]
    },
    {
     "data": {
      "application/vnd.jupyter.widget-view+json": {
       "model_id": "",
       "version_major": 2,
       "version_minor": 0
      },
      "text/plain": [
       "HBox(children=(IntProgress(value=0, description='Epoch 10', max=397, style=ProgressStyle(description_width='in…"
      ]
     },
     "metadata": {},
     "output_type": "display_data"
    },
    {
     "name": "stdout",
     "output_type": "stream",
     "text": [
      "397/397 [==============================] - 6s 16ms/step - loss: 0.2380 - acc: 0.9071 - val_loss: 0.2815 - val_acc: 0.8903\n",
      "Epoch 12/50\n"
     ]
    },
    {
     "data": {
      "application/vnd.jupyter.widget-view+json": {
       "model_id": "",
       "version_major": 2,
       "version_minor": 0
      },
      "text/plain": [
       "HBox(children=(IntProgress(value=0, description='Epoch 11', max=397, style=ProgressStyle(description_width='in…"
      ]
     },
     "metadata": {},
     "output_type": "display_data"
    },
    {
     "name": "stdout",
     "output_type": "stream",
     "text": [
      "397/397 [==============================] - 6s 16ms/step - loss: 0.2385 - acc: 0.9071 - val_loss: 0.2820 - val_acc: 0.8841\n",
      "Epoch 13/50\n"
     ]
    },
    {
     "data": {
      "application/vnd.jupyter.widget-view+json": {
       "model_id": "",
       "version_major": 2,
       "version_minor": 0
      },
      "text/plain": [
       "HBox(children=(IntProgress(value=0, description='Epoch 12', max=397, style=ProgressStyle(description_width='in…"
      ]
     },
     "metadata": {},
     "output_type": "display_data"
    },
    {
     "name": "stdout",
     "output_type": "stream",
     "text": [
      "397/397 [==============================] - 7s 16ms/step - loss: 0.2401 - acc: 0.9064 - val_loss: 0.2883 - val_acc: 0.8830\n",
      "Epoch 14/50\n"
     ]
    },
    {
     "data": {
      "application/vnd.jupyter.widget-view+json": {
       "model_id": "",
       "version_major": 2,
       "version_minor": 0
      },
      "text/plain": [
       "HBox(children=(IntProgress(value=0, description='Epoch 13', max=397, style=ProgressStyle(description_width='in…"
      ]
     },
     "metadata": {},
     "output_type": "display_data"
    },
    {
     "name": "stdout",
     "output_type": "stream",
     "text": [
      "397/397 [==============================] - 6s 16ms/step - loss: 0.2322 - acc: 0.9090 - val_loss: 0.2901 - val_acc: 0.8835\n",
      "Epoch 15/50\n"
     ]
    },
    {
     "data": {
      "application/vnd.jupyter.widget-view+json": {
       "model_id": "",
       "version_major": 2,
       "version_minor": 0
      },
      "text/plain": [
       "HBox(children=(IntProgress(value=0, description='Epoch 14', max=397, style=ProgressStyle(description_width='in…"
      ]
     },
     "metadata": {},
     "output_type": "display_data"
    },
    {
     "name": "stdout",
     "output_type": "stream",
     "text": [
      "397/397 [==============================] - 6s 16ms/step - loss: 0.2365 - acc: 0.9084 - val_loss: 0.2845 - val_acc: 0.8881\n",
      "Epoch 16/50\n"
     ]
    },
    {
     "data": {
      "application/vnd.jupyter.widget-view+json": {
       "model_id": "",
       "version_major": 2,
       "version_minor": 0
      },
      "text/plain": [
       "HBox(children=(IntProgress(value=0, description='Epoch 15', max=397, style=ProgressStyle(description_width='in…"
      ]
     },
     "metadata": {},
     "output_type": "display_data"
    },
    {
     "name": "stdout",
     "output_type": "stream",
     "text": [
      "397/397 [==============================] - 6s 16ms/step - loss: 0.2409 - acc: 0.9069 - val_loss: 0.2851 - val_acc: 0.8898\n",
      "Epoch 17/50\n"
     ]
    },
    {
     "data": {
      "application/vnd.jupyter.widget-view+json": {
       "model_id": "",
       "version_major": 2,
       "version_minor": 0
      },
      "text/plain": [
       "HBox(children=(IntProgress(value=0, description='Epoch 16', max=397, style=ProgressStyle(description_width='in…"
      ]
     },
     "metadata": {},
     "output_type": "display_data"
    },
    {
     "name": "stdout",
     "output_type": "stream",
     "text": [
      "397/397 [==============================] - 6s 15ms/step - loss: 0.2342 - acc: 0.9096 - val_loss: 0.2887 - val_acc: 0.8892\n",
      "Epoch 18/50\n"
     ]
    },
    {
     "data": {
      "application/vnd.jupyter.widget-view+json": {
       "model_id": "",
       "version_major": 2,
       "version_minor": 0
      },
      "text/plain": [
       "HBox(children=(IntProgress(value=0, description='Epoch 17', max=397, style=ProgressStyle(description_width='in…"
      ]
     },
     "metadata": {},
     "output_type": "display_data"
    },
    {
     "name": "stdout",
     "output_type": "stream",
     "text": [
      "397/397 [==============================] - 6s 16ms/step - loss: 0.2371 - acc: 0.9059 - val_loss: 0.2906 - val_acc: 0.8852\n",
      "Epoch 19/50\n"
     ]
    },
    {
     "data": {
      "application/vnd.jupyter.widget-view+json": {
       "model_id": "",
       "version_major": 2,
       "version_minor": 0
      },
      "text/plain": [
       "HBox(children=(IntProgress(value=0, description='Epoch 18', max=397, style=ProgressStyle(description_width='in…"
      ]
     },
     "metadata": {},
     "output_type": "display_data"
    },
    {
     "name": "stdout",
     "output_type": "stream",
     "text": [
      "397/397 [==============================] - 6s 16ms/step - loss: 0.2383 - acc: 0.9044 - val_loss: 0.2969 - val_acc: 0.8830\n",
      "Epoch 20/50\n"
     ]
    },
    {
     "data": {
      "application/vnd.jupyter.widget-view+json": {
       "model_id": "",
       "version_major": 2,
       "version_minor": 0
      },
      "text/plain": [
       "HBox(children=(IntProgress(value=0, description='Epoch 19', max=397, style=ProgressStyle(description_width='in…"
      ]
     },
     "metadata": {},
     "output_type": "display_data"
    },
    {
     "name": "stdout",
     "output_type": "stream",
     "text": [
      "397/397 [==============================] - 6s 16ms/step - loss: 0.2370 - acc: 0.9052 - val_loss: 0.2962 - val_acc: 0.8841\n",
      "Epoch 21/50\n"
     ]
    },
    {
     "data": {
      "application/vnd.jupyter.widget-view+json": {
       "model_id": "",
       "version_major": 2,
       "version_minor": 0
      },
      "text/plain": [
       "HBox(children=(IntProgress(value=0, description='Epoch 20', max=397, style=ProgressStyle(description_width='in…"
      ]
     },
     "metadata": {},
     "output_type": "display_data"
    },
    {
     "name": "stdout",
     "output_type": "stream",
     "text": [
      "397/397 [==============================] - 6s 16ms/step - loss: 0.2366 - acc: 0.9063 - val_loss: 0.2843 - val_acc: 0.8926\n",
      "Epoch 22/50\n"
     ]
    },
    {
     "data": {
      "application/vnd.jupyter.widget-view+json": {
       "model_id": "",
       "version_major": 2,
       "version_minor": 0
      },
      "text/plain": [
       "HBox(children=(IntProgress(value=0, description='Epoch 21', max=397, style=ProgressStyle(description_width='in…"
      ]
     },
     "metadata": {},
     "output_type": "display_data"
    },
    {
     "name": "stdout",
     "output_type": "stream",
     "text": [
      "397/397 [==============================] - 6s 15ms/step - loss: 0.2337 - acc: 0.9085 - val_loss: 0.3025 - val_acc: 0.8790\n",
      "Epoch 23/50\n"
     ]
    },
    {
     "data": {
      "application/vnd.jupyter.widget-view+json": {
       "model_id": "",
       "version_major": 2,
       "version_minor": 0
      },
      "text/plain": [
       "HBox(children=(IntProgress(value=0, description='Epoch 22', max=397, style=ProgressStyle(description_width='in…"
      ]
     },
     "metadata": {},
     "output_type": "display_data"
    },
    {
     "name": "stdout",
     "output_type": "stream",
     "text": [
      "397/397 [==============================] - 6s 15ms/step - loss: 0.2366 - acc: 0.9091 - val_loss: 0.2960 - val_acc: 0.8881\n",
      "Epoch 24/50\n"
     ]
    },
    {
     "data": {
      "application/vnd.jupyter.widget-view+json": {
       "model_id": "",
       "version_major": 2,
       "version_minor": 0
      },
      "text/plain": [
       "HBox(children=(IntProgress(value=0, description='Epoch 23', max=397, style=ProgressStyle(description_width='in…"
      ]
     },
     "metadata": {},
     "output_type": "display_data"
    },
    {
     "name": "stdout",
     "output_type": "stream",
     "text": [
      " 14/397 [>.............................] - ETA: 9s - loss: 0.2388 - acc: 0.9089 "
     ]
    },
    {
     "name": "stderr",
     "output_type": "stream",
     "text": [
      "/Users/abhilash/anaconda3/envs/avacado/lib/python3.7/site-packages/keras/callbacks.py:122: UserWarning: Method on_batch_end() is slow compared to the batch update (0.107433). Check your callbacks.\n",
      "  % delta_t_median)\n"
     ]
    },
    {
     "name": "stdout",
     "output_type": "stream",
     "text": [
      "397/397 [==============================] - 7s 17ms/step - loss: 0.2362 - acc: 0.9084 - val_loss: 0.2967 - val_acc: 0.8830\n",
      "Epoch 25/50\n"
     ]
    },
    {
     "data": {
      "application/vnd.jupyter.widget-view+json": {
       "model_id": "",
       "version_major": 2,
       "version_minor": 0
      },
      "text/plain": [
       "HBox(children=(IntProgress(value=0, description='Epoch 24', max=397, style=ProgressStyle(description_width='in…"
      ]
     },
     "metadata": {},
     "output_type": "display_data"
    },
    {
     "name": "stdout",
     "output_type": "stream",
     "text": [
      "397/397 [==============================] - 6s 16ms/step - loss: 0.2305 - acc: 0.9069 - val_loss: 0.2986 - val_acc: 0.8784\n",
      "Epoch 26/50\n"
     ]
    },
    {
     "data": {
      "application/vnd.jupyter.widget-view+json": {
       "model_id": "",
       "version_major": 2,
       "version_minor": 0
      },
      "text/plain": [
       "HBox(children=(IntProgress(value=0, description='Epoch 25', max=397, style=ProgressStyle(description_width='in…"
      ]
     },
     "metadata": {},
     "output_type": "display_data"
    },
    {
     "name": "stdout",
     "output_type": "stream",
     "text": [
      "397/397 [==============================] - 6s 16ms/step - loss: 0.2354 - acc: 0.9073 - val_loss: 0.2990 - val_acc: 0.8830\n",
      "Epoch 27/50\n"
     ]
    },
    {
     "data": {
      "application/vnd.jupyter.widget-view+json": {
       "model_id": "",
       "version_major": 2,
       "version_minor": 0
      },
      "text/plain": [
       "HBox(children=(IntProgress(value=0, description='Epoch 26', max=397, style=ProgressStyle(description_width='in…"
      ]
     },
     "metadata": {},
     "output_type": "display_data"
    },
    {
     "name": "stdout",
     "output_type": "stream",
     "text": [
      "397/397 [==============================] - 6s 16ms/step - loss: 0.2426 - acc: 0.9051 - val_loss: 0.3201 - val_acc: 0.8795\n",
      "Epoch 28/50\n"
     ]
    },
    {
     "data": {
      "application/vnd.jupyter.widget-view+json": {
       "model_id": "",
       "version_major": 2,
       "version_minor": 0
      },
      "text/plain": [
       "HBox(children=(IntProgress(value=0, description='Epoch 27', max=397, style=ProgressStyle(description_width='in…"
      ]
     },
     "metadata": {},
     "output_type": "display_data"
    },
    {
     "name": "stdout",
     "output_type": "stream",
     "text": [
      "397/397 [==============================] - 6s 16ms/step - loss: 0.2325 - acc: 0.9094 - val_loss: 0.2919 - val_acc: 0.8778\n",
      "Epoch 29/50\n"
     ]
    },
    {
     "data": {
      "application/vnd.jupyter.widget-view+json": {
       "model_id": "",
       "version_major": 2,
       "version_minor": 0
      },
      "text/plain": [
       "HBox(children=(IntProgress(value=0, description='Epoch 28', max=397, style=ProgressStyle(description_width='in…"
      ]
     },
     "metadata": {},
     "output_type": "display_data"
    },
    {
     "name": "stdout",
     "output_type": "stream",
     "text": [
      "397/397 [==============================] - 7s 17ms/step - loss: 0.2334 - acc: 0.9067 - val_loss: 0.2969 - val_acc: 0.8778\n",
      "Epoch 30/50\n"
     ]
    },
    {
     "data": {
      "application/vnd.jupyter.widget-view+json": {
       "model_id": "",
       "version_major": 2,
       "version_minor": 0
      },
      "text/plain": [
       "HBox(children=(IntProgress(value=0, description='Epoch 29', max=397, style=ProgressStyle(description_width='in…"
      ]
     },
     "metadata": {},
     "output_type": "display_data"
    },
    {
     "name": "stdout",
     "output_type": "stream",
     "text": [
      "397/397 [==============================] - 6s 15ms/step - loss: 0.2309 - acc: 0.9079 - val_loss: 0.2801 - val_acc: 0.8869\n",
      "Epoch 31/50\n"
     ]
    },
    {
     "data": {
      "application/vnd.jupyter.widget-view+json": {
       "model_id": "",
       "version_major": 2,
       "version_minor": 0
      },
      "text/plain": [
       "HBox(children=(IntProgress(value=0, description='Epoch 30', max=397, style=ProgressStyle(description_width='in…"
      ]
     },
     "metadata": {},
     "output_type": "display_data"
    },
    {
     "name": "stdout",
     "output_type": "stream",
     "text": [
      "397/397 [==============================] - 6s 15ms/step - loss: 0.2364 - acc: 0.9076 - val_loss: 0.2971 - val_acc: 0.8852\n",
      "Epoch 32/50\n"
     ]
    },
    {
     "data": {
      "application/vnd.jupyter.widget-view+json": {
       "model_id": "",
       "version_major": 2,
       "version_minor": 0
      },
      "text/plain": [
       "HBox(children=(IntProgress(value=0, description='Epoch 31', max=397, style=ProgressStyle(description_width='in…"
      ]
     },
     "metadata": {},
     "output_type": "display_data"
    },
    {
     "name": "stdout",
     "output_type": "stream",
     "text": [
      "397/397 [==============================] - 6s 15ms/step - loss: 0.2342 - acc: 0.9055 - val_loss: 0.3005 - val_acc: 0.8784\n",
      "Epoch 33/50\n"
     ]
    },
    {
     "data": {
      "application/vnd.jupyter.widget-view+json": {
       "model_id": "",
       "version_major": 2,
       "version_minor": 0
      },
      "text/plain": [
       "HBox(children=(IntProgress(value=0, description='Epoch 32', max=397, style=ProgressStyle(description_width='in…"
      ]
     },
     "metadata": {},
     "output_type": "display_data"
    },
    {
     "name": "stdout",
     "output_type": "stream",
     "text": [
      "397/397 [==============================] - 6s 15ms/step - loss: 0.2320 - acc: 0.9103 - val_loss: 0.2744 - val_acc: 0.8881\n",
      "Epoch 34/50\n"
     ]
    },
    {
     "data": {
      "application/vnd.jupyter.widget-view+json": {
       "model_id": "",
       "version_major": 2,
       "version_minor": 0
      },
      "text/plain": [
       "HBox(children=(IntProgress(value=0, description='Epoch 33', max=397, style=ProgressStyle(description_width='in…"
      ]
     },
     "metadata": {},
     "output_type": "display_data"
    },
    {
     "name": "stdout",
     "output_type": "stream",
     "text": [
      "397/397 [==============================] - 6s 15ms/step - loss: 0.2310 - acc: 0.9101 - val_loss: 0.3144 - val_acc: 0.8847\n",
      "Epoch 35/50\n"
     ]
    },
    {
     "data": {
      "application/vnd.jupyter.widget-view+json": {
       "model_id": "",
       "version_major": 2,
       "version_minor": 0
      },
      "text/plain": [
       "HBox(children=(IntProgress(value=0, description='Epoch 34', max=397, style=ProgressStyle(description_width='in…"
      ]
     },
     "metadata": {},
     "output_type": "display_data"
    },
    {
     "name": "stdout",
     "output_type": "stream",
     "text": [
      "397/397 [==============================] - 6s 15ms/step - loss: 0.2338 - acc: 0.9072 - val_loss: 0.2924 - val_acc: 0.8830\n",
      "Epoch 36/50\n"
     ]
    },
    {
     "data": {
      "application/vnd.jupyter.widget-view+json": {
       "model_id": "",
       "version_major": 2,
       "version_minor": 0
      },
      "text/plain": [
       "HBox(children=(IntProgress(value=0, description='Epoch 35', max=397, style=ProgressStyle(description_width='in…"
      ]
     },
     "metadata": {},
     "output_type": "display_data"
    },
    {
     "name": "stdout",
     "output_type": "stream",
     "text": [
      "397/397 [==============================] - 6s 16ms/step - loss: 0.2350 - acc: 0.9085 - val_loss: 0.2998 - val_acc: 0.8807\n",
      "Epoch 37/50\n"
     ]
    },
    {
     "data": {
      "application/vnd.jupyter.widget-view+json": {
       "model_id": "",
       "version_major": 2,
       "version_minor": 0
      },
      "text/plain": [
       "HBox(children=(IntProgress(value=0, description='Epoch 36', max=397, style=ProgressStyle(description_width='in…"
      ]
     },
     "metadata": {},
     "output_type": "display_data"
    },
    {
     "name": "stdout",
     "output_type": "stream",
     "text": [
      "397/397 [==============================] - 7s 17ms/step - loss: 0.2305 - acc: 0.9080 - val_loss: 0.2904 - val_acc: 0.8864\n",
      "Epoch 38/50\n"
     ]
    },
    {
     "data": {
      "application/vnd.jupyter.widget-view+json": {
       "model_id": "",
       "version_major": 2,
       "version_minor": 0
      },
      "text/plain": [
       "HBox(children=(IntProgress(value=0, description='Epoch 37', max=397, style=ProgressStyle(description_width='in…"
      ]
     },
     "metadata": {},
     "output_type": "display_data"
    },
    {
     "name": "stdout",
     "output_type": "stream",
     "text": [
      "397/397 [==============================] - 7s 17ms/step - loss: 0.2307 - acc: 0.9106 - val_loss: 0.3055 - val_acc: 0.8807\n",
      "Epoch 39/50\n"
     ]
    },
    {
     "data": {
      "application/vnd.jupyter.widget-view+json": {
       "model_id": "",
       "version_major": 2,
       "version_minor": 0
      },
      "text/plain": [
       "HBox(children=(IntProgress(value=0, description='Epoch 38', max=397, style=ProgressStyle(description_width='in…"
      ]
     },
     "metadata": {},
     "output_type": "display_data"
    },
    {
     "name": "stdout",
     "output_type": "stream",
     "text": [
      "397/397 [==============================] - 6s 16ms/step - loss: 0.2322 - acc: 0.9077 - val_loss: 0.2932 - val_acc: 0.8841\n",
      "Epoch 40/50\n"
     ]
    },
    {
     "data": {
      "application/vnd.jupyter.widget-view+json": {
       "model_id": "",
       "version_major": 2,
       "version_minor": 0
      },
      "text/plain": [
       "HBox(children=(IntProgress(value=0, description='Epoch 39', max=397, style=ProgressStyle(description_width='in…"
      ]
     },
     "metadata": {},
     "output_type": "display_data"
    },
    {
     "name": "stdout",
     "output_type": "stream",
     "text": [
      "397/397 [==============================] - 6s 15ms/step - loss: 0.2332 - acc: 0.9087 - val_loss: 0.2821 - val_acc: 0.8977\n",
      "Epoch 41/50\n"
     ]
    },
    {
     "data": {
      "application/vnd.jupyter.widget-view+json": {
       "model_id": "",
       "version_major": 2,
       "version_minor": 0
      },
      "text/plain": [
       "HBox(children=(IntProgress(value=0, description='Epoch 40', max=397, style=ProgressStyle(description_width='in…"
      ]
     },
     "metadata": {},
     "output_type": "display_data"
    },
    {
     "name": "stdout",
     "output_type": "stream",
     "text": [
      "397/397 [==============================] - 6s 16ms/step - loss: 0.2339 - acc: 0.9082 - val_loss: 0.3026 - val_acc: 0.8830\n",
      "Epoch 42/50\n"
     ]
    },
    {
     "data": {
      "application/vnd.jupyter.widget-view+json": {
       "model_id": "",
       "version_major": 2,
       "version_minor": 0
      },
      "text/plain": [
       "HBox(children=(IntProgress(value=0, description='Epoch 41', max=397, style=ProgressStyle(description_width='in…"
      ]
     },
     "metadata": {},
     "output_type": "display_data"
    },
    {
     "name": "stdout",
     "output_type": "stream",
     "text": [
      "397/397 [==============================] - 6s 15ms/step - loss: 0.2270 - acc: 0.9139 - val_loss: 0.2903 - val_acc: 0.8881\n",
      "Epoch 43/50\n"
     ]
    },
    {
     "data": {
      "application/vnd.jupyter.widget-view+json": {
       "model_id": "",
       "version_major": 2,
       "version_minor": 0
      },
      "text/plain": [
       "HBox(children=(IntProgress(value=0, description='Epoch 42', max=397, style=ProgressStyle(description_width='in…"
      ]
     },
     "metadata": {},
     "output_type": "display_data"
    },
    {
     "name": "stdout",
     "output_type": "stream",
     "text": [
      "397/397 [==============================] - 6s 15ms/step - loss: 0.2373 - acc: 0.9083 - val_loss: 0.3089 - val_acc: 0.8875\n",
      "Epoch 44/50\n"
     ]
    },
    {
     "data": {
      "application/vnd.jupyter.widget-view+json": {
       "model_id": "",
       "version_major": 2,
       "version_minor": 0
      },
      "text/plain": [
       "HBox(children=(IntProgress(value=0, description='Epoch 43', max=397, style=ProgressStyle(description_width='in…"
      ]
     },
     "metadata": {},
     "output_type": "display_data"
    },
    {
     "name": "stdout",
     "output_type": "stream",
     "text": [
      "397/397 [==============================] - 6s 15ms/step - loss: 0.2367 - acc: 0.9077 - val_loss: 0.3053 - val_acc: 0.8784\n",
      "Epoch 45/50\n"
     ]
    },
    {
     "data": {
      "application/vnd.jupyter.widget-view+json": {
       "model_id": "",
       "version_major": 2,
       "version_minor": 0
      },
      "text/plain": [
       "HBox(children=(IntProgress(value=0, description='Epoch 44', max=397, style=ProgressStyle(description_width='in…"
      ]
     },
     "metadata": {},
     "output_type": "display_data"
    },
    {
     "name": "stdout",
     "output_type": "stream",
     "text": [
      "397/397 [==============================] - 6s 15ms/step - loss: 0.2291 - acc: 0.9089 - val_loss: 0.3042 - val_acc: 0.8784\n",
      "Epoch 46/50\n"
     ]
    },
    {
     "data": {
      "application/vnd.jupyter.widget-view+json": {
       "model_id": "",
       "version_major": 2,
       "version_minor": 0
      },
      "text/plain": [
       "HBox(children=(IntProgress(value=0, description='Epoch 45', max=397, style=ProgressStyle(description_width='in…"
      ]
     },
     "metadata": {},
     "output_type": "display_data"
    },
    {
     "name": "stdout",
     "output_type": "stream",
     "text": [
      "397/397 [==============================] - 6s 15ms/step - loss: 0.2306 - acc: 0.9080 - val_loss: 0.2893 - val_acc: 0.8898\n",
      "Epoch 47/50\n"
     ]
    },
    {
     "data": {
      "application/vnd.jupyter.widget-view+json": {
       "model_id": "",
       "version_major": 2,
       "version_minor": 0
      },
      "text/plain": [
       "HBox(children=(IntProgress(value=0, description='Epoch 46', max=397, style=ProgressStyle(description_width='in…"
      ]
     },
     "metadata": {},
     "output_type": "display_data"
    },
    {
     "name": "stdout",
     "output_type": "stream",
     "text": [
      "397/397 [==============================] - 6s 15ms/step - loss: 0.2353 - acc: 0.9088 - val_loss: 0.3066 - val_acc: 0.8716\n",
      "Epoch 48/50\n"
     ]
    },
    {
     "data": {
      "application/vnd.jupyter.widget-view+json": {
       "model_id": "",
       "version_major": 2,
       "version_minor": 0
      },
      "text/plain": [
       "HBox(children=(IntProgress(value=0, description='Epoch 47', max=397, style=ProgressStyle(description_width='in…"
      ]
     },
     "metadata": {},
     "output_type": "display_data"
    },
    {
     "name": "stdout",
     "output_type": "stream",
     "text": [
      "397/397 [==============================] - 6s 16ms/step - loss: 0.2382 - acc: 0.9048 - val_loss: 0.2929 - val_acc: 0.8875\n",
      "Epoch 49/50\n"
     ]
    },
    {
     "data": {
      "application/vnd.jupyter.widget-view+json": {
       "model_id": "",
       "version_major": 2,
       "version_minor": 0
      },
      "text/plain": [
       "HBox(children=(IntProgress(value=0, description='Epoch 48', max=397, style=ProgressStyle(description_width='in…"
      ]
     },
     "metadata": {},
     "output_type": "display_data"
    },
    {
     "name": "stdout",
     "output_type": "stream",
     "text": [
      "397/397 [==============================] - 6s 16ms/step - loss: 0.2290 - acc: 0.9111 - val_loss: 0.2989 - val_acc: 0.8875\n",
      "Epoch 50/50\n"
     ]
    },
    {
     "data": {
      "application/vnd.jupyter.widget-view+json": {
       "model_id": "",
       "version_major": 2,
       "version_minor": 0
      },
      "text/plain": [
       "HBox(children=(IntProgress(value=0, description='Epoch 49', max=397, style=ProgressStyle(description_width='in…"
      ]
     },
     "metadata": {},
     "output_type": "display_data"
    },
    {
     "name": "stdout",
     "output_type": "stream",
     "text": [
      "397/397 [==============================] - 6s 16ms/step - loss: 0.2313 - acc: 0.9101 - val_loss: 0.3010 - val_acc: 0.8830\n",
      "\n"
     ]
    }
   ],
   "source": [
    "batch_size=  40 \n",
    "CV_frac = 0.1\n",
    "train_gen = data_generator(batch_size,'../data/preprocessed/bal_gunspotting_in_school_subset.tfrecord', 0, 1-CV_frac)\n",
    "val_gen = data_generator(20,'../data/preprocessed/bal_gunspotting_in_school_subset.tfrecord', 1-CV_frac, 1)\n",
    "rec_len = 17662 \n",
    "lr_h = lr_model.fit_generator(train_gen,steps_per_epoch=int(rec_len*(1-CV_frac))//batch_size, epochs=50,validation_data=val_gen, validation_steps=int(rec_len*CV_frac)//20,verbose=1, callbacks=[TQDMNotebookCallback()])"
   ]
  },
  {
   "cell_type": "code",
   "execution_count": 19,
   "metadata": {},
   "outputs": [
    {
     "data": {
      "image/png": "[encoded data removed]",
      "text/plain": [
       "<Figure size 432x288 with 1 Axes>"
      ]
     },
     "metadata": {
      "needs_background": "light"
     },
     "output_type": "display_data"
    }
   ],
   "source": [
    "plt.plot(lr_h.history['acc'], 'o-', label='train_acc')\n",
    "plt.plot(lr_h.history['val_acc'], 'x-', label='val_acc')\n",
    "plt.xlabel('Epochs(50)', size=20)\n",
    "plt.ylabel('Accuracy', size=20)\n",
    "plt.legend()\n",
    "plt.savefig('results/training_results/LogisticRegression_BinaryCE_Adam_pochs70.png', dpi = 300)"
   ]
  },
  {
   "cell_type": "code",
   "execution_count": 21,
   "metadata": {},
   "outputs": [
    {
     "name": "stdout",
     "output_type": "stream",
     "text": [
      "Epochs = 50\n",
      "val_loss length: 50\n",
      "val_acc length: 50\n",
      "loss length: 50\n",
      "acc length: 50\n",
      "Average Training loss = 0.2384846069139221\n",
      "Average Training accuracy= 90.61914351875292\n",
      "Average validation loss = 0.291121517624706\n",
      "Average validation accuracy= 88.56477240269835\n"
     ]
    }
   ],
   "source": [
    "print(\"Epochs = 50\")\n",
    "print(\"val_loss length:\",len(lr_h.history['val_loss']))\n",
    "print(\"val_acc length:\",len(lr_h.history['val_acc']))\n",
    "print(\"loss length:\",len(lr_h.history['loss']))\n",
    "print(\"acc length:\",len(lr_h.history['acc']))\n",
    "\n",
    "print(\"Average Training loss =\", sum(lr_h.history['loss'])/len(lr_h.history['loss']))\n",
    "print(\"Average Training accuracy=\", sum(lr_h.history['acc'])/len(lr_h.history['acc'])*100)\n",
    "print(\"Average validation loss =\", sum(lr_h.history['val_loss'])/len(lr_h.history['val_loss']))\n",
    "print(\"Average validation accuracy=\", sum(lr_h.history['val_acc'])/len(lr_h.history['val_acc'])*100)\n",
    "\n",
    "\n",
    "from keras.utils import plot_model\n",
    "plot_model(lr_model, to_file='results/training_results/model_LogisticRegression_BinaryCE_Adam50Epochs.png')\n"
   ]
  },
  {
   "cell_type": "code",
   "execution_count": 22,
   "metadata": {},
   "outputs": [],
   "source": [
    "lr_model.save('Models/LogisticRegression_BinaryCE_Adam_50-Epochs.h5')"
   ]
  },
  {
   "cell_type": "code",
   "execution_count": null,
   "metadata": {},
   "outputs": [],
   "source": [
    "# Single Layer Neural Network: 1 Hidden Layer with Relu Activation with batch normalization"
   ]
  },
  {
   "cell_type": "code",
   "execution_count": 23,
   "metadata": {},
   "outputs": [],
   "source": [
    "from keras.models import Sequential\n",
    "from keras.layers import Dense, BatchNormalization, Flatten\n",
    "\n",
    "nn_model = Sequential()\n",
    "nn_model.add(BatchNormalization(input_shape=(10, 128)))\n",
    "nn_model.add(Flatten())\n",
    "nn_model.add(Dense(100, activation='relu'))\n",
    "nn_model.add(Dense(1, activation='sigmoid'))                 \n",
    "nn_model.compile(loss='binary_crossentropy',\n",
    "              optimizer='adam',\n",
    "              metrics=['accuracy'])"
   ]
  },
  {
   "cell_type": "code",
   "execution_count": 24,
   "metadata": {},
   "outputs": [
    {
     "data": {
      "application/vnd.jupyter.widget-view+json": {
       "model_id": "5f6758c7aaa349b7a0a8ec30ee09e0fa",
       "version_major": 2,
       "version_minor": 0
      },
      "text/plain": [
       "HBox(children=(IntProgress(value=0, description='Training', max=50, style=ProgressStyle(description_width='ini…"
      ]
     },
     "metadata": {},
     "output_type": "display_data"
    },
    {
     "name": "stdout",
     "output_type": "stream",
     "text": [
      "Epoch 1/50\n"
     ]
    },
    {
     "data": {
      "application/vnd.jupyter.widget-view+json": {
       "model_id": "",
       "version_major": 2,
       "version_minor": 0
      },
      "text/plain": [
       "HBox(children=(IntProgress(value=0, description='Epoch 0', max=397, style=ProgressStyle(description_width='ini…"
      ]
     },
     "metadata": {},
     "output_type": "display_data"
    },
    {
     "name": "stdout",
     "output_type": "stream",
     "text": [
      "Total audioframes in training dataset: 17662\n",
      "After fractioning:\n",
      "Total audioframes in training dataset: 1767\n",
      "Total audioframes in training dataset: 17662\n",
      "After fractioning:\n",
      "Total audioframes in training dataset: 15895\n",
      "397/397 [==============================] - 9s 23ms/step - loss: 0.3032 - acc: 0.8788 - val_loss: 0.2568 - val_acc: 0.8983\n",
      "Epoch 2/50\n"
     ]
    },
    {
     "data": {
      "application/vnd.jupyter.widget-view+json": {
       "model_id": "",
       "version_major": 2,
       "version_minor": 0
      },
      "text/plain": [
       "HBox(children=(IntProgress(value=0, description='Epoch 1', max=397, style=ProgressStyle(description_width='ini…"
      ]
     },
     "metadata": {},
     "output_type": "display_data"
    },
    {
     "name": "stdout",
     "output_type": "stream",
     "text": [
      "397/397 [==============================] - 8s 20ms/step - loss: 0.1834 - acc: 0.9329 - val_loss: 0.2609 - val_acc: 0.8994\n",
      "Epoch 3/50\n"
     ]
    },
    {
     "data": {
      "application/vnd.jupyter.widget-view+json": {
       "model_id": "",
       "version_major": 2,
       "version_minor": 0
      },
      "text/plain": [
       "HBox(children=(IntProgress(value=0, description='Epoch 2', max=397, style=ProgressStyle(description_width='ini…"
      ]
     },
     "metadata": {},
     "output_type": "display_data"
    },
    {
     "name": "stdout",
     "output_type": "stream",
     "text": [
      "397/397 [==============================] - 8s 19ms/step - loss: 0.1298 - acc: 0.9550 - val_loss: 0.2875 - val_acc: 0.8949\n",
      "Epoch 4/50\n"
     ]
    },
    {
     "data": {
      "application/vnd.jupyter.widget-view+json": {
       "model_id": "",
       "version_major": 2,
       "version_minor": 0
      },
      "text/plain": [
       "HBox(children=(IntProgress(value=0, description='Epoch 3', max=397, style=ProgressStyle(description_width='ini…"
      ]
     },
     "metadata": {},
     "output_type": "display_data"
    },
    {
     "name": "stdout",
     "output_type": "stream",
     "text": [
      "397/397 [==============================] - 7s 18ms/step - loss: 0.0811 - acc: 0.9744 - val_loss: 0.2958 - val_acc: 0.8972\n",
      "Epoch 5/50\n"
     ]
    },
    {
     "data": {
      "application/vnd.jupyter.widget-view+json": {
       "model_id": "",
       "version_major": 2,
       "version_minor": 0
      },
      "text/plain": [
       "HBox(children=(IntProgress(value=0, description='Epoch 4', max=397, style=ProgressStyle(description_width='ini…"
      ]
     },
     "metadata": {},
     "output_type": "display_data"
    },
    {
     "name": "stdout",
     "output_type": "stream",
     "text": [
      "397/397 [==============================] - 7s 18ms/step - loss: 0.0520 - acc: 0.9850 - val_loss: 0.3061 - val_acc: 0.9074\n",
      "Epoch 6/50\n"
     ]
    },
    {
     "data": {
      "application/vnd.jupyter.widget-view+json": {
       "model_id": "",
       "version_major": 2,
       "version_minor": 0
      },
      "text/plain": [
       "HBox(children=(IntProgress(value=0, description='Epoch 5', max=397, style=ProgressStyle(description_width='ini…"
      ]
     },
     "metadata": {},
     "output_type": "display_data"
    },
    {
     "name": "stdout",
     "output_type": "stream",
     "text": [
      "397/397 [==============================] - 8s 19ms/step - loss: 0.0321 - acc: 0.9906 - val_loss: 0.3728 - val_acc: 0.8915\n",
      "Epoch 7/50\n"
     ]
    },
    {
     "data": {
      "application/vnd.jupyter.widget-view+json": {
       "model_id": "",
       "version_major": 2,
       "version_minor": 0
      },
      "text/plain": [
       "HBox(children=(IntProgress(value=0, description='Epoch 6', max=397, style=ProgressStyle(description_width='ini…"
      ]
     },
     "metadata": {},
     "output_type": "display_data"
    },
    {
     "name": "stdout",
     "output_type": "stream",
     "text": [
      "397/397 [==============================] - 7s 18ms/step - loss: 0.0267 - acc: 0.9932 - val_loss: 0.3514 - val_acc: 0.9045\n",
      "Epoch 8/50\n"
     ]
    },
    {
     "data": {
      "application/vnd.jupyter.widget-view+json": {
       "model_id": "",
       "version_major": 2,
       "version_minor": 0
      },
      "text/plain": [
       "HBox(children=(IntProgress(value=0, description='Epoch 7', max=397, style=ProgressStyle(description_width='ini…"
      ]
     },
     "metadata": {},
     "output_type": "display_data"
    },
    {
     "name": "stdout",
     "output_type": "stream",
     "text": [
      "397/397 [==============================] - 8s 19ms/step - loss: 0.0185 - acc: 0.9955 - val_loss: 0.3773 - val_acc: 0.9000\n",
      "Epoch 9/50\n"
     ]
    },
    {
     "data": {
      "application/vnd.jupyter.widget-view+json": {
       "model_id": "",
       "version_major": 2,
       "version_minor": 0
      },
      "text/plain": [
       "HBox(children=(IntProgress(value=0, description='Epoch 8', max=397, style=ProgressStyle(description_width='ini…"
      ]
     },
     "metadata": {},
     "output_type": "display_data"
    },
    {
     "name": "stdout",
     "output_type": "stream",
     "text": [
      "397/397 [==============================] - 7s 18ms/step - loss: 0.0181 - acc: 0.9949 - val_loss: 0.4424 - val_acc: 0.8892\n",
      "Epoch 10/50\n"
     ]
    },
    {
     "data": {
      "application/vnd.jupyter.widget-view+json": {
       "model_id": "",
       "version_major": 2,
       "version_minor": 0
      },
      "text/plain": [
       "HBox(children=(IntProgress(value=0, description='Epoch 9', max=397, style=ProgressStyle(description_width='ini…"
      ]
     },
     "metadata": {},
     "output_type": "display_data"
    },
    {
     "name": "stdout",
     "output_type": "stream",
     "text": [
      "397/397 [==============================] - 7s 19ms/step - loss: 0.0195 - acc: 0.9945 - val_loss: 0.4615 - val_acc: 0.8989\n",
      "Epoch 11/50\n"
     ]
    },
    {
     "data": {
      "application/vnd.jupyter.widget-view+json": {
       "model_id": "",
       "version_major": 2,
       "version_minor": 0
      },
      "text/plain": [
       "HBox(children=(IntProgress(value=0, description='Epoch 10', max=397, style=ProgressStyle(description_width='in…"
      ]
     },
     "metadata": {},
     "output_type": "display_data"
    },
    {
     "name": "stdout",
     "output_type": "stream",
     "text": [
      "397/397 [==============================] - 7s 19ms/step - loss: 0.0210 - acc: 0.9932 - val_loss: 0.4343 - val_acc: 0.8983\n",
      "Epoch 12/50\n"
     ]
    },
    {
     "data": {
      "application/vnd.jupyter.widget-view+json": {
       "model_id": "",
       "version_major": 2,
       "version_minor": 0
      },
      "text/plain": [
       "HBox(children=(IntProgress(value=0, description='Epoch 11', max=397, style=ProgressStyle(description_width='in…"
      ]
     },
     "metadata": {},
     "output_type": "display_data"
    },
    {
     "name": "stdout",
     "output_type": "stream",
     "text": [
      "397/397 [==============================] - 7s 18ms/step - loss: 0.0156 - acc: 0.9955 - val_loss: 0.4341 - val_acc: 0.9028\n",
      "Epoch 13/50\n"
     ]
    },
    {
     "data": {
      "application/vnd.jupyter.widget-view+json": {
       "model_id": "",
       "version_major": 2,
       "version_minor": 0
      },
      "text/plain": [
       "HBox(children=(IntProgress(value=0, description='Epoch 12', max=397, style=ProgressStyle(description_width='in…"
      ]
     },
     "metadata": {},
     "output_type": "display_data"
    },
    {
     "name": "stdout",
     "output_type": "stream",
     "text": [
      "397/397 [==============================] - 8s 19ms/step - loss: 0.0116 - acc: 0.9971 - val_loss: 0.4671 - val_acc: 0.9040\n",
      "Epoch 14/50\n"
     ]
    },
    {
     "data": {
      "application/vnd.jupyter.widget-view+json": {
       "model_id": "",
       "version_major": 2,
       "version_minor": 0
      },
      "text/plain": [
       "HBox(children=(IntProgress(value=0, description='Epoch 13', max=397, style=ProgressStyle(description_width='in…"
      ]
     },
     "metadata": {},
     "output_type": "display_data"
    },
    {
     "name": "stdout",
     "output_type": "stream",
     "text": [
      "397/397 [==============================] - 8s 19ms/step - loss: 0.0108 - acc: 0.9970 - val_loss: 0.5244 - val_acc: 0.8983\n",
      "Epoch 15/50\n"
     ]
    },
    {
     "data": {
      "application/vnd.jupyter.widget-view+json": {
       "model_id": "",
       "version_major": 2,
       "version_minor": 0
      },
      "text/plain": [
       "HBox(children=(IntProgress(value=0, description='Epoch 14', max=397, style=ProgressStyle(description_width='in…"
      ]
     },
     "metadata": {},
     "output_type": "display_data"
    },
    {
     "name": "stdout",
     "output_type": "stream",
     "text": [
      "397/397 [==============================] - 7s 18ms/step - loss: 0.0102 - acc: 0.9970 - val_loss: 0.4699 - val_acc: 0.9102\n",
      "Epoch 16/50\n"
     ]
    },
    {
     "data": {
      "application/vnd.jupyter.widget-view+json": {
       "model_id": "",
       "version_major": 2,
       "version_minor": 0
      },
      "text/plain": [
       "HBox(children=(IntProgress(value=0, description='Epoch 15', max=397, style=ProgressStyle(description_width='in…"
      ]
     },
     "metadata": {},
     "output_type": "display_data"
    },
    {
     "name": "stdout",
     "output_type": "stream",
     "text": [
      "397/397 [==============================] - 7s 18ms/step - loss: 0.0125 - acc: 0.9963 - val_loss: 0.5571 - val_acc: 0.9011\n",
      "Epoch 17/50\n"
     ]
    },
    {
     "data": {
      "application/vnd.jupyter.widget-view+json": {
       "model_id": "",
       "version_major": 2,
       "version_minor": 0
      },
      "text/plain": [
       "HBox(children=(IntProgress(value=0, description='Epoch 16', max=397, style=ProgressStyle(description_width='in…"
      ]
     },
     "metadata": {},
     "output_type": "display_data"
    },
    {
     "name": "stdout",
     "output_type": "stream",
     "text": [
      "397/397 [==============================] - 8s 19ms/step - loss: 0.0054 - acc: 0.9986 - val_loss: 0.5779 - val_acc: 0.9000\n",
      "Epoch 18/50\n"
     ]
    },
    {
     "data": {
      "application/vnd.jupyter.widget-view+json": {
       "model_id": "",
       "version_major": 2,
       "version_minor": 0
      },
      "text/plain": [
       "HBox(children=(IntProgress(value=0, description='Epoch 17', max=397, style=ProgressStyle(description_width='in…"
      ]
     },
     "metadata": {},
     "output_type": "display_data"
    },
    {
     "name": "stdout",
     "output_type": "stream",
     "text": [
      "397/397 [==============================] - 7s 18ms/step - loss: 0.0053 - acc: 0.9987 - val_loss: 0.5615 - val_acc: 0.8966\n",
      "Epoch 19/50\n"
     ]
    },
    {
     "data": {
      "application/vnd.jupyter.widget-view+json": {
       "model_id": "",
       "version_major": 2,
       "version_minor": 0
      },
      "text/plain": [
       "HBox(children=(IntProgress(value=0, description='Epoch 18', max=397, style=ProgressStyle(description_width='in…"
      ]
     },
     "metadata": {},
     "output_type": "display_data"
    },
    {
     "name": "stdout",
     "output_type": "stream",
     "text": [
      "397/397 [==============================] - 7s 18ms/step - loss: 0.0125 - acc: 0.9960 - val_loss: 0.5592 - val_acc: 0.9006\n",
      "Epoch 20/50\n"
     ]
    },
    {
     "data": {
      "application/vnd.jupyter.widget-view+json": {
       "model_id": "",
       "version_major": 2,
       "version_minor": 0
      },
      "text/plain": [
       "HBox(children=(IntProgress(value=0, description='Epoch 19', max=397, style=ProgressStyle(description_width='in…"
      ]
     },
     "metadata": {},
     "output_type": "display_data"
    },
    {
     "name": "stdout",
     "output_type": "stream",
     "text": [
      "397/397 [==============================] - 7s 18ms/step - loss: 0.0165 - acc: 0.9956 - val_loss: 0.5357 - val_acc: 0.8960\n",
      "Epoch 21/50\n"
     ]
    },
    {
     "data": {
      "application/vnd.jupyter.widget-view+json": {
       "model_id": "",
       "version_major": 2,
       "version_minor": 0
      },
      "text/plain": [
       "HBox(children=(IntProgress(value=0, description='Epoch 20', max=397, style=ProgressStyle(description_width='in…"
      ]
     },
     "metadata": {},
     "output_type": "display_data"
    },
    {
     "name": "stdout",
     "output_type": "stream",
     "text": [
      "397/397 [==============================] - 7s 18ms/step - loss: 0.0064 - acc: 0.9982 - val_loss: 0.5573 - val_acc: 0.9097\n",
      "Epoch 22/50\n"
     ]
    },
    {
     "data": {
      "application/vnd.jupyter.widget-view+json": {
       "model_id": "",
       "version_major": 2,
       "version_minor": 0
      },
      "text/plain": [
       "HBox(children=(IntProgress(value=0, description='Epoch 21', max=397, style=ProgressStyle(description_width='in…"
      ]
     },
     "metadata": {},
     "output_type": "display_data"
    },
    {
     "name": "stdout",
     "output_type": "stream",
     "text": [
      "397/397 [==============================] - 7s 18ms/step - loss: 0.0076 - acc: 0.9975 - val_loss: 0.6206 - val_acc: 0.8812\n",
      "Epoch 23/50\n"
     ]
    },
    {
     "data": {
      "application/vnd.jupyter.widget-view+json": {
       "model_id": "",
       "version_major": 2,
       "version_minor": 0
      },
      "text/plain": [
       "HBox(children=(IntProgress(value=0, description='Epoch 22', max=397, style=ProgressStyle(description_width='in…"
      ]
     },
     "metadata": {},
     "output_type": "display_data"
    },
    {
     "name": "stdout",
     "output_type": "stream",
     "text": [
      "397/397 [==============================] - 7s 18ms/step - loss: 0.0136 - acc: 0.9960 - val_loss: 0.6299 - val_acc: 0.8949\n",
      "Epoch 24/50\n"
     ]
    },
    {
     "data": {
      "application/vnd.jupyter.widget-view+json": {
       "model_id": "",
       "version_major": 2,
       "version_minor": 0
      },
      "text/plain": [
       "HBox(children=(IntProgress(value=0, description='Epoch 23', max=397, style=ProgressStyle(description_width='in…"
      ]
     },
     "metadata": {},
     "output_type": "display_data"
    },
    {
     "name": "stdout",
     "output_type": "stream",
     "text": [
      "397/397 [==============================] - 7s 18ms/step - loss: 0.0068 - acc: 0.9982 - val_loss: 0.6541 - val_acc: 0.8972\n",
      "Epoch 25/50\n"
     ]
    },
    {
     "data": {
      "application/vnd.jupyter.widget-view+json": {
       "model_id": "",
       "version_major": 2,
       "version_minor": 0
      },
      "text/plain": [
       "HBox(children=(IntProgress(value=0, description='Epoch 24', max=397, style=ProgressStyle(description_width='in…"
      ]
     },
     "metadata": {},
     "output_type": "display_data"
    },
    {
     "name": "stdout",
     "output_type": "stream",
     "text": [
      "397/397 [==============================] - 7s 18ms/step - loss: 0.0039 - acc: 0.9989 - val_loss: 0.6567 - val_acc: 0.8898\n",
      "Epoch 26/50\n"
     ]
    },
    {
     "data": {
      "application/vnd.jupyter.widget-view+json": {
       "model_id": "",
       "version_major": 2,
       "version_minor": 0
      },
      "text/plain": [
       "HBox(children=(IntProgress(value=0, description='Epoch 25', max=397, style=ProgressStyle(description_width='in…"
      ]
     },
     "metadata": {},
     "output_type": "display_data"
    },
    {
     "name": "stdout",
     "output_type": "stream",
     "text": [
      "397/397 [==============================] - 7s 19ms/step - loss: 0.0033 - acc: 0.9993 - val_loss: 0.6881 - val_acc: 0.8903\n",
      "Epoch 27/50\n"
     ]
    },
    {
     "data": {
      "application/vnd.jupyter.widget-view+json": {
       "model_id": "",
       "version_major": 2,
       "version_minor": 0
      },
      "text/plain": [
       "HBox(children=(IntProgress(value=0, description='Epoch 26', max=397, style=ProgressStyle(description_width='in…"
      ]
     },
     "metadata": {},
     "output_type": "display_data"
    },
    {
     "name": "stdout",
     "output_type": "stream",
     "text": [
      "397/397 [==============================] - 7s 18ms/step - loss: 0.0023 - acc: 0.9994 - val_loss: 0.6826 - val_acc: 0.9011\n",
      "Epoch 28/50\n"
     ]
    },
    {
     "data": {
      "application/vnd.jupyter.widget-view+json": {
       "model_id": "",
       "version_major": 2,
       "version_minor": 0
      },
      "text/plain": [
       "HBox(children=(IntProgress(value=0, description='Epoch 27', max=397, style=ProgressStyle(description_width='in…"
      ]
     },
     "metadata": {},
     "output_type": "display_data"
    },
    {
     "name": "stdout",
     "output_type": "stream",
     "text": [
      "397/397 [==============================] - 7s 19ms/step - loss: 0.0037 - acc: 0.9990 - val_loss: 0.6011 - val_acc: 0.8937\n",
      "Epoch 29/50\n"
     ]
    },
    {
     "data": {
      "application/vnd.jupyter.widget-view+json": {
       "model_id": "",
       "version_major": 2,
       "version_minor": 0
      },
      "text/plain": [
       "HBox(children=(IntProgress(value=0, description='Epoch 28', max=397, style=ProgressStyle(description_width='in…"
      ]
     },
     "metadata": {},
     "output_type": "display_data"
    },
    {
     "name": "stdout",
     "output_type": "stream",
     "text": [
      "397/397 [==============================] - 7s 18ms/step - loss: 0.0201 - acc: 0.9938 - val_loss: 0.6098 - val_acc: 0.9074\n",
      "Epoch 30/50\n"
     ]
    },
    {
     "data": {
      "application/vnd.jupyter.widget-view+json": {
       "model_id": "",
       "version_major": 2,
       "version_minor": 0
      },
      "text/plain": [
       "HBox(children=(IntProgress(value=0, description='Epoch 29', max=397, style=ProgressStyle(description_width='in…"
      ]
     },
     "metadata": {},
     "output_type": "display_data"
    },
    {
     "name": "stdout",
     "output_type": "stream",
     "text": [
      "397/397 [==============================] - 8s 19ms/step - loss: 0.0112 - acc: 0.9967 - val_loss: 0.7006 - val_acc: 0.8949\n",
      "Epoch 31/50\n"
     ]
    },
    {
     "data": {
      "application/vnd.jupyter.widget-view+json": {
       "model_id": "",
       "version_major": 2,
       "version_minor": 0
      },
      "text/plain": [
       "HBox(children=(IntProgress(value=0, description='Epoch 30', max=397, style=ProgressStyle(description_width='in…"
      ]
     },
     "metadata": {},
     "output_type": "display_data"
    },
    {
     "name": "stdout",
     "output_type": "stream",
     "text": [
      "397/397 [==============================] - 7s 18ms/step - loss: 0.0070 - acc: 0.9970 - val_loss: 0.6893 - val_acc: 0.8937\n",
      "Epoch 32/50\n"
     ]
    },
    {
     "data": {
      "application/vnd.jupyter.widget-view+json": {
       "model_id": "",
       "version_major": 2,
       "version_minor": 0
      },
      "text/plain": [
       "HBox(children=(IntProgress(value=0, description='Epoch 31', max=397, style=ProgressStyle(description_width='in…"
      ]
     },
     "metadata": {},
     "output_type": "display_data"
    },
    {
     "name": "stdout",
     "output_type": "stream",
     "text": [
      "397/397 [==============================] - 7s 18ms/step - loss: 0.0078 - acc: 0.9979 - val_loss: 0.6258 - val_acc: 0.8994\n",
      "Epoch 33/50\n"
     ]
    },
    {
     "data": {
      "application/vnd.jupyter.widget-view+json": {
       "model_id": "",
       "version_major": 2,
       "version_minor": 0
      },
      "text/plain": [
       "HBox(children=(IntProgress(value=0, description='Epoch 32', max=397, style=ProgressStyle(description_width='in…"
      ]
     },
     "metadata": {},
     "output_type": "display_data"
    },
    {
     "name": "stdout",
     "output_type": "stream",
     "text": [
      "397/397 [==============================] - 7s 18ms/step - loss: 0.0061 - acc: 0.9983 - val_loss: 0.6830 - val_acc: 0.8864\n",
      "Epoch 34/50\n"
     ]
    },
    {
     "data": {
      "application/vnd.jupyter.widget-view+json": {
       "model_id": "",
       "version_major": 2,
       "version_minor": 0
      },
      "text/plain": [
       "HBox(children=(IntProgress(value=0, description='Epoch 33', max=397, style=ProgressStyle(description_width='in…"
      ]
     },
     "metadata": {},
     "output_type": "display_data"
    },
    {
     "name": "stdout",
     "output_type": "stream",
     "text": [
      "397/397 [==============================] - 7s 18ms/step - loss: 0.0043 - acc: 0.9982 - val_loss: 0.6646 - val_acc: 0.8972\n",
      "Epoch 35/50\n"
     ]
    },
    {
     "data": {
      "application/vnd.jupyter.widget-view+json": {
       "model_id": "",
       "version_major": 2,
       "version_minor": 0
      },
      "text/plain": [
       "HBox(children=(IntProgress(value=0, description='Epoch 34', max=397, style=ProgressStyle(description_width='in…"
      ]
     },
     "metadata": {},
     "output_type": "display_data"
    },
    {
     "name": "stdout",
     "output_type": "stream",
     "text": [
      "397/397 [==============================] - 7s 18ms/step - loss: 0.0022 - acc: 0.9994 - val_loss: 0.7297 - val_acc: 0.8875\n",
      "Epoch 36/50\n"
     ]
    },
    {
     "data": {
      "application/vnd.jupyter.widget-view+json": {
       "model_id": "",
       "version_major": 2,
       "version_minor": 0
      },
      "text/plain": [
       "HBox(children=(IntProgress(value=0, description='Epoch 35', max=397, style=ProgressStyle(description_width='in…"
      ]
     },
     "metadata": {},
     "output_type": "display_data"
    },
    {
     "name": "stdout",
     "output_type": "stream",
     "text": [
      "397/397 [==============================] - 7s 19ms/step - loss: 0.0033 - acc: 0.9991 - val_loss: 0.6905 - val_acc: 0.9011\n",
      "Epoch 37/50\n"
     ]
    },
    {
     "data": {
      "application/vnd.jupyter.widget-view+json": {
       "model_id": "",
       "version_major": 2,
       "version_minor": 0
      },
      "text/plain": [
       "HBox(children=(IntProgress(value=0, description='Epoch 36', max=397, style=ProgressStyle(description_width='in…"
      ]
     },
     "metadata": {},
     "output_type": "display_data"
    },
    {
     "name": "stdout",
     "output_type": "stream",
     "text": [
      "397/397 [==============================] - 7s 18ms/step - loss: 0.0134 - acc: 0.9967 - val_loss: 0.7297 - val_acc: 0.8932\n",
      "Epoch 38/50\n"
     ]
    },
    {
     "data": {
      "application/vnd.jupyter.widget-view+json": {
       "model_id": "",
       "version_major": 2,
       "version_minor": 0
      },
      "text/plain": [
       "HBox(children=(IntProgress(value=0, description='Epoch 37', max=397, style=ProgressStyle(description_width='in…"
      ]
     },
     "metadata": {},
     "output_type": "display_data"
    },
    {
     "name": "stdout",
     "output_type": "stream",
     "text": [
      "397/397 [==============================] - 7s 18ms/step - loss: 0.0116 - acc: 0.9973 - val_loss: 0.7918 - val_acc: 0.8915\n",
      "Epoch 39/50\n"
     ]
    },
    {
     "data": {
      "application/vnd.jupyter.widget-view+json": {
       "model_id": "",
       "version_major": 2,
       "version_minor": 0
      },
      "text/plain": [
       "HBox(children=(IntProgress(value=0, description='Epoch 38', max=397, style=ProgressStyle(description_width='in…"
      ]
     },
     "metadata": {},
     "output_type": "display_data"
    },
    {
     "name": "stdout",
     "output_type": "stream",
     "text": [
      "397/397 [==============================] - 7s 19ms/step - loss: 0.0061 - acc: 0.9985 - val_loss: 0.6578 - val_acc: 0.9023\n",
      "Epoch 40/50\n"
     ]
    },
    {
     "data": {
      "application/vnd.jupyter.widget-view+json": {
       "model_id": "",
       "version_major": 2,
       "version_minor": 0
      },
      "text/plain": [
       "HBox(children=(IntProgress(value=0, description='Epoch 39', max=397, style=ProgressStyle(description_width='in…"
      ]
     },
     "metadata": {},
     "output_type": "display_data"
    },
    {
     "name": "stdout",
     "output_type": "stream",
     "text": [
      "397/397 [==============================] - 7s 18ms/step - loss: 0.0045 - acc: 0.9986 - val_loss: 0.7709 - val_acc: 0.8949\n",
      "Epoch 41/50\n"
     ]
    },
    {
     "data": {
      "application/vnd.jupyter.widget-view+json": {
       "model_id": "",
       "version_major": 2,
       "version_minor": 0
      },
      "text/plain": [
       "HBox(children=(IntProgress(value=0, description='Epoch 40', max=397, style=ProgressStyle(description_width='in…"
      ]
     },
     "metadata": {},
     "output_type": "display_data"
    },
    {
     "name": "stdout",
     "output_type": "stream",
     "text": [
      "397/397 [==============================] - 7s 18ms/step - loss: 0.0041 - acc: 0.9989 - val_loss: 0.6714 - val_acc: 0.9000\n",
      "Epoch 42/50\n"
     ]
    },
    {
     "data": {
      "application/vnd.jupyter.widget-view+json": {
       "model_id": "",
       "version_major": 2,
       "version_minor": 0
      },
      "text/plain": [
       "HBox(children=(IntProgress(value=0, description='Epoch 41', max=397, style=ProgressStyle(description_width='in…"
      ]
     },
     "metadata": {},
     "output_type": "display_data"
    },
    {
     "name": "stdout",
     "output_type": "stream",
     "text": [
      "397/397 [==============================] - 7s 19ms/step - loss: 0.0053 - acc: 0.9984 - val_loss: 0.7188 - val_acc: 0.9045\n",
      "Epoch 43/50\n"
     ]
    },
    {
     "data": {
      "application/vnd.jupyter.widget-view+json": {
       "model_id": "",
       "version_major": 2,
       "version_minor": 0
      },
      "text/plain": [
       "HBox(children=(IntProgress(value=0, description='Epoch 42', max=397, style=ProgressStyle(description_width='in…"
      ]
     },
     "metadata": {},
     "output_type": "display_data"
    },
    {
     "name": "stdout",
     "output_type": "stream",
     "text": [
      "397/397 [==============================] - 7s 18ms/step - loss: 0.0125 - acc: 0.9967 - val_loss: 0.7266 - val_acc: 0.8932\n",
      "Epoch 44/50\n"
     ]
    },
    {
     "data": {
      "application/vnd.jupyter.widget-view+json": {
       "model_id": "",
       "version_major": 2,
       "version_minor": 0
      },
      "text/plain": [
       "HBox(children=(IntProgress(value=0, description='Epoch 43', max=397, style=ProgressStyle(description_width='in…"
      ]
     },
     "metadata": {},
     "output_type": "display_data"
    },
    {
     "name": "stdout",
     "output_type": "stream",
     "text": [
      "397/397 [==============================] - 8s 20ms/step - loss: 0.0070 - acc: 0.9980 - val_loss: 0.6167 - val_acc: 0.9034\n",
      "Epoch 45/50\n"
     ]
    },
    {
     "data": {
      "application/vnd.jupyter.widget-view+json": {
       "model_id": "",
       "version_major": 2,
       "version_minor": 0
      },
      "text/plain": [
       "HBox(children=(IntProgress(value=0, description='Epoch 44', max=397, style=ProgressStyle(description_width='in…"
      ]
     },
     "metadata": {},
     "output_type": "display_data"
    },
    {
     "name": "stdout",
     "output_type": "stream",
     "text": [
      "397/397 [==============================] - 8s 20ms/step - loss: 0.0061 - acc: 0.9980 - val_loss: 0.7439 - val_acc: 0.8966\n",
      "Epoch 46/50\n"
     ]
    },
    {
     "data": {
      "application/vnd.jupyter.widget-view+json": {
       "model_id": "",
       "version_major": 2,
       "version_minor": 0
      },
      "text/plain": [
       "HBox(children=(IntProgress(value=0, description='Epoch 45', max=397, style=ProgressStyle(description_width='in…"
      ]
     },
     "metadata": {},
     "output_type": "display_data"
    },
    {
     "name": "stdout",
     "output_type": "stream",
     "text": [
      "397/397 [==============================] - 8s 19ms/step - loss: 0.0023 - acc: 0.9994 - val_loss: 0.5737 - val_acc: 0.9040\n",
      "Epoch 47/50\n"
     ]
    },
    {
     "data": {
      "application/vnd.jupyter.widget-view+json": {
       "model_id": "",
       "version_major": 2,
       "version_minor": 0
      },
      "text/plain": [
       "HBox(children=(IntProgress(value=0, description='Epoch 46', max=397, style=ProgressStyle(description_width='in…"
      ]
     },
     "metadata": {},
     "output_type": "display_data"
    },
    {
     "name": "stdout",
     "output_type": "stream",
     "text": [
      "397/397 [==============================] - 8s 20ms/step - loss: 0.0022 - acc: 0.9992 - val_loss: 0.7507 - val_acc: 0.9034\n",
      "Epoch 48/50\n"
     ]
    },
    {
     "data": {
      "application/vnd.jupyter.widget-view+json": {
       "model_id": "",
       "version_major": 2,
       "version_minor": 0
      },
      "text/plain": [
       "HBox(children=(IntProgress(value=0, description='Epoch 47', max=397, style=ProgressStyle(description_width='in…"
      ]
     },
     "metadata": {},
     "output_type": "display_data"
    },
    {
     "name": "stdout",
     "output_type": "stream",
     "text": [
      "397/397 [==============================] - 8s 19ms/step - loss: 0.0045 - acc: 0.9984 - val_loss: 0.5964 - val_acc: 0.9023\n",
      "Epoch 49/50\n"
     ]
    },
    {
     "data": {
      "application/vnd.jupyter.widget-view+json": {
       "model_id": "",
       "version_major": 2,
       "version_minor": 0
      },
      "text/plain": [
       "HBox(children=(IntProgress(value=0, description='Epoch 48', max=397, style=ProgressStyle(description_width='in…"
      ]
     },
     "metadata": {},
     "output_type": "display_data"
    },
    {
     "name": "stdout",
     "output_type": "stream",
     "text": [
      "397/397 [==============================] - 7s 19ms/step - loss: 0.0025 - acc: 0.9992 - val_loss: 0.7671 - val_acc: 0.8926\n",
      "Epoch 50/50\n"
     ]
    },
    {
     "data": {
      "application/vnd.jupyter.widget-view+json": {
       "model_id": "",
       "version_major": 2,
       "version_minor": 0
      },
      "text/plain": [
       "HBox(children=(IntProgress(value=0, description='Epoch 49', max=397, style=ProgressStyle(description_width='in…"
      ]
     },
     "metadata": {},
     "output_type": "display_data"
    },
    {
     "name": "stdout",
     "output_type": "stream",
     "text": [
      "397/397 [==============================] - 8s 19ms/step - loss: 9.6393e-04 - acc: 0.9997 - val_loss: 0.6127 - val_acc: 0.9102\n",
      "\n"
     ]
    }
   ],
   "source": [
    "batch_size=  40 \n",
    "CV_frac = 0.1\n",
    "train_gen = data_generator(batch_size,'../data/preprocessed/bal_gunspotting_in_school_subset.tfrecord', 0, 1-CV_frac)\n",
    "val_gen = data_generator(20,'../data/preprocessed/bal_gunspotting_in_school_subset.tfrecord', 1-CV_frac, 1)\n",
    "rec_len = 17662 \n",
    "nn_h = nn_model.fit_generator(train_gen,steps_per_epoch=int(rec_len*(1-CV_frac))//batch_size, epochs=50,validation_data=val_gen, validation_steps=int(rec_len*CV_frac)//20,verbose=1, callbacks=[TQDMNotebookCallback()])\n",
    "\n"
   ]
  },
  {
   "cell_type": "code",
   "execution_count": 30,
   "metadata": {},
   "outputs": [
    {
     "data": {
      "image/png": "[encoded data removed]",
      "text/plain": [
       "<Figure size 432x288 with 1 Axes>"
      ]
     },
     "metadata": {
      "needs_background": "light"
     },
     "output_type": "display_data"
    }
   ],
   "source": [
    "plt.plot(nn_h.history['acc'], 'o-', label='train_acc')\n",
    "plt.plot(nn_h.history['val_acc'], 'x-', label='val_acc')\n",
    "plt.xlabel('Epochs(50)', size=20)\n",
    "plt.ylabel('Accuracy', size=20)\n",
    "plt.legend()\n",
    "plt.savefig('results/training_results/NeuralNet/SingleLayerNN__Loss=BinaryCE_50Epochsperformance.png', dpi = 300)"
   ]
  },
  {
   "cell_type": "code",
   "execution_count": 31,
   "metadata": {},
   "outputs": [
    {
     "name": "stdout",
     "output_type": "stream",
     "text": [
      "Epochs = 50\n",
      "val_loss length: 50\n",
      "val_acc length: 50\n",
      "loss length: 50\n",
      "acc length: 50\n",
      "Average Training loss = 0.023570153229306317\n",
      "Average Training accuracy= 99.20743094313357\n",
      "Average validation loss = 0.5749106726185569\n",
      "Average validation accuracy= 89.81363594125617\n"
     ]
    }
   ],
   "source": [
    "print(\"Epochs = 50\")\n",
    "print(\"val_loss length:\",len(nn_h.history['val_loss']))\n",
    "print(\"val_acc length:\",len(nn_h.history['val_acc']))\n",
    "print(\"loss length:\",len(nn_h.history['loss']))\n",
    "print(\"acc length:\",len(nn_h.history['acc']))\n",
    "\n",
    "print(\"Average Training loss =\", sum(nn_h.history['loss'])/len(nn_h.history['loss']))\n",
    "print(\"Average Training accuracy=\", sum(nn_h.history['acc'])/len(nn_h.history['acc'])*100)\n",
    "print(\"Average validation loss =\", sum(nn_h.history['val_loss'])/len(nn_h.history['val_loss']))\n",
    "print(\"Average validation accuracy=\", sum(nn_h.history['val_acc'])/len(nn_h.history['val_acc'])*100)\n",
    "\n",
    "\n",
    "from keras.utils import plot_model\n",
    "plot_model(nn_model, to_file='results/training_results/NeuralNet/SingleLayerNN__Loss=BinaryCE_50EpochsModel.png')\n"
   ]
  },
  {
   "cell_type": "code",
   "execution_count": 27,
   "metadata": {},
   "outputs": [],
   "source": [
    "nn_model.save('Models/SingleLayerNN__Loss=BinaryCE_50Epochs.h5')"
   ]
  },
  {
   "cell_type": "code",
   "execution_count": null,
   "metadata": {},
   "outputs": [],
   "source": [
    "## Single Layer NN Model with Mean Squared Logarithmic Error"
   ]
  },
  {
   "cell_type": "code",
   "execution_count": null,
   "metadata": {},
   "outputs": [],
   "source": [
    "from keras.models import Sequential\n",
    "from keras.layers import Dense, BatchNormalization, Flatten\n",
    "\n",
    "nn_model = Sequential()\n",
    "nn_model.add(BatchNormalization(input_shape=(10, 128)))\n",
    "nn_model.add(Flatten())\n",
    "nn_model.add(Dense(100, activation='relu'))\n",
    "nn_model.add(Dense(1, activation='sigmoid'))                 \n",
    "nn_model.compile(loss='mean_squared_logarithmic_error',\n",
    "              optimizer='adam',\n",
    "              metrics=['accuracy'])"
   ]
  },
  {
   "cell_type": "code",
   "execution_count": null,
   "metadata": {},
   "outputs": [],
   "source": [
    "## Multiclass Logistic Regression"
   ]
  },
  {
   "cell_type": "code",
   "execution_count": null,
   "metadata": {},
   "outputs": [],
   "source": [
    "from bitstring import BitArray  #To perform bit manipulation\n",
    "from keras.preprocessing.sequence import pad_sequences\n",
    "\n",
    "def data_generator_multiclass(batch_size, tfrecord, start_frac=0, end_frac=1):\n",
    "    '''\n",
    "    Shuffles the Audioset training data and returns a generator of training data and boolean gunshot labels\n",
    "    batch_size: batch size for each set of training data and labels\n",
    "    tfrecord: filestring of the tfrecord file to train on\n",
    "    start_frac: the starting point of the data set to use, as a fraction of total record length (used for CV)\n",
    "    end_frac: the ending point of the data set to use, as a fraction of total record length (used for CV)\n",
    "    '''\n",
    "    max_len=10\n",
    "    #tfrecord holds data in binary sequence string. \n",
    "    records = list(tf.python_io.tf_record_iterator(tfrecord))  #records holds the array of the tfrecord file\n",
    "    if(tfrecord == '../data/preprocessed/unbaltrain_spotting_gunshots_subset.tfrecord'):\n",
    "        print(\"Total audioframes in training dataset:\", len(records))\n",
    "    elif(tfrecord == '../data/preprocessed/eval_spotting_gunshots_subset.tfrecord'):\n",
    "        print(\"Total audioframes in eval dataset:\", len(records))\n",
    "        \n",
    "    records = records[int(start_frac*len(records)):int(end_frac*len(records))]  # Make train_set & CV_set \n",
    "    print(\"After fractioning:\")\n",
    "    if(tfrecord == '../data/preprocessed/unbaltrain_spotting_gunshots_subset.tfrecord'):\n",
    "        print(\"Total audioframes in training dataset:\", len(records))\n",
    "    elif(tfrecord == '../data/preprocessed/eval_spotting_gunshots_subset.tfrecord'):\n",
    "        print(\"Total audioframes in eval dataset:\", len(records))\n",
    "    \n",
    "    rec_len = len(records)  # this is your train set, rest is CV_set\n",
    "    shuffle = np.random.permutation(range(rec_len))\n",
    "    num_batches = rec_len//batch_size - 1                      \n",
    "    j = 0\n",
    "    \n",
    "    \n",
    "    classes = [\"gun\",\"firework\",\"background\", \"other\"]\n",
    "    dict_classes = dict.fromkeys(classes)\n",
    "    \n",
    "    gun_labels = [426,427,428,429,430,431]\n",
    "    fireworks_labels = [432,433,434]\n",
    "    background_labels= [506,507,508,509,510,511,512,513,514,515,516,517,518,519,520,521,522,523,524,525,526]\n",
    "    other_labels =[]\n",
    "    \n",
    "    while True:\n",
    "        X = []\n",
    "        y = []  #add g=[],f=[],b=[],other=[]\n",
    "        \n",
    "        for idx in shuffle[j*batch_size:(j+1)*batch_size]:\n",
    "            example = records[idx]\n",
    "            tf_seq_example = tf.train.SequenceExample.FromString(example)\n",
    "            example_label = list(np.asarray(tf_seq_example.context.feature['labels'].int64_list.value))\n",
    "            dict_classes = {\n",
    "                \"gun\":int(any((True for x in example_label if x in gun_labels))),\n",
    "                \"firework\":int(any((True for x in example_label if x in fireworks_labels))),\n",
    "                \"background\":int(any(True for x in example_label if x in background_labels)),\n",
    "                \"other\": 0\n",
    "            }\n",
    "            if (sum(dict_classes.values()) == 0):\n",
    "#                 dict_classes[\"other\"] = 1\n",
    "                y.append(3)\n",
    "            elif (sum(dict_classes.values()) >1):\n",
    "                dict_classes  = dict.fromkeys(dict_classes, 0)\n",
    "                continue;  # skip this iteration since the audioframe contains co-occurence of our classes \n",
    "            elif (sum(dict_classes.values()) == 1):\n",
    "                if (dict_classes[\"gun\"] == 1):\n",
    "                    y.append(0)\n",
    "                if (dict_classes[\"firework\"] == 1):\n",
    "                    y.append(1)\n",
    "                if (dict_classes[\"background\"] == 1):\n",
    "                    y.append(2)\n",
    "                if (dict_classes[\"other\"] == 1):\n",
    "                    y.append(3)\n",
    "                                \n",
    "            n_frames = len(tf_seq_example.feature_lists.feature_list['audio_embedding'].feature)\n",
    "            audio_frame = []\n",
    "            for i in range(n_frames):\n",
    "                audio_frame.append(np.frombuffer(tf_seq_example.feature_lists.feature_list['audio_embedding'].\n",
    "                                                         feature[i].bytes_list.value[0],np.uint8).astype(np.float32)) # audio_frame gets 128 8 bit numbers on each for loop iteration\n",
    "            pad = [np.zeros([128], np.float32) for i in range(max_len-n_frames)] \n",
    "            # if clip is less than 10 sec, audio_frame is padded with zeros for \n",
    "            #rest of the secs to make it to 10 sec.\n",
    "            \n",
    "            audio_frame += pad\n",
    "            X.append(audio_frame) #eg: X[5] will output 5th audioframe \n",
    "\n",
    "        j += 1\n",
    "        if j >= num_batches:\n",
    "            shuffle = np.random.permutation(range(rec_len))\n",
    "            j = 0\n",
    "\n",
    "        X = np.array(X)\n",
    "        print(\"size of X\",len(X))\n",
    "        print(\"size of y\",len(y))\n",
    "        yield X, np.array(y)"
   ]
  },
  {
   "cell_type": "code",
   "execution_count": null,
   "metadata": {},
   "outputs": [],
   "source": [
    "from keras.models import Sequential\n",
    "from keras.layers import Dense, BatchNormalization, Flatten\n",
    "\n",
    "multi_lr_model = Sequential()\n",
    "# lr_model.add(Flatten(input_shape = (10,128)))\n",
    "# multi_lr_model.add(BatchNormalization(input_shape=(10, 128)))\n",
    "\n",
    "multi_lr_model.add(Flatten(input_shape=(10, 128)))\n",
    "#multi_lr_model.add(Flatten())\n",
    "multi_lr_model.add(Dense(4, activation='softmax'))                \n",
    "multi_lr_model.compile(loss = 'sparse_categorical_crossentropy',\n",
    "              optimizer='sgd',\n",
    "              metrics=['accuracy'])\n"
   ]
  },
  {
   "cell_type": "code",
   "execution_count": null,
   "metadata": {},
   "outputs": [],
   "source": [
    "batch_size=  40 \n",
    "CV_frac = 0.1\n",
    "train_gen = data_generator_multiclass(batch_size,'../data/preprocessed/unbaltrain_spotting_gunshots_subset.tfrecord')#, 0, 1-CV_frac)\n",
    "val_gen = data_generator_multiclass(20,'../data/preprocessed/eval_spotting_gunshots_subset.tfrecord')#, 1-CV_frac, 1)\n",
    "rec_len = 22832 \n",
    "multi_lr_h = multi_lr_model.fit_generator(train_gen,steps_per_epoch=int(rec_len*(1-CV_frac))//batch_size, epochs=50,validation_data=val_gen, validation_steps=int(rec_len*CV_frac)//20,verbose=0, callbacks=[TQDMNotebookCallback()])"
   ]
  },
  {
   "cell_type": "code",
   "execution_count": null,
   "metadata": {},
   "outputs": [],
   "source": [
    "plt.plot(multi_lr_h.history['acc'], 'o-', label='train_acc')\n",
    "plt.plot(multi_lr_h.history['val_acc'], 'x-', label='val_acc')\n",
    "plt.xlabel('Epochs(100)', size=18)\n",
    "plt.ylabel('Accuracy', size=18)\n",
    "plt.legend()\n",
    "plt.savefig('results/training_results/LogisticRegression__Loss=sparse_catCE_100Epochs.png', dpi = 300)"
   ]
  },
  {
   "cell_type": "code",
   "execution_count": null,
   "metadata": {},
   "outputs": [],
   "source": [
    "print(\"Epochs = 100\")\n",
    "print(\"val_loss length:\",len(multi_lr_h.history['val_loss']))\n",
    "print(\"val_acc length:\",len(multi_lr_h.history['val_acc']))\n",
    "print(\"loss length:\",len(multi_lr_h.history['loss']))\n",
    "print(\"acc length:\",len(multi_lr_h.history['acc']))\n",
    "\n",
    "print(\"Average Training loss =\", sum(multi_lr_h.history['loss'])/len(multi_lr_h.history['loss']))\n",
    "print(\"Average Training accuracy=\", sum(multi_lr_h.history['acc'])/len(multi_lr_h.history['acc'])*100)\n",
    "print(\"Average validation loss =\", sum(multi_lr_h.history['val_loss'])/len(multi_lr_h.history['val_loss']))\n",
    "print(\"Average validation accuracy=\", sum(multi_lr_h.history['val_acc'])/len(multi_lr_h.history['val_acc'])*100)\n",
    "\n",
    "\n",
    "from keras.utils import plot_model\n",
    "plot_model(multi_lr_model, to_file='results/training_results/LogisticRegression__Loss=sparse_catCE_100Epochs.png')\n"
   ]
  },
  {
   "cell_type": "code",
   "execution_count": null,
   "metadata": {},
   "outputs": [],
   "source": [
    "multi_lr_model.save('Models/LogisticRegression__Loss=sparse_catCE_100Epochs.h5')"
   ]
  },
  {
   "cell_type": "code",
   "execution_count": null,
   "metadata": {},
   "outputs": [],
   "source": [
    "# from keras.models import Sequential\n",
    "# from keras.layers import Dense, BatchNormalization, Dropout\n",
    "# from keras.layers import LSTM\n",
    "# from keras import regularizers\n",
    "\n",
    "# lstm_model = Sequential()\n",
    "# lstm_model.add(BatchNormalization(input_shape=(None, 128)))\n",
    "# lstm_model.add(Dropout(0.5))\n",
    "# lstm_model.add(LSTM(128, activation='relu',\n",
    "#         kernel_regularizer=regularizers.l2(0.01),\n",
    "#         activity_regularizer=regularizers.l2(0.01)))\n",
    "# lstm_model.add(Dense(1, activation='sigmoid'))\n",
    "\n",
    "# # try using different optimizers and different optimizer configs\n",
    "# lstm_model.compile(loss='binary_crossentropy',\n",
    "#               optimizer='adam',\n",
    "#               metrics=['accuracy'])"
   ]
  },
  {
   "cell_type": "code",
   "execution_count": null,
   "metadata": {},
   "outputs": [],
   "source": []
  },
  {
   "cell_type": "code",
   "execution_count": null,
   "metadata": {},
   "outputs": [],
   "source": []
  }
 ],
 "metadata": {
  "kernelspec": {
   "display_name": "Python 3",
   "language": "python",
   "name": "python3"
  },
  "language_info": {
   "codemirror_mode": {
    "name": "ipython",
    "version": 3
   },
   "file_extension": ".py",
   "mimetype": "text/x-python",
   "name": "python",
   "nbconvert_exporter": "python",
   "pygments_lexer": "ipython3",
   "version": "3.7.2"
  }
 },
 "nbformat": 4,
 "nbformat_minor": 2
}
