{
 "cells": [
  {
   "cell_type": "code",
   "execution_count": 1,
   "metadata": {},
   "outputs": [
    {
     "name": "stderr",
     "output_type": "stream",
     "text": [
      "Using TensorFlow backend.\n"
     ]
    }
   ],
   "source": [
    "%matplotlib inline\n",
    "import matplotlib.pyplot as plt\n",
    "plt.rcParams['figure.figsize'] = (12,8)\n",
    "import numpy as np\n",
    "import tensorflow as tf\n",
    "import keras\n",
    "import pandas as pd"
   ]
  },
  {
   "cell_type": "code",
   "execution_count": 2,
   "metadata": {},
   "outputs": [
    {
     "name": "stdout",
     "output_type": "stream",
     "text": [
      "WARNING:tensorflow:From <ipython-input-2-d88e29c4d8bf>:6: tf_record_iterator (from tensorflow.python.lib.io.tf_record) is deprecated and will be removed in a future version.\n",
      "Instructions for updating:\n",
      "Use eager execution and: \n",
      "`tf.data.TFRecordDataset(path)`\n",
      "229\n",
      "[137, 433]\n"
     ]
    }
   ],
   "source": [
    "#Testing if the video_id can be parsed\n",
    "# tr = list(tf.python_io.tf_record_iterator('preprocessed_data/bal_spotgun_subset.tfrecord'))\n",
    "# tf_example = tf.train.Example.FromString(tr[0])\n",
    "# tf_example.features.feature['video_id'].bytes_list.value[0].decode()\n",
    "\n",
    "test_records = list(tf.python_io.tf_record_iterator('preprocessed_data_previous/eval_spotting_gunshots_subset.tfrecord'))\n",
    "print(len(test_records))\n",
    "tf_seq_example = tf.train.SequenceExample.FromString(test_records[1])\n",
    "example_label = list(np.asarray(tf_seq_example.context.feature['labels'].int64_list.value))\n",
    "print(example_label)"
   ]
  },
  {
   "cell_type": "code",
   "execution_count": 3,
   "metadata": {},
   "outputs": [],
   "source": [
    "from keras.preprocessing.sequence import pad_sequences\n",
    "\n",
    "def data_generator(batch_size, tfrecord):\n",
    "    max_len=10\n",
    "    records = list(tf.python_io.tf_record_iterator(tfrecord))\n",
    "    rec_len = len(records)\n",
    "    print(rec_len)\n",
    "    shuffle = np.random.permutation(range(rec_len))\n",
    "    num_batches = rec_len//batch_size \n",
    "    j = 0\n",
    "\n",
    "    gun_labels = [426,427,428,429,430,431]\n",
    "    while True:\n",
    "        X = []\n",
    "        y = []\n",
    "        for idx in shuffle[j*batch_size:(j+1)*batch_size]:\n",
    "            example = records[idx]\n",
    "            tf_seq_example = tf.train.SequenceExample.FromString(example)\n",
    "            example_label = list(np.asarray(tf_seq_example.context.feature['labels'].int64_list.value))\n",
    "            gun_bin = any((True for x in example_label if x in gun_labels))\n",
    "            y.append(gun_bin)\n",
    "\n",
    "            n_frames = len(tf_seq_example.feature_lists.feature_list['audio_embedding'].feature)\n",
    "            audio_frame = []\n",
    "            for i in range(n_frames):\n",
    "                audio_frame.append(np.frombuffer(tf_seq_example.feature_lists.feature_list['audio_embedding'].\n",
    "                                                         feature[i].bytes_list.value[0],np.uint8).astype(np.float32))\n",
    "            pad = [np.zeros([128], np.float32) for i in range(max_len-n_frames)]\n",
    "            audio_frame += pad\n",
    "            X.append(audio_frame)\n",
    "\n",
    "        j += 1\n",
    "        if j >= num_batches:\n",
    "            shuffle = np.random.permutation(range(rec_len))\n",
    "            j = 0\n",
    "\n",
    "        X = np.array(X)\n",
    "        yield X, y"
   ]
  },
  {
   "cell_type": "code",
   "execution_count": 4,
   "metadata": {},
   "outputs": [
    {
     "name": "stdout",
     "output_type": "stream",
     "text": [
      "229\n",
      "224\n",
      "224\n"
     ]
    }
   ],
   "source": [
    "import itertools\n",
    "batch_size = 32\n",
    "val_gen = data_generator(batch_size,'preprocessed_data_previous/eval_spotting_gunshots_subset.tfrecord')\n",
    "val = list(itertools.islice(val_gen,229//32))\n",
    "X = [d[0] for d in val]\n",
    "y = [d[1] for d in val]\n",
    "X = np.concatenate(X)\n",
    "y = np.concatenate(y)\n",
    "print(len(X))\n",
    "print(len(y))"
   ]
  },
  {
   "cell_type": "code",
   "execution_count": 21,
   "metadata": {},
   "outputs": [
    {
     "name": "stdout",
     "output_type": "stream",
     "text": [
      "224/224 [==============================] - 0s 2ms/step\n",
      "acc: 81.70%\n",
      "score is an array of size 2\n",
      "[[0.00000000e+00]\n",
      " [0.00000000e+00]\n",
      " [0.00000000e+00]\n",
      " [0.00000000e+00]\n",
      " [0.00000000e+00]\n",
      " [0.00000000e+00]\n",
      " [0.00000000e+00]\n",
      " [0.00000000e+00]\n",
      " [8.94069672e-08]\n",
      " [0.00000000e+00]\n",
      " [0.00000000e+00]\n",
      " [0.00000000e+00]\n",
      " [5.07582724e-01]\n",
      " [0.00000000e+00]\n",
      " [0.00000000e+00]\n",
      " [3.78489494e-06]\n",
      " [0.00000000e+00]\n",
      " [0.00000000e+00]\n",
      " [8.86907101e-01]\n",
      " [0.00000000e+00]\n",
      " [0.00000000e+00]\n",
      " [3.41701925e-01]\n",
      " [1.54972076e-05]\n",
      " [0.00000000e+00]\n",
      " [1.00000000e+00]\n",
      " [0.00000000e+00]\n",
      " [9.11951065e-06]\n",
      " [0.00000000e+00]\n",
      " [0.00000000e+00]\n",
      " [9.99999523e-01]\n",
      " [0.00000000e+00]\n",
      " [0.00000000e+00]\n",
      " [0.00000000e+00]\n",
      " [9.99997854e-01]\n",
      " [0.00000000e+00]\n",
      " [0.00000000e+00]\n",
      " [0.00000000e+00]\n",
      " [3.57627869e-07]\n",
      " [0.00000000e+00]\n",
      " [1.00000000e+00]\n",
      " [0.00000000e+00]\n",
      " [0.00000000e+00]\n",
      " [0.00000000e+00]\n",
      " [0.00000000e+00]\n",
      " [1.00000000e+00]\n",
      " [0.00000000e+00]\n",
      " [0.00000000e+00]\n",
      " [0.00000000e+00]\n",
      " [0.00000000e+00]\n",
      " [0.00000000e+00]\n",
      " [0.00000000e+00]\n",
      " [0.00000000e+00]\n",
      " [0.00000000e+00]\n",
      " [0.00000000e+00]\n",
      " [1.00000000e+00]\n",
      " [0.00000000e+00]\n",
      " [6.85453415e-07]\n",
      " [1.00000000e+00]\n",
      " [9.99998927e-01]\n",
      " [0.00000000e+00]\n",
      " [0.00000000e+00]\n",
      " [0.00000000e+00]\n",
      " [0.00000000e+00]\n",
      " [0.00000000e+00]\n",
      " [0.00000000e+00]\n",
      " [9.87031341e-01]\n",
      " [4.96447086e-04]\n",
      " [0.00000000e+00]\n",
      " [1.10602975e-02]\n",
      " [1.02519989e-05]\n",
      " [1.00000000e+00]\n",
      " [1.00000000e+00]\n",
      " [0.00000000e+00]\n",
      " [0.00000000e+00]\n",
      " [0.00000000e+00]\n",
      " [1.00000000e+00]\n",
      " [0.00000000e+00]\n",
      " [9.99971390e-01]\n",
      " [0.00000000e+00]\n",
      " [0.00000000e+00]\n",
      " [1.78813934e-07]\n",
      " [0.00000000e+00]\n",
      " [0.00000000e+00]\n",
      " [3.23047638e-02]\n",
      " [9.99999821e-01]\n",
      " [3.85532379e-02]\n",
      " [9.99999702e-01]\n",
      " [0.00000000e+00]\n",
      " [6.25848770e-07]\n",
      " [0.00000000e+00]\n",
      " [0.00000000e+00]\n",
      " [0.00000000e+00]\n",
      " [0.00000000e+00]\n",
      " [0.00000000e+00]\n",
      " [0.00000000e+00]\n",
      " [1.71024203e-02]\n",
      " [0.00000000e+00]\n",
      " [0.00000000e+00]\n",
      " [1.00000000e+00]\n",
      " [0.00000000e+00]\n",
      " [0.00000000e+00]\n",
      " [9.99999881e-01]\n",
      " [0.00000000e+00]\n",
      " [0.00000000e+00]\n",
      " [0.00000000e+00]\n",
      " [0.00000000e+00]\n",
      " [0.00000000e+00]\n",
      " [0.00000000e+00]\n",
      " [2.10702419e-05]\n",
      " [1.00000000e+00]\n",
      " [0.00000000e+00]\n",
      " [0.00000000e+00]\n",
      " [9.99975681e-01]\n",
      " [1.48892403e-03]\n",
      " [2.95042992e-06]\n",
      " [1.20645761e-03]\n",
      " [2.38418579e-06]\n",
      " [0.00000000e+00]\n",
      " [0.00000000e+00]\n",
      " [9.99999881e-01]\n",
      " [0.00000000e+00]\n",
      " [1.00000000e+00]\n",
      " [0.00000000e+00]\n",
      " [0.00000000e+00]\n",
      " [1.00000000e+00]\n",
      " [1.00000000e+00]\n",
      " [0.00000000e+00]\n",
      " [1.00000000e+00]\n",
      " [0.00000000e+00]\n",
      " [0.00000000e+00]\n",
      " [5.96046448e-08]\n",
      " [0.00000000e+00]\n",
      " [0.00000000e+00]\n",
      " [0.00000000e+00]\n",
      " [0.00000000e+00]\n",
      " [9.99998927e-01]\n",
      " [0.00000000e+00]\n",
      " [1.08182430e-05]\n",
      " [0.00000000e+00]\n",
      " [0.00000000e+00]\n",
      " [0.00000000e+00]\n",
      " [0.00000000e+00]\n",
      " [0.00000000e+00]\n",
      " [0.00000000e+00]\n",
      " [1.00000000e+00]\n",
      " [0.00000000e+00]\n",
      " [0.00000000e+00]\n",
      " [0.00000000e+00]\n",
      " [0.00000000e+00]\n",
      " [5.36441803e-07]\n",
      " [0.00000000e+00]\n",
      " [0.00000000e+00]\n",
      " [0.00000000e+00]\n",
      " [1.00000000e+00]\n",
      " [0.00000000e+00]\n",
      " [0.00000000e+00]\n",
      " [0.00000000e+00]\n",
      " [9.99977112e-01]\n",
      " [0.00000000e+00]\n",
      " [0.00000000e+00]\n",
      " [3.34084034e-05]\n",
      " [1.96695328e-06]\n",
      " [3.36766243e-06]\n",
      " [6.04242086e-04]\n",
      " [0.00000000e+00]\n",
      " [1.00000000e+00]\n",
      " [0.00000000e+00]\n",
      " [1.00000000e+00]\n",
      " [0.00000000e+00]\n",
      " [9.85377669e-01]\n",
      " [9.92100537e-01]\n",
      " [1.00000000e+00]\n",
      " [0.00000000e+00]\n",
      " [0.00000000e+00]\n",
      " [0.00000000e+00]\n",
      " [1.43051147e-06]\n",
      " [0.00000000e+00]\n",
      " [0.00000000e+00]\n",
      " [1.00000000e+00]\n",
      " [0.00000000e+00]\n",
      " [0.00000000e+00]\n",
      " [1.00000000e+00]\n",
      " [9.99992371e-01]\n",
      " [1.00000000e+00]\n",
      " [2.98023224e-08]\n",
      " [0.00000000e+00]\n",
      " [0.00000000e+00]\n",
      " [0.00000000e+00]\n",
      " [0.00000000e+00]\n",
      " [0.00000000e+00]\n",
      " [0.00000000e+00]\n",
      " [1.72853470e-06]\n",
      " [1.49011612e-07]\n",
      " [5.62678039e-01]\n",
      " [0.00000000e+00]\n",
      " [1.17999315e-03]\n",
      " [0.00000000e+00]\n",
      " [0.00000000e+00]\n",
      " [0.00000000e+00]\n",
      " [1.00000000e+00]\n",
      " [1.00515783e-02]\n",
      " [7.66019225e-01]\n",
      " [0.00000000e+00]\n",
      " [0.00000000e+00]\n",
      " [0.00000000e+00]\n",
      " [0.00000000e+00]\n",
      " [1.00000000e+00]\n",
      " [1.19209290e-07]\n",
      " [0.00000000e+00]\n",
      " [1.01327896e-06]\n",
      " [0.00000000e+00]\n",
      " [0.00000000e+00]\n",
      " [0.00000000e+00]\n",
      " [8.94069672e-08]\n",
      " [9.99982357e-01]\n",
      " [1.00000000e+00]\n",
      " [6.25848770e-07]\n",
      " [0.00000000e+00]\n",
      " [0.00000000e+00]\n",
      " [0.00000000e+00]\n",
      " [0.00000000e+00]\n",
      " [0.00000000e+00]\n",
      " [0.00000000e+00]\n",
      " [3.88550758e-03]]\n"
     ]
    }
   ],
   "source": [
    "from keras.models import load_model\n",
    "m1 = load_model('Models/SingleLayerNN_loss=MeanLogarithmicError3_100Epochs.h5')\n",
    "p1 = m1.predict(X)\n",
    "score1 = m1.evaluate(X, y, verbose=1)\n",
    "print(\"%s: %.2f%%\" % (m1.metrics_names[1], score1[1]*100))\n",
    "print(\"score is an array of size\",len(score1))\n",
    "\n",
    "print(p1)"
   ]
  },
  {
   "cell_type": "code",
   "execution_count": 6,
   "metadata": {},
   "outputs": [
    {
     "name": "stdout",
     "output_type": "stream",
     "text": [
      "224/224 [==============================] - 0s 1ms/step\n",
      "acc: 82.14%\n",
      "score is an array of size 2\n"
     ]
    }
   ],
   "source": [
    "from keras.models import load_model\n",
    "m2 = load_model('Models/SingleLayerNN__Loss=BinaryCE_100Epochs.h5')\n",
    "p2 = m2.predict(X)\n",
    "score2 = m2.evaluate(X, y, verbose=1)\n",
    "print(\"%s: %.2f%%\" % (m2.metrics_names[1], score2[1]*100))\n",
    "print(\"score is an array of size\",len(score2))"
   ]
  },
  {
   "cell_type": "code",
   "execution_count": 7,
   "metadata": {},
   "outputs": [
    {
     "name": "stdout",
     "output_type": "stream",
     "text": [
      "224/224 [==============================] - 0s 1ms/step\n",
      "acc: 79.02%\n",
      "score is an array: 2\n"
     ]
    }
   ],
   "source": [
    "from keras.models import load_model\n",
    "m3 = load_model('Models/LogisticRegression_BinaryCE_Adam_50Epochs.h5')\n",
    "p3 = m3.predict(X)\n",
    "score3 = m3.evaluate(X, y, verbose=1)\n",
    "print(\"%s: %.2f%%\" % (m3.metrics_names[1], score3[1]*100))\n",
    "print(\"score is an array:\",len(score3))"
   ]
  },
  {
   "cell_type": "code",
   "execution_count": 8,
   "metadata": {},
   "outputs": [],
   "source": [
    "from sklearn.metrics import roc_curve\n",
    "fpr, tpr, thresholds = roc_curve(y,p1)\n",
    "fpr2, tpr2, thresholds2 = roc_curve(y,p2)\n",
    "fpr3, tpr3, thresholds3 = roc_curve(y,p3)"
   ]
  },
  {
   "cell_type": "code",
   "execution_count": 9,
   "metadata": {},
   "outputs": [],
   "source": [
    "from sklearn.metrics import auc\n",
    "auc_NN1_meanlog = auc(fpr, tpr)\n",
    "auc_NN1_binaryCE = auc(fpr2,tpr2)\n",
    "auc_LR_binaryCE = auc(fpr3,tpr3)"
   ]
  },
  {
   "cell_type": "code",
   "execution_count": 13,
   "metadata": {},
   "outputs": [
    {
     "data": {
      "image/png": "[encoded data removed]",
      "text/plain": [
       "<Figure size 432x288 with 1 Axes>"
      ]
     },
     "metadata": {
      "needs_background": "light"
     },
     "output_type": "display_data"
    }
   ],
   "source": [
    "plt.plot(fpr,tpr, 'o-', label='1 Layer NN-100 nodes, Loss = Mean_log_error, AUC={:.3f}'.format(auc_NN1_meanlog))\n",
    "plt.plot(fpr2,tpr2, 'x-', label='1 Layer NN-100 nodes, Binary Cross Entropy, AUC={:.3f}'.format(auc_NN1_binaryCE))\n",
    "plt.plot(fpr3,tpr3, 'o-', label='Logistic reg, 50 Epochs, AUC={:.3f}'.format(auc_LR_binaryCE))\n",
    "\n",
    "plt.plot([0,1],[1,0],'k:')\n",
    "plt.xlabel('False Positive Rate', size=18)\n",
    "plt.ylabel('True Positive Rate', size=18)\n",
    "plt.title('ROC curve')\n",
    "plt.legend(loc='best')\n",
    "# plt.figure()\n",
    "plt.savefig('ROC curves2', dpi = 300)"
   ]
  },
  {
   "cell_type": "code",
   "execution_count": null,
   "metadata": {},
   "outputs": [],
   "source": [
    "print(y)"
   ]
  },
  {
   "cell_type": "code",
   "execution_count": null,
   "metadata": {},
   "outputs": [],
   "source": [
    "print(p3)"
   ]
  },
  {
   "cell_type": "code",
   "execution_count": null,
   "metadata": {},
   "outputs": [],
   "source": [
    "fpr3\n"
   ]
  },
  {
   "cell_type": "code",
   "execution_count": null,
   "metadata": {},
   "outputs": [],
   "source": [
    "# calculate precision-recall curve\n",
    "precision, recall, thresholds = precision_recall_curve(testy, probs)"
   ]
  },
  {
   "cell_type": "code",
   "execution_count": null,
   "metadata": {},
   "outputs": [],
   "source": [
    "# calculate precision-recall curve\n",
    "precision, recall, thresholds = precision_recall_curve(testy, probs)"
   ]
  },
  {
   "cell_type": "code",
   "execution_count": null,
   "metadata": {},
   "outputs": [],
   "source": [
    "# calculate precision-recall AUC\n",
    "auc = auc(recall, precision)"
   ]
  },
  {
   "cell_type": "code",
   "execution_count": 22,
   "metadata": {},
   "outputs": [
    {
     "name": "stdout",
     "output_type": "stream",
     "text": [
      "precision: [0.25       0.45783133 0.46341463 0.4691358  0.48101266 0.48717949\n",
      " 0.49350649 0.48684211 0.49333333 0.5        0.51388889 0.52112676\n",
      " 0.52857143 0.53623188 0.52941176 0.53731343 0.54545455 0.55384615\n",
      " 0.5625     0.57142857 0.58064516 0.59016393 0.6        0.61016949\n",
      " 0.62068966 0.63157895 0.625      0.63636364 0.64814815 0.66037736\n",
      " 0.67307692 0.68627451 0.68       0.69387755 0.6875     0.68085106\n",
      " 0.67391304 0.66666667 0.68181818 0.69767442 0.69047619 0.70731707\n",
      " 0.725      0.71794872 0.73684211 0.72972973 0.75       0.77142857\n",
      " 0.76470588 0.75757576 0.75       0.76666667 0.75862069 0.78571429\n",
      " 0.77777778 0.76       1.        ]\n",
      "recall: [1.         0.67857143 0.67857143 0.67857143 0.67857143 0.67857143\n",
      " 0.67857143 0.66071429 0.66071429 0.66071429 0.66071429 0.66071429\n",
      " 0.66071429 0.66071429 0.64285714 0.64285714 0.64285714 0.64285714\n",
      " 0.64285714 0.64285714 0.64285714 0.64285714 0.64285714 0.64285714\n",
      " 0.64285714 0.64285714 0.625      0.625      0.625      0.625\n",
      " 0.625      0.625      0.60714286 0.60714286 0.58928571 0.57142857\n",
      " 0.55357143 0.53571429 0.53571429 0.53571429 0.51785714 0.51785714\n",
      " 0.51785714 0.5        0.5        0.48214286 0.48214286 0.48214286\n",
      " 0.46428571 0.44642857 0.42857143 0.41071429 0.39285714 0.39285714\n",
      " 0.375      0.33928571 0.        ]\n"
     ]
    },
    {
     "ename": "ValueError",
     "evalue": "Classification metrics can't handle a mix of binary and continuous targets",
     "output_type": "error",
     "traceback": [
      "\u001b[0;31m---------------------------------------------------------------------------\u001b[0m",
      "\u001b[0;31mValueError\u001b[0m                                Traceback (most recent call last)",
      "\u001b[0;32m<ipython-input-22-28ee06d8f14b>\u001b[0m in \u001b[0;36m<module>\u001b[0;34m\u001b[0m\n\u001b[1;32m      7\u001b[0m \u001b[0mprint\u001b[0m\u001b[0;34m(\u001b[0m\u001b[0;34m\"recall:\"\u001b[0m\u001b[0;34m,\u001b[0m \u001b[0mrecall_NN1log\u001b[0m\u001b[0;34m)\u001b[0m\u001b[0;34m\u001b[0m\u001b[0;34m\u001b[0m\u001b[0m\n\u001b[1;32m      8\u001b[0m \u001b[0;34m\u001b[0m\u001b[0m\n\u001b[0;32m----> 9\u001b[0;31m \u001b[0mf1_NN1log\u001b[0m \u001b[0;34m=\u001b[0m \u001b[0mf1_score\u001b[0m\u001b[0;34m(\u001b[0m\u001b[0my\u001b[0m\u001b[0;34m,\u001b[0m \u001b[0mp1\u001b[0m\u001b[0;34m)\u001b[0m\u001b[0;34m\u001b[0m\u001b[0;34m\u001b[0m\u001b[0m\n\u001b[0m\u001b[1;32m     10\u001b[0m \u001b[0mauc_pr\u001b[0m \u001b[0;34m=\u001b[0m \u001b[0mauc\u001b[0m\u001b[0;34m(\u001b[0m\u001b[0mrecall_NN1log\u001b[0m\u001b[0;34m,\u001b[0m \u001b[0mprecision_NN1log\u001b[0m\u001b[0;34m)\u001b[0m\u001b[0;34m\u001b[0m\u001b[0;34m\u001b[0m\u001b[0m\n\u001b[1;32m     11\u001b[0m \u001b[0;31m# calculate average precision score\u001b[0m\u001b[0;34m\u001b[0m\u001b[0;34m\u001b[0m\u001b[0;34m\u001b[0m\u001b[0m\n",
      "\u001b[0;32m~/anaconda3/envs/avacado/lib/python3.7/site-packages/sklearn/metrics/classification.py\u001b[0m in \u001b[0;36mf1_score\u001b[0;34m(y_true, y_pred, labels, pos_label, average, sample_weight)\u001b[0m\n\u001b[1;32m   1057\u001b[0m     return fbeta_score(y_true, y_pred, 1, labels=labels,\n\u001b[1;32m   1058\u001b[0m                        \u001b[0mpos_label\u001b[0m\u001b[0;34m=\u001b[0m\u001b[0mpos_label\u001b[0m\u001b[0;34m,\u001b[0m \u001b[0maverage\u001b[0m\u001b[0;34m=\u001b[0m\u001b[0maverage\u001b[0m\u001b[0;34m,\u001b[0m\u001b[0;34m\u001b[0m\u001b[0;34m\u001b[0m\u001b[0m\n\u001b[0;32m-> 1059\u001b[0;31m                        sample_weight=sample_weight)\n\u001b[0m\u001b[1;32m   1060\u001b[0m \u001b[0;34m\u001b[0m\u001b[0m\n\u001b[1;32m   1061\u001b[0m \u001b[0;34m\u001b[0m\u001b[0m\n",
      "\u001b[0;32m~/anaconda3/envs/avacado/lib/python3.7/site-packages/sklearn/metrics/classification.py\u001b[0m in \u001b[0;36mfbeta_score\u001b[0;34m(y_true, y_pred, beta, labels, pos_label, average, sample_weight)\u001b[0m\n\u001b[1;32m   1180\u001b[0m                                                  \u001b[0maverage\u001b[0m\u001b[0;34m=\u001b[0m\u001b[0maverage\u001b[0m\u001b[0;34m,\u001b[0m\u001b[0;34m\u001b[0m\u001b[0;34m\u001b[0m\u001b[0m\n\u001b[1;32m   1181\u001b[0m                                                  \u001b[0mwarn_for\u001b[0m\u001b[0;34m=\u001b[0m\u001b[0;34m(\u001b[0m\u001b[0;34m'f-score'\u001b[0m\u001b[0;34m,\u001b[0m\u001b[0;34m)\u001b[0m\u001b[0;34m,\u001b[0m\u001b[0;34m\u001b[0m\u001b[0;34m\u001b[0m\u001b[0m\n\u001b[0;32m-> 1182\u001b[0;31m                                                  sample_weight=sample_weight)\n\u001b[0m\u001b[1;32m   1183\u001b[0m     \u001b[0;32mreturn\u001b[0m \u001b[0mf\u001b[0m\u001b[0;34m\u001b[0m\u001b[0;34m\u001b[0m\u001b[0m\n\u001b[1;32m   1184\u001b[0m \u001b[0;34m\u001b[0m\u001b[0m\n",
      "\u001b[0;32m~/anaconda3/envs/avacado/lib/python3.7/site-packages/sklearn/metrics/classification.py\u001b[0m in \u001b[0;36mprecision_recall_fscore_support\u001b[0;34m(y_true, y_pred, beta, labels, pos_label, average, warn_for, sample_weight)\u001b[0m\n\u001b[1;32m   1413\u001b[0m         \u001b[0;32mraise\u001b[0m \u001b[0mValueError\u001b[0m\u001b[0;34m(\u001b[0m\u001b[0;34m\"beta should be >0 in the F-beta score\"\u001b[0m\u001b[0;34m)\u001b[0m\u001b[0;34m\u001b[0m\u001b[0;34m\u001b[0m\u001b[0m\n\u001b[1;32m   1414\u001b[0m     labels = _check_set_wise_labels(y_true, y_pred, average, labels,\n\u001b[0;32m-> 1415\u001b[0;31m                                     pos_label)\n\u001b[0m\u001b[1;32m   1416\u001b[0m \u001b[0;34m\u001b[0m\u001b[0m\n\u001b[1;32m   1417\u001b[0m     \u001b[0;31m# Calculate tp_sum, pred_sum, true_sum ###\u001b[0m\u001b[0;34m\u001b[0m\u001b[0;34m\u001b[0m\u001b[0;34m\u001b[0m\u001b[0m\n",
      "\u001b[0;32m~/anaconda3/envs/avacado/lib/python3.7/site-packages/sklearn/metrics/classification.py\u001b[0m in \u001b[0;36m_check_set_wise_labels\u001b[0;34m(y_true, y_pred, average, labels, pos_label)\u001b[0m\n\u001b[1;32m   1237\u001b[0m                          str(average_options))\n\u001b[1;32m   1238\u001b[0m \u001b[0;34m\u001b[0m\u001b[0m\n\u001b[0;32m-> 1239\u001b[0;31m     \u001b[0my_type\u001b[0m\u001b[0;34m,\u001b[0m \u001b[0my_true\u001b[0m\u001b[0;34m,\u001b[0m \u001b[0my_pred\u001b[0m \u001b[0;34m=\u001b[0m \u001b[0m_check_targets\u001b[0m\u001b[0;34m(\u001b[0m\u001b[0my_true\u001b[0m\u001b[0;34m,\u001b[0m \u001b[0my_pred\u001b[0m\u001b[0;34m)\u001b[0m\u001b[0;34m\u001b[0m\u001b[0;34m\u001b[0m\u001b[0m\n\u001b[0m\u001b[1;32m   1240\u001b[0m     \u001b[0mpresent_labels\u001b[0m \u001b[0;34m=\u001b[0m \u001b[0munique_labels\u001b[0m\u001b[0;34m(\u001b[0m\u001b[0my_true\u001b[0m\u001b[0;34m,\u001b[0m \u001b[0my_pred\u001b[0m\u001b[0;34m)\u001b[0m\u001b[0;34m\u001b[0m\u001b[0;34m\u001b[0m\u001b[0m\n\u001b[1;32m   1241\u001b[0m     \u001b[0;32mif\u001b[0m \u001b[0maverage\u001b[0m \u001b[0;34m==\u001b[0m \u001b[0;34m'binary'\u001b[0m\u001b[0;34m:\u001b[0m\u001b[0;34m\u001b[0m\u001b[0;34m\u001b[0m\u001b[0m\n",
      "\u001b[0;32m~/anaconda3/envs/avacado/lib/python3.7/site-packages/sklearn/metrics/classification.py\u001b[0m in \u001b[0;36m_check_targets\u001b[0;34m(y_true, y_pred)\u001b[0m\n\u001b[1;32m     79\u001b[0m     \u001b[0;32mif\u001b[0m \u001b[0mlen\u001b[0m\u001b[0;34m(\u001b[0m\u001b[0my_type\u001b[0m\u001b[0;34m)\u001b[0m \u001b[0;34m>\u001b[0m \u001b[0;36m1\u001b[0m\u001b[0;34m:\u001b[0m\u001b[0;34m\u001b[0m\u001b[0;34m\u001b[0m\u001b[0m\n\u001b[1;32m     80\u001b[0m         raise ValueError(\"Classification metrics can't handle a mix of {0} \"\n\u001b[0;32m---> 81\u001b[0;31m                          \"and {1} targets\".format(type_true, type_pred))\n\u001b[0m\u001b[1;32m     82\u001b[0m \u001b[0;34m\u001b[0m\u001b[0m\n\u001b[1;32m     83\u001b[0m     \u001b[0;31m# We can't have more than one value on y_type => The set is no more needed\u001b[0m\u001b[0;34m\u001b[0m\u001b[0;34m\u001b[0m\u001b[0;34m\u001b[0m\u001b[0m\n",
      "\u001b[0;31mValueError\u001b[0m: Classification metrics can't handle a mix of binary and continuous targets"
     ]
    }
   ],
   "source": [
    "from sklearn.metrics import precision_recall_curve\n",
    "from sklearn.metrics import f1_score\n",
    "from sklearn.metrics import auc\n",
    "from sklearn.metrics import average_precision_score\n",
    "prec_NN1log, recall_NN1log, th_prec= precision_recall_curve(y,p1)\n",
    "print(\"precision:\",prec_NN1log)\n",
    "print(\"recall:\", recall_NN1log)\n",
    "\n",
    "f1_NN1log = f1_score(y, p1)\n",
    "auc_pr = auc(recall_NN1log, precision_NN1log)\n",
    "# calculate average precision score\n",
    "ap = average_precision_score(y, p1)\n",
    "print('f1=%.3f auc=%.3f ap=%.3f' % (f1, auc, ap))\n",
    "# plot no skill\n",
    "pyplot.plot([0, 1], [0.5, 0.5], linestyle='--')\n",
    "# plot the precision-recall curve for the model\n",
    "pyplot.plot(recall, precision, marker='.')\n",
    "# show the plot\n",
    "pyplot.show()\n",
    "# fpr2, tpr2, thresholds2 = roc_curve(y,p2)\n",
    "# fpr3, tpr3, thresholds3 = roc_curve(y,p3)"
   ]
  },
  {
   "cell_type": "code",
   "execution_count": null,
   "metadata": {},
   "outputs": [],
   "source": []
  }
 ],
 "metadata": {
  "kernelspec": {
   "display_name": "Python 3",
   "language": "python",
   "name": "python3"
  },
  "language_info": {
   "codemirror_mode": {
    "name": "ipython",
    "version": 3
   },
   "file_extension": ".py",
   "mimetype": "text/x-python",
   "name": "python",
   "nbconvert_exporter": "python",
   "pygments_lexer": "ipython3",
   "version": "3.7.2"
  }
 },
 "nbformat": 4,
 "nbformat_minor": 2
}
