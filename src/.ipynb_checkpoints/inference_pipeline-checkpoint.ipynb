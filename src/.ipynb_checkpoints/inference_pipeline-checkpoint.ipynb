{
 "cells": [
  {
   "cell_type": "code",
   "execution_count": null,
   "metadata": {},
   "outputs": [],
   "source": [
    "import keras\n",
    "import numpy as np\n",
    "import tensorflow as tf\n",
    "import glob\n",
    "\n",
    "from audioset import vggish_embeddings\n",
    "\n",
    "# add time here\n",
    "audio_embedder = vggish_embeddings.VGGishEmbedder(None)\n",
    "\n",
    "processed_embedding =  audio_embedder.convert_audio_to_embedding('sample_gunshot.wav')\n",
    "\n",
    "embedding_final = np.expand_dims(processed_embedding, axis=0)\n",
    "\n",
    "model = keras.models.load_model('Models/LSTM_ThreeLayer_100Epochs.h5')\n",
    "\n",
    "prediction = model.predict(embedding_final)\n",
    "\n",
    "# add time here == this would be your inference time "
   ]
  }
 ],
 "metadata": {
  "kernelspec": {
   "display_name": "Python 3",
   "language": "python",
   "name": "python3"
  },
  "language_info": {
   "codemirror_mode": {
    "name": "ipython",
    "version": 3
   },
   "file_extension": ".py",
   "mimetype": "text/x-python",
   "name": "python",
   "nbconvert_exporter": "python",
   "pygments_lexer": "ipython3",
   "version": "3.7.2"
  }
 },
 "nbformat": 4,
 "nbformat_minor": 2
}
